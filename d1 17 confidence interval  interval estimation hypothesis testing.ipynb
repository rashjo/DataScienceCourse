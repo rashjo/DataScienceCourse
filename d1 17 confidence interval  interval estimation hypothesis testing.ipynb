{
 "cells": [
  {
   "cell_type": "markdown",
   "id": "e7acf7f4",
   "metadata": {},
   "source": [
    "## Confidence interval & interval estimation"
   ]
  },
  {
   "cell_type": "code",
   "execution_count": 1,
   "id": "a273672e",
   "metadata": {},
   "outputs": [
    {
     "name": "stdout",
     "output_type": "stream",
     "text": [
      "2901.6\n",
      "192.3018460649819\n",
      "60.81118318204308\n"
     ]
    }
   ],
   "source": [
    "import numpy as np\n",
    "import statistics as st\n",
    "a = np.array([2901,2876,2965,3241,2851,3103,2836,2761,2958,2524])\n",
    "print(np.mean(a))\n",
    "print(st.stdev(a))\n",
    "print(st.stdev(a)/np.sqrt(10))"
   ]
  },
  {
   "cell_type": "code",
   "execution_count": 2,
   "id": "66993ba6",
   "metadata": {},
   "outputs": [
    {
     "name": "stdout",
     "output_type": "stream",
     "text": [
      "2.2621571627409915\n",
      "2764.0346370672364 3039.1653629327634\n"
     ]
    }
   ],
   "source": [
    "import scipy\n",
    "from scipy import stats\n",
    "import numpy as np\n",
    "import statistics as st\n",
    "\n",
    "data = [2901,2876,2965,3241,2851,3103,2836,2761,2958,2524]\n",
    "\n",
    "n = len(data)\n",
    "m =  np.mean(data)\n",
    "se = st.stdev(data)\n",
    "sem = se/np.sqrt(n)\n",
    "\n",
    "boundary=scipy.stats.t._ppf(0.975, n-1)\n",
    "print(boundary)\n",
    "print(m-boundary*sem,m+boundary*sem)\n"
   ]
  },
  {
   "cell_type": "markdown",
   "id": "762df582",
   "metadata": {},
   "source": [
    "### to find boundary value : x +- boundary * s\n",
    "t distribution  \n",
    "z distribution "
   ]
  },
  {
   "cell_type": "code",
   "execution_count": 3,
   "id": "0936e335",
   "metadata": {
    "scrolled": true
   },
   "outputs": [
    {
     "name": "stdout",
     "output_type": "stream",
     "text": [
      "2.093024054408263\n",
      "1.729132811521367\n"
     ]
    }
   ],
   "source": [
    "#t distribution\n",
    "import scipy\n",
    "n=20\n",
    "print(scipy.stats.t.ppf(0.975, n-1)) #95% confidence level, n-1:degree of freedom\n",
    "print(scipy.stats.t.ppf(0.95, n-1)) #90% confidence level"
   ]
  },
  {
   "cell_type": "code",
   "execution_count": 4,
   "id": "d94f5f90",
   "metadata": {},
   "outputs": [
    {
     "name": "stdout",
     "output_type": "stream",
     "text": [
      "2.093024054408263\n",
      "1.729132811521367\n"
     ]
    }
   ],
   "source": [
    "#t distribution\n",
    "from scipy import stats\n",
    "n=20\n",
    "print(stats.t.ppf(0.975, n-1)) #95% confidence level\n",
    "print(stats.t.ppf(0.95, n-1)) #90% confidence level"
   ]
  },
  {
   "cell_type": "code",
   "execution_count": 5,
   "id": "34b4f684",
   "metadata": {},
   "outputs": [
    {
     "name": "stdout",
     "output_type": "stream",
     "text": [
      "1.959963984540054\n",
      "1.6448536269514722\n",
      "2.5758293035489004\n"
     ]
    }
   ],
   "source": [
    "#z distribution , standard normal\n",
    "import scipy\n",
    "print(scipy.stats.norm.ppf(.975)) #95% confidence level, norm:normal\n",
    "print(scipy.stats.norm.ppf(.95)) #90% confidence level 90+(100-90/2)\n",
    "print(scipy.stats.norm.ppf(.995)) #99% confidence level 99+(100-99/2=0.5)"
   ]
  },
  {
   "cell_type": "code",
   "execution_count": 6,
   "id": "9f1994ad",
   "metadata": {},
   "outputs": [
    {
     "name": "stdout",
     "output_type": "stream",
     "text": [
      "1.959963984540054\n",
      "1.6448536269514722\n",
      "2.5758293035489004\n"
     ]
    }
   ],
   "source": [
    "#z distribution , standard normal\n",
    "from scipy import stats\n",
    "print(stats.norm.ppf(.975)) #95% confidence level, norm:normal\n",
    "print(stats.norm.ppf(.95)) #90% confidence level 90+(100-90/2)\n",
    "print(stats.norm.ppf(.995)) #99% confidence level 99+(100-99/2=0.5)"
   ]
  },
  {
   "cell_type": "code",
   "execution_count": null,
   "id": "68be3b00",
   "metadata": {},
   "outputs": [],
   "source": []
  },
  {
   "cell_type": "markdown",
   "id": "a2cd0e54",
   "metadata": {},
   "source": [
    "## 02_ADS.pdf Hypothesis testing\n",
    "pg19"
   ]
  },
  {
   "cell_type": "markdown",
   "id": "03e4c20b",
   "metadata": {},
   "source": [
    "-Straw example - 1- left sided pg19  \n",
    "Hypothesis testing for mean (Z test)  \n",
    "A company has stated that their straw machine makes straw that are 5mm diameter. A worker believes the machine makes straw smaller than this size and samples 100 straws to perform a hypothesis test with 95% confidence. The sample mean and standard deviation are 5.3mm and 1.2mm."
   ]
  },
  {
   "cell_type": "code",
   "execution_count": 7,
   "id": "dfe7e247",
   "metadata": {},
   "outputs": [
    {
     "name": "stdout",
     "output_type": "stream",
     "text": [
      "boundary= 1.6448536269514722\n",
      "z-statistic = 2.4999999999999987\n"
     ]
    }
   ],
   "source": [
    "#Straw example - 1- right sided\n",
    "# claim larger than\n",
    "import scipy.stats as st\n",
    "import numpy as np\n",
    "n=100\n",
    "mean=5.3\n",
    "std_dev=1.2\n",
    "mu=5\n",
    "\n",
    "boundary=st.norm.ppf(.95)\n",
    "z_statistic=(mean-mu)/(std_dev/np.sqrt(n))\n",
    "\n",
    "print('boundary=',boundary)\n",
    "print('z-statistic =',z_statistic)\n",
    "\n",
    "# 2.49 = reject"
   ]
  },
  {
   "cell_type": "code",
   "execution_count": 8,
   "id": "f67bc38d",
   "metadata": {},
   "outputs": [
    {
     "name": "stdout",
     "output_type": "stream",
     "text": [
      "boundary= 1.959963984540054\n",
      "z-statistic = 2.4999999999999987\n"
     ]
    }
   ],
   "source": [
    "#Straw example - 2-sided\n",
    "# if claim no longer ...\n",
    "import scipy.stats as st\n",
    "import numpy as np\n",
    "n=100\n",
    "mean=5.3\n",
    "std_dev=1.2\n",
    "mu=5\n",
    "\n",
    "boundary=st.norm.ppf(.975) #we use 95%, 2-sided test -->95 +-(100-95/2)\n",
    "z_statistic=(mean-mu)/(std_dev/np.sqrt(n))\n",
    "\n",
    "print('boundary=',boundary)\n",
    "print('z-statistic =',z_statistic)\n",
    "\n",
    "# z-statistic = 2.49 larger than boundary= 1.95 at rejection area\n",
    "# reject"
   ]
  },
  {
   "cell_type": "code",
   "execution_count": 9,
   "id": "e2619797",
   "metadata": {},
   "outputs": [
    {
     "name": "stdout",
     "output_type": "stream",
     "text": [
      "boundary= -1.6448536269514722\n",
      "z-statistic = 2.4999999999999987\n"
     ]
    }
   ],
   "source": [
    "#Straw example - 1- left sided\n",
    "# if claim less than\n",
    "import scipy.stats as st\n",
    "import numpy as np\n",
    "n=100\n",
    "mean=5.3\n",
    "std_dev=1.2\n",
    "mu=5\n",
    "\n",
    "boundary=-st.norm.ppf(.95) # -st (put negative here)\n",
    "z_statistic=(mean-mu)/(std_dev/np.sqrt(n))\n",
    "\n",
    "print('boundary=',boundary)\n",
    "print('z-statistic =',z_statistic)"
   ]
  },
  {
   "cell_type": "code",
   "execution_count": 11,
   "id": "9509d2a5",
   "metadata": {},
   "outputs": [
    {
     "name": "stdout",
     "output_type": "stream",
     "text": [
      "boundary= -1.6448536269514729\n",
      "z-statistic = 2.4999999999999987\n"
     ]
    }
   ],
   "source": [
    "# cara 2\n",
    "#Straw example - 1- left sided\n",
    "# if claim less than\n",
    "import scipy.stats as st\n",
    "import numpy as np\n",
    "n=100\n",
    "mean=5.3\n",
    "std_dev=1.2\n",
    "mu=5\n",
    "\n",
    "boundary=st.norm.ppf(.05) # -st (put negative here)\n",
    "z_statistic=(mean-mu)/(std_dev/np.sqrt(n))\n",
    "\n",
    "print('boundary=',boundary)\n",
    "print('z-statistic =',z_statistic)"
   ]
  }
 ],
 "metadata": {
  "kernelspec": {
   "display_name": "Python 3 (ipykernel)",
   "language": "python",
   "name": "python3"
  },
  "language_info": {
   "codemirror_mode": {
    "name": "ipython",
    "version": 3
   },
   "file_extension": ".py",
   "mimetype": "text/x-python",
   "name": "python",
   "nbconvert_exporter": "python",
   "pygments_lexer": "ipython3",
   "version": "3.9.12"
  }
 },
 "nbformat": 4,
 "nbformat_minor": 5
}
