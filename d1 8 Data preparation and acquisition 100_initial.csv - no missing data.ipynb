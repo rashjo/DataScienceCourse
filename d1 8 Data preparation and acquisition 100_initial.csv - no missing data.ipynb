{
 "cells": [
  {
   "cell_type": "code",
   "execution_count": 1,
   "id": "1ee21a33",
   "metadata": {},
   "outputs": [],
   "source": [
    "#import libraries\n",
    "import numpy as np\n",
    "import matplotlib.pyplot as plt\n",
    "import pandas as pd"
   ]
  },
  {
   "cell_type": "code",
   "execution_count": 2,
   "id": "da17581d",
   "metadata": {},
   "outputs": [],
   "source": [
    "#import dataset\n",
    "dataset = pd.read_csv('100_initial.csv')"
   ]
  },
  {
   "cell_type": "code",
   "execution_count": 3,
   "id": "b067271a",
   "metadata": {},
   "outputs": [
    {
     "data": {
      "text/html": [
       "<div>\n",
       "<style scoped>\n",
       "    .dataframe tbody tr th:only-of-type {\n",
       "        vertical-align: middle;\n",
       "    }\n",
       "\n",
       "    .dataframe tbody tr th {\n",
       "        vertical-align: top;\n",
       "    }\n",
       "\n",
       "    .dataframe thead th {\n",
       "        text-align: right;\n",
       "    }\n",
       "</style>\n",
       "<table border=\"1\" class=\"dataframe\">\n",
       "  <thead>\n",
       "    <tr style=\"text-align: right;\">\n",
       "      <th></th>\n",
       "      <th>country</th>\n",
       "      <th>Age</th>\n",
       "      <th>Weight</th>\n",
       "      <th>Sleep before 10pm</th>\n",
       "    </tr>\n",
       "  </thead>\n",
       "  <tbody>\n",
       "    <tr>\n",
       "      <th>0</th>\n",
       "      <td>China</td>\n",
       "      <td>39</td>\n",
       "      <td>33</td>\n",
       "      <td>True</td>\n",
       "    </tr>\n",
       "    <tr>\n",
       "      <th>1</th>\n",
       "      <td>Philippines</td>\n",
       "      <td>49</td>\n",
       "      <td>47</td>\n",
       "      <td>False</td>\n",
       "    </tr>\n",
       "    <tr>\n",
       "      <th>2</th>\n",
       "      <td>China</td>\n",
       "      <td>44</td>\n",
       "      <td>39</td>\n",
       "      <td>False</td>\n",
       "    </tr>\n",
       "    <tr>\n",
       "      <th>3</th>\n",
       "      <td>China</td>\n",
       "      <td>39</td>\n",
       "      <td>78</td>\n",
       "      <td>False</td>\n",
       "    </tr>\n",
       "    <tr>\n",
       "      <th>4</th>\n",
       "      <td>China</td>\n",
       "      <td>29</td>\n",
       "      <td>36</td>\n",
       "      <td>False</td>\n",
       "    </tr>\n",
       "  </tbody>\n",
       "</table>\n",
       "</div>"
      ],
      "text/plain": [
       "       country  Age  Weight  Sleep before 10pm\n",
       "0        China   39      33               True\n",
       "1  Philippines   49      47              False\n",
       "2        China   44      39              False\n",
       "3        China   39      78              False\n",
       "4        China   29      36              False"
      ]
     },
     "execution_count": 3,
     "metadata": {},
     "output_type": "execute_result"
    }
   ],
   "source": [
    "dataset.head()"
   ]
  },
  {
   "cell_type": "code",
   "execution_count": 5,
   "id": "b892b99e",
   "metadata": {},
   "outputs": [
    {
     "data": {
      "text/plain": [
       "(100, 4)"
      ]
     },
     "execution_count": 5,
     "metadata": {},
     "output_type": "execute_result"
    }
   ],
   "source": [
    "dataset.shape"
   ]
  },
  {
   "cell_type": "code",
   "execution_count": 4,
   "id": "ad67f5ee",
   "metadata": {},
   "outputs": [
    {
     "name": "stdout",
     "output_type": "stream",
     "text": [
      "<class 'pandas.core.frame.DataFrame'>\n",
      "RangeIndex: 100 entries, 0 to 99\n",
      "Data columns (total 4 columns):\n",
      " #   Column             Non-Null Count  Dtype \n",
      "---  ------             --------------  ----- \n",
      " 0   country            100 non-null    object\n",
      " 1   Age                100 non-null    int64 \n",
      " 2   Weight             100 non-null    int64 \n",
      " 3   Sleep before 10pm  100 non-null    bool  \n",
      "dtypes: bool(1), int64(2), object(1)\n",
      "memory usage: 2.6+ KB\n"
     ]
    }
   ],
   "source": [
    "# check missing data\n",
    "# check categorical data\n",
    "dataset.info()"
   ]
  },
  {
   "cell_type": "code",
   "execution_count": 6,
   "id": "387c2297",
   "metadata": {},
   "outputs": [
    {
     "data": {
      "text/html": [
       "<div>\n",
       "<style scoped>\n",
       "    .dataframe tbody tr th:only-of-type {\n",
       "        vertical-align: middle;\n",
       "    }\n",
       "\n",
       "    .dataframe tbody tr th {\n",
       "        vertical-align: top;\n",
       "    }\n",
       "\n",
       "    .dataframe thead th {\n",
       "        text-align: right;\n",
       "    }\n",
       "</style>\n",
       "<table border=\"1\" class=\"dataframe\">\n",
       "  <thead>\n",
       "    <tr style=\"text-align: right;\">\n",
       "      <th></th>\n",
       "      <th>Age</th>\n",
       "      <th>Weight</th>\n",
       "    </tr>\n",
       "  </thead>\n",
       "  <tbody>\n",
       "    <tr>\n",
       "      <th>count</th>\n",
       "      <td>100.000000</td>\n",
       "      <td>100.000000</td>\n",
       "    </tr>\n",
       "    <tr>\n",
       "      <th>mean</th>\n",
       "      <td>32.760000</td>\n",
       "      <td>69.310000</td>\n",
       "    </tr>\n",
       "    <tr>\n",
       "      <th>std</th>\n",
       "      <td>9.672537</td>\n",
       "      <td>26.780324</td>\n",
       "    </tr>\n",
       "    <tr>\n",
       "      <th>min</th>\n",
       "      <td>18.000000</td>\n",
       "      <td>31.000000</td>\n",
       "    </tr>\n",
       "    <tr>\n",
       "      <th>25%</th>\n",
       "      <td>24.000000</td>\n",
       "      <td>45.750000</td>\n",
       "    </tr>\n",
       "    <tr>\n",
       "      <th>50%</th>\n",
       "      <td>33.000000</td>\n",
       "      <td>65.500000</td>\n",
       "    </tr>\n",
       "    <tr>\n",
       "      <th>75%</th>\n",
       "      <td>41.000000</td>\n",
       "      <td>91.250000</td>\n",
       "    </tr>\n",
       "    <tr>\n",
       "      <th>max</th>\n",
       "      <td>50.000000</td>\n",
       "      <td>120.000000</td>\n",
       "    </tr>\n",
       "  </tbody>\n",
       "</table>\n",
       "</div>"
      ],
      "text/plain": [
       "              Age      Weight\n",
       "count  100.000000  100.000000\n",
       "mean    32.760000   69.310000\n",
       "std      9.672537   26.780324\n",
       "min     18.000000   31.000000\n",
       "25%     24.000000   45.750000\n",
       "50%     33.000000   65.500000\n",
       "75%     41.000000   91.250000\n",
       "max     50.000000  120.000000"
      ]
     },
     "execution_count": 6,
     "metadata": {},
     "output_type": "execute_result"
    }
   ],
   "source": [
    "dataset.describe()"
   ]
  },
  {
   "cell_type": "code",
   "execution_count": 7,
   "id": "44a9dda9",
   "metadata": {},
   "outputs": [
    {
     "name": "stdout",
     "output_type": "stream",
     "text": [
      "[['China' 39 33]\n",
      " ['Philippines' 49 47]\n",
      " ['China' 44 39]\n",
      " ['China' 39 78]\n",
      " ['China' 29 36]\n",
      " ['Indonesia' 34 93]\n",
      " ['Philippines' 33 57]\n",
      " ['Philippines' 26 31]\n",
      " ['China' 33 35]\n",
      " ['China' 41 40]\n",
      " ['China' 35 66]\n",
      " ['Indonesia' 39 116]\n",
      " ['Indonesia' 19 44]\n",
      " ['China' 46 50]\n",
      " ['China' 19 91]\n",
      " ['China' 24 36]\n",
      " ['China' 41 113]\n",
      " ['Indonesia' 23 89]\n",
      " ['Indonesia' 21 90]\n",
      " ['China' 28 50]\n",
      " ['Indonesia' 37 93]\n",
      " ['China' 27 38]\n",
      " ['China' 19 65]\n",
      " ['China' 20 105]\n",
      " ['Indonesia' 23 91]\n",
      " ['China' 43 57]\n",
      " ['Philippines' 19 84]\n",
      " ['China' 34 39]\n",
      " ['Indonesia' 24 32]\n",
      " ['Philippines' 27 79]\n",
      " ['China' 48 92]\n",
      " ['China' 37 78]\n",
      " ['China' 18 35]\n",
      " ['China' 41 91]\n",
      " ['Indonesia' 32 44]\n",
      " ['China' 19 96]\n",
      " ['China' 27 101]\n",
      " ['China' 26 39]\n",
      " ['China' 29 39]\n",
      " ['Philippines' 27 43]\n",
      " ['China' 37 34]\n",
      " ['China' 46 85]\n",
      " ['China' 21 64]\n",
      " ['Indonesia' 33 82]\n",
      " ['China' 18 71]\n",
      " ['China' 24 50]\n",
      " ['China' 41 92]\n",
      " ['Philippines' 36 53]\n",
      " ['Indonesia' 45 78]\n",
      " ['China' 43 61]\n",
      " ['Philippines' 34 60]\n",
      " ['China' 41 100]\n",
      " ['China' 30 35]\n",
      " ['Indonesia' 41 75]\n",
      " ['Malaysia' 49 51]\n",
      " ['Philippines' 40 52]\n",
      " ['China' 48 89]\n",
      " ['China' 19 116]\n",
      " ['Malaysia' 32 80]\n",
      " ['Indonesia' 44 72]\n",
      " ['Malaysia' 24 45]\n",
      " ['Indonesia' 20 35]\n",
      " ['China' 44 61]\n",
      " ['Philippines' 31 97]\n",
      " ['China' 21 81]\n",
      " ['Malaysia' 42 60]\n",
      " ['China' 48 115]\n",
      " ['Indonesia' 28 58]\n",
      " ['Philippines' 25 86]\n",
      " ['Indonesia' 27 67]\n",
      " ['Indonesia' 33 46]\n",
      " ['Japan' 27 85]\n",
      " ['China' 27 40]\n",
      " ['China' 24 47]\n",
      " ['China' 26 50]\n",
      " ['China' 43 104]\n",
      " ['Philippines' 38 38]\n",
      " ['Philippines' 50 47]\n",
      " ['Indonesia' 21 112]\n",
      " ['China' 24 51]\n",
      " ['Indonesia' 38 115]\n",
      " ['Malaysia' 46 33]\n",
      " ['China' 47 48]\n",
      " ['China' 43 93]\n",
      " ['Philippines' 46 92]\n",
      " ['Philippines' 19 85]\n",
      " ['Indonesia' 26 105]\n",
      " ['China' 30 33]\n",
      " ['Philippines' 33 102]\n",
      " ['China' 20 47]\n",
      " ['China' 37 107]\n",
      " ['Indonesia' 44 120]\n",
      " ['China' 19 55]\n",
      " ['Philippines' 41 40]\n",
      " ['China' 47 107]\n",
      " ['China' 22 111]\n",
      " ['China' 44 114]\n",
      " ['China' 28 50]\n",
      " ['China' 21 86]\n",
      " ['Philippines' 41 88]]\n",
      "[ True False False False False False False  True  True False False False\n",
      "  True False False  True False  True  True False  True  True False  True\n",
      " False False False  True  True False  True  True False False  True False\n",
      "  True False False False False False False False False False False  True\n",
      " False  True False False False False  True  True  True  True  True  True\n",
      " False False False  True False  True False  True False  True False False\n",
      " False False  True  True False  True False False False False  True False\n",
      " False  True  True  True  True  True False  True False  True  True  True\n",
      " False  True  True  True]\n"
     ]
    }
   ],
   "source": [
    "# define input and output\n",
    "# for location, always use [] bracket\n",
    "#X = dataset.iloc[:,:-1].values\n",
    "#X = dataset.iloc[:,0:3].values\n",
    "#X = dataset.iloc[:,0:3:1].values\n",
    "X = dataset.iloc[:,[0,1,2]].values\n",
    "print(X)\n",
    "\n",
    "y = dataset.iloc[:, 3].values\n",
    "#y = dataset.iloc[:, -1].values\n",
    "print(y)"
   ]
  },
  {
   "cell_type": "code",
   "execution_count": null,
   "id": "97a6c25d",
   "metadata": {},
   "outputs": [],
   "source": [
    "# df.iloc[:,-1] it means only last column\n",
    "# df.iloc[:,:-1] mean all but not include last column"
   ]
  },
  {
   "cell_type": "code",
   "execution_count": null,
   "id": "3583510f",
   "metadata": {},
   "outputs": [],
   "source": [
    "# import dataset without header\n",
    "df = pd.read_csv('100_initial.csv', header = None)"
   ]
  },
  {
   "cell_type": "code",
   "execution_count": null,
   "id": "2a23b02d",
   "metadata": {},
   "outputs": [],
   "source": []
  },
  {
   "cell_type": "code",
   "execution_count": null,
   "id": "352ec65d",
   "metadata": {},
   "outputs": [],
   "source": []
  },
  {
   "cell_type": "code",
   "execution_count": null,
   "id": "9aba787b",
   "metadata": {},
   "outputs": [],
   "source": []
  },
  {
   "cell_type": "code",
   "execution_count": null,
   "id": "53e8d73b",
   "metadata": {},
   "outputs": [],
   "source": []
  },
  {
   "cell_type": "code",
   "execution_count": null,
   "id": "972e9182",
   "metadata": {},
   "outputs": [],
   "source": []
  },
  {
   "cell_type": "code",
   "execution_count": null,
   "id": "2aa2c438",
   "metadata": {},
   "outputs": [],
   "source": []
  },
  {
   "cell_type": "code",
   "execution_count": null,
   "id": "98c19c65",
   "metadata": {},
   "outputs": [],
   "source": []
  },
  {
   "cell_type": "code",
   "execution_count": null,
   "id": "e69bb4de",
   "metadata": {},
   "outputs": [],
   "source": []
  },
  {
   "cell_type": "code",
   "execution_count": null,
   "id": "d263d6c2",
   "metadata": {},
   "outputs": [],
   "source": []
  }
 ],
 "metadata": {
  "kernelspec": {
   "display_name": "Python 3 (ipykernel)",
   "language": "python",
   "name": "python3"
  },
  "language_info": {
   "codemirror_mode": {
    "name": "ipython",
    "version": 3
   },
   "file_extension": ".py",
   "mimetype": "text/x-python",
   "name": "python",
   "nbconvert_exporter": "python",
   "pygments_lexer": "ipython3",
   "version": "3.9.12"
  }
 },
 "nbformat": 4,
 "nbformat_minor": 5
}
