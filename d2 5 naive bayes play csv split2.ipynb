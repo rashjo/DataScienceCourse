{
 "cells": [
  {
   "cell_type": "markdown",
   "id": "0eb4a783",
   "metadata": {},
   "source": [
    "# Naive Bayes Classification"
   ]
  },
  {
   "cell_type": "code",
   "execution_count": 1,
   "id": "02a3b699",
   "metadata": {},
   "outputs": [],
   "source": [
    "#import libraries\n",
    "import numpy as np\n",
    "import pandas as pd"
   ]
  },
  {
   "cell_type": "code",
   "execution_count": 2,
   "id": "f6da4225",
   "metadata": {},
   "outputs": [
    {
     "data": {
      "text/html": [
       "<div>\n",
       "<style scoped>\n",
       "    .dataframe tbody tr th:only-of-type {\n",
       "        vertical-align: middle;\n",
       "    }\n",
       "\n",
       "    .dataframe tbody tr th {\n",
       "        vertical-align: top;\n",
       "    }\n",
       "\n",
       "    .dataframe thead th {\n",
       "        text-align: right;\n",
       "    }\n",
       "</style>\n",
       "<table border=\"1\" class=\"dataframe\">\n",
       "  <thead>\n",
       "    <tr style=\"text-align: right;\">\n",
       "      <th></th>\n",
       "      <th>outlook</th>\n",
       "      <th>temperature</th>\n",
       "      <th>humidity</th>\n",
       "      <th>windy</th>\n",
       "      <th>Play(Y/N)</th>\n",
       "    </tr>\n",
       "  </thead>\n",
       "  <tbody>\n",
       "    <tr>\n",
       "      <th>0</th>\n",
       "      <td>Sunny</td>\n",
       "      <td>Hot</td>\n",
       "      <td>High</td>\n",
       "      <td>False</td>\n",
       "      <td>No</td>\n",
       "    </tr>\n",
       "    <tr>\n",
       "      <th>1</th>\n",
       "      <td>Sunny</td>\n",
       "      <td>Hot</td>\n",
       "      <td>High</td>\n",
       "      <td>True</td>\n",
       "      <td>No</td>\n",
       "    </tr>\n",
       "    <tr>\n",
       "      <th>2</th>\n",
       "      <td>Rainy</td>\n",
       "      <td>Mild</td>\n",
       "      <td>High</td>\n",
       "      <td>False</td>\n",
       "      <td>Yes</td>\n",
       "    </tr>\n",
       "    <tr>\n",
       "      <th>3</th>\n",
       "      <td>Rainy</td>\n",
       "      <td>Cool</td>\n",
       "      <td>Normal</td>\n",
       "      <td>False</td>\n",
       "      <td>Yes</td>\n",
       "    </tr>\n",
       "    <tr>\n",
       "      <th>4</th>\n",
       "      <td>Rainy</td>\n",
       "      <td>Cool</td>\n",
       "      <td>Normal</td>\n",
       "      <td>True</td>\n",
       "      <td>No</td>\n",
       "    </tr>\n",
       "  </tbody>\n",
       "</table>\n",
       "</div>"
      ],
      "text/plain": [
       "  outlook temperature humidity  windy Play(Y/N)\n",
       "0   Sunny         Hot     High  False        No\n",
       "1   Sunny         Hot     High   True        No\n",
       "2   Rainy        Mild     High  False       Yes\n",
       "3   Rainy        Cool   Normal  False       Yes\n",
       "4   Rainy        Cool   Normal   True        No"
      ]
     },
     "execution_count": 2,
     "metadata": {},
     "output_type": "execute_result"
    }
   ],
   "source": [
    "#import dataset\n",
    "ds=pd.read_csv('play.csv')\n",
    "ds.head()"
   ]
  },
  {
   "cell_type": "code",
   "execution_count": 3,
   "id": "987b7ffb",
   "metadata": {},
   "outputs": [
    {
     "name": "stdout",
     "output_type": "stream",
     "text": [
      "<class 'pandas.core.frame.DataFrame'>\n",
      "RangeIndex: 10 entries, 0 to 9\n",
      "Data columns (total 5 columns):\n",
      " #   Column       Non-Null Count  Dtype \n",
      "---  ------       --------------  ----- \n",
      " 0   outlook      10 non-null     object\n",
      " 1   temperature  10 non-null     object\n",
      " 2   humidity     10 non-null     object\n",
      " 3   windy        10 non-null     bool  \n",
      " 4   Play(Y/N)    10 non-null     object\n",
      "dtypes: bool(1), object(4)\n",
      "memory usage: 458.0+ bytes\n"
     ]
    }
   ],
   "source": [
    "ds.info()"
   ]
  },
  {
   "cell_type": "code",
   "execution_count": 4,
   "id": "a10eab0f",
   "metadata": {},
   "outputs": [],
   "source": [
    "#x=ds.iloc[:,[0,1,2,3]].values  == x=ds.iloc[:,:-1].values\n",
    "#x=ds.iloc[:,0:4].values  ==  x=ds.iloc[:,:-1].values\n",
    "#x=ds.iloc[:,:4].values  ==  x=ds.iloc[:,:-1].values\n",
    "x=ds.iloc[:,:-1].values\n",
    "y=ds.iloc[:,4].values"
   ]
  },
  {
   "cell_type": "code",
   "execution_count": 5,
   "id": "73683660",
   "metadata": {},
   "outputs": [
    {
     "data": {
      "text/plain": [
       "array(['Sunny', 'Rainy'], dtype=object)"
      ]
     },
     "execution_count": 5,
     "metadata": {},
     "output_type": "execute_result"
    }
   ],
   "source": [
    "pd.unique(ds['outlook'])"
   ]
  },
  {
   "cell_type": "code",
   "execution_count": 6,
   "id": "abc9b9f9",
   "metadata": {},
   "outputs": [
    {
     "name": "stdout",
     "output_type": "stream",
     "text": [
      "0 ['Rainy', 'Sunny']\n",
      "1 ['Cool', 'Hot', 'Mild']\n",
      "2 ['High', 'Normal']\n",
      "3 [False, True]\n"
     ]
    }
   ],
   "source": [
    "#set is to get unique data, then make it into list follow by sort\n",
    "#after sort, data in sequence 0,1,2\n",
    "i=0\n",
    "for i in range(0,4):\n",
    "    d=list(set(ds.iloc[:, i].values))\n",
    "    d.sort()\n",
    "    print(i,d)\n",
    "    i=i+1\n",
    "    \n",
    "# option 2\n",
    "# pd.unique(ds['outlook'])"
   ]
  },
  {
   "cell_type": "code",
   "execution_count": 7,
   "id": "77e3dd1a",
   "metadata": {},
   "outputs": [
    {
     "name": "stdout",
     "output_type": "stream",
     "text": [
      "[[1 1 0 0]\n",
      " [1 1 0 1]\n",
      " [0 2 0 0]\n",
      " [0 0 1 0]\n",
      " [0 0 1 1]\n",
      " [1 2 0 0]\n",
      " [1 0 1 0]\n",
      " [0 2 1 0]\n",
      " [1 2 1 1]\n",
      " [0 2 0 1]]\n"
     ]
    }
   ],
   "source": [
    "#Handling or Encode categorical variables\n",
    "from sklearn.preprocessing import LabelEncoder\n",
    "labelencoder_X = LabelEncoder()\n",
    "x[:, 0] = labelencoder_X.fit_transform(x[:, 0])\n",
    "x[:, 1] = labelencoder_X.fit_transform(x[:, 1])\n",
    "x[:, 2] = labelencoder_X.fit_transform(x[:, 2])\n",
    "x[:, 3] = labelencoder_X.fit_transform(x[:, 3])\n",
    "print(x)"
   ]
  },
  {
   "cell_type": "code",
   "execution_count": 8,
   "id": "bb77f6e9",
   "metadata": {},
   "outputs": [],
   "source": [
    "# split here"
   ]
  },
  {
   "cell_type": "code",
   "execution_count": 9,
   "id": "a8fd1b59",
   "metadata": {},
   "outputs": [],
   "source": [
    "#splitting the dataset into training and test sets\n",
    "from sklearn.model_selection import train_test_split\n",
    "x_train, x_test, y_train, y_test = train_test_split(x, y, test_size = 0.2, random_state = 0)"
   ]
  },
  {
   "cell_type": "code",
   "execution_count": 10,
   "id": "216e1251",
   "metadata": {},
   "outputs": [],
   "source": [
    "#fitting Naïve Bayes Classifier to the dataset \n",
    "from sklearn.naive_bayes import BernoulliNB\n",
    "classifier= BernoulliNB()\n",
    "\n",
    "classifier=classifier.fit(x_train,y_train)"
   ]
  },
  {
   "cell_type": "code",
   "execution_count": 11,
   "id": "3e7f3e05",
   "metadata": {},
   "outputs": [],
   "source": [
    "#Predict the test set results\n",
    "y_pred=classifier.predict(x_test)"
   ]
  },
  {
   "cell_type": "code",
   "execution_count": 12,
   "id": "0d2605a7",
   "metadata": {},
   "outputs": [
    {
     "data": {
      "text/plain": [
       "array([[0, 0],\n",
       "       [2, 0]], dtype=int64)"
      ]
     },
     "execution_count": 12,
     "metadata": {},
     "output_type": "execute_result"
    }
   ],
   "source": [
    "#Making Confusion Matrix – to check whether the test set gives the correct result\n",
    "from sklearn.metrics import confusion_matrix\n",
    "cm=confusion_matrix(y_test,y_pred)\n",
    "cm"
   ]
  },
  {
   "cell_type": "code",
   "execution_count": 13,
   "id": "e1f8433a",
   "metadata": {},
   "outputs": [
    {
     "name": "stdout",
     "output_type": "stream",
     "text": [
      "['No']\n"
     ]
    }
   ],
   "source": [
    "#Predict using classifier\n",
    "prediction=classifier.predict([[1, 0, 0, 0]])#sunny day,cool temperature, humidity high, windy false \n",
    "print(prediction)"
   ]
  },
  {
   "cell_type": "code",
   "execution_count": null,
   "id": "9a81a209",
   "metadata": {},
   "outputs": [],
   "source": []
  }
 ],
 "metadata": {
  "kernelspec": {
   "display_name": "Python 3 (ipykernel)",
   "language": "python",
   "name": "python3"
  },
  "language_info": {
   "codemirror_mode": {
    "name": "ipython",
    "version": 3
   },
   "file_extension": ".py",
   "mimetype": "text/x-python",
   "name": "python",
   "nbconvert_exporter": "python",
   "pygments_lexer": "ipython3",
   "version": "3.9.12"
  }
 },
 "nbformat": 4,
 "nbformat_minor": 5
}
