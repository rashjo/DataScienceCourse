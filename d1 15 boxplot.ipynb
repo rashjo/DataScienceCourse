{
 "cells": [
  {
   "cell_type": "code",
   "execution_count": 3,
   "id": "ec64e6f4",
   "metadata": {},
   "outputs": [
    {
     "data": {
      "text/plain": [
       "Text(0.5, 0, 'TV viewing times (hrs)')"
      ]
     },
     "execution_count": 3,
     "metadata": {},
     "output_type": "execute_result"
    },
    {
     "data": {
      "image/png": "[encoded data removed]",
      "text/plain": [
       "<Figure size 432x288 with 1 Axes>"
      ]
     },
     "metadata": {
      "needs_background": "light"
     },
     "output_type": "display_data"
    }
   ],
   "source": [
    "import matplotlib.pyplot as plt\n",
    "data = [5,16,21,26,30,31,32,35,38,66]\n",
    "plt.boxplot(data)\n",
    "plt.title('Boxplot')\n",
    "plt.xlabel('TV viewing times (hrs)')"
   ]
  },
  {
   "cell_type": "code",
   "execution_count": 2,
   "id": "6495ba0a",
   "metadata": {},
   "outputs": [
    {
     "name": "stdout",
     "output_type": "stream",
     "text": [
      "Q1= 22.25\n",
      "Q2= 30.5\n",
      "Q3= 34.25\n",
      "Upper limit= 52.25\n",
      "Lower limit= 4.25\n"
     ]
    }
   ],
   "source": [
    "import numpy as np\n",
    "#print(\"25th percentile:   \", np.percentile(data, 25))\n",
    "#print(\"Median:            \", np.median(data))\n",
    "#print(\"75th percentile:   \", np.percentile(data, 75))\n",
    "\n",
    "summary = np.percentile(data, [25, 50, 75])\n",
    "high_lim = summary[2] + 1.5 * (summary[2] - summary[0])\n",
    "low_lim = summary[0] - 1.5 * (summary[2] - summary[0])\n",
    "\n",
    "print (\"Q1=\",summary[0])\n",
    "print (\"Q2=\",summary[1])\n",
    "print (\"Q3=\",summary[2])\n",
    "print (\"Upper limit=\",high_lim)\n",
    "print (\"Lower limit=\",low_lim)"
   ]
  },
  {
   "cell_type": "markdown",
   "id": "f6fa5f74",
   "metadata": {},
   "source": []
  },
  {
   "cell_type": "markdown",
   "id": "85dac6d3",
   "metadata": {},
   "source": [
    "### Exercise:\n",
    "Two samples of 10 people(young people as one sample and old people as one sample) weekly viewing times, \n",
    "in hours is shown as below.\n",
    "Determine and interpret the quartiles for these data by using boxplot.\n",
    "\n",
    "Young people: [5,16,21,26,30,31,32,35,38,66]  \n",
    "Old people: [5,18,25,28,30,33,40,45,50,66]\n"
   ]
  },
  {
   "cell_type": "code",
   "execution_count": null,
   "id": "4e9ae923",
   "metadata": {},
   "outputs": [],
   "source": [
    "# Exercise box plot pg138\n",
    "import matplotlib.pyplot as plt\n",
    "data1 = [5,16,21,26,30,31,32,35,38,66]\n",
    "data2 = [5,18,25,28,30,33,40,45,50,66]\n",
    "plt.boxplot(x = [data1,data2])\n",
    "plt.title('Boxplot')\n",
    "plt.xlabel('TV viewing times (hrs)')"
   ]
  },
  {
   "cell_type": "code",
   "execution_count": 5,
   "id": "7f8b230f",
   "metadata": {},
   "outputs": [
    {
     "data": {
      "image/png": "[encoded data removed]",
      "text/plain": [
       "<Figure size 432x288 with 1 Axes>"
      ]
     },
     "metadata": {
      "needs_background": "light"
     },
     "output_type": "display_data"
    }
   ],
   "source": [
    "import matplotlib.pyplot as plt\n",
    "data = [5,16,21,26,30,31,32,35,38,66],[5,18,25,28,30,33,40,45,50,66]\n",
    "plt.boxplot(data)\n",
    "plt.title('Boxplot')\n",
    "plt.xlabel('TV viewing times (hrs)')\n",
    "plt.show()"
   ]
  },
  {
   "cell_type": "code",
   "execution_count": 6,
   "id": "5caaab7c",
   "metadata": {},
   "outputs": [
    {
     "data": {
      "text/plain": [
       "Text(0.5, 0, 'TV viewing times (hrs)')"
      ]
     },
     "execution_count": 6,
     "metadata": {},
     "output_type": "execute_result"
    },
    {
     "data": {
      "image/png": "[encoded data removed]",
      "text/plain": [
       "<Figure size 432x288 with 1 Axes>"
      ]
     },
     "metadata": {
      "needs_background": "light"
     },
     "output_type": "display_data"
    }
   ],
   "source": [
    "data_old = [5,16,21,26,30,31,32,35,38,66]\n",
    "data_young = [5,18,25,28,30,33,40,45,50,66]\n",
    "plt.boxplot([data_old,data_young])\n",
    "plt.title('Boxplot')\n",
    "plt.xlabel('TV viewing times (hrs)')"
   ]
  },
  {
   "cell_type": "code",
   "execution_count": null,
   "id": "584b271a",
   "metadata": {},
   "outputs": [],
   "source": []
  },
  {
   "cell_type": "code",
   "execution_count": null,
   "id": "94ecddda",
   "metadata": {},
   "outputs": [],
   "source": []
  }
 ],
 "metadata": {
  "kernelspec": {
   "display_name": "Python 3 (ipykernel)",
   "language": "python",
   "name": "python3"
  },
  "language_info": {
   "codemirror_mode": {
    "name": "ipython",
    "version": 3
   },
   "file_extension": ".py",
   "mimetype": "text/x-python",
   "name": "python",
   "nbconvert_exporter": "python",
   "pygments_lexer": "ipython3",
   "version": "3.9.12"
  }
 },
 "nbformat": 4,
 "nbformat_minor": 5
}
