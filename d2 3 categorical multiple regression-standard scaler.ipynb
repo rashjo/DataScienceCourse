{
 "cells": [
  {
   "cell_type": "code",
   "execution_count": 1,
   "id": "02a3b699",
   "metadata": {},
   "outputs": [],
   "source": [
    "#import libraries\n",
    "import numpy as np\n",
    "import matplotlib.pyplot as plt\n",
    "import pandas as pd"
   ]
  },
  {
   "cell_type": "code",
   "execution_count": 2,
   "id": "f6da4225",
   "metadata": {},
   "outputs": [
    {
     "data": {
      "text/html": [
       "<div>\n",
       "<style scoped>\n",
       "    .dataframe tbody tr th:only-of-type {\n",
       "        vertical-align: middle;\n",
       "    }\n",
       "\n",
       "    .dataframe tbody tr th {\n",
       "        vertical-align: top;\n",
       "    }\n",
       "\n",
       "    .dataframe thead th {\n",
       "        text-align: right;\n",
       "    }\n",
       "</style>\n",
       "<table border=\"1\" class=\"dataframe\">\n",
       "  <thead>\n",
       "    <tr style=\"text-align: right;\">\n",
       "      <th></th>\n",
       "      <th>S&amp;P department (spend)</th>\n",
       "      <th>Admin department(spend)</th>\n",
       "      <th>Operation department(spend)</th>\n",
       "      <th>state</th>\n",
       "      <th>Profit</th>\n",
       "    </tr>\n",
       "  </thead>\n",
       "  <tbody>\n",
       "    <tr>\n",
       "      <th>0</th>\n",
       "      <td>101184</td>\n",
       "      <td>70674</td>\n",
       "      <td>97009</td>\n",
       "      <td>A</td>\n",
       "      <td>259480</td>\n",
       "    </tr>\n",
       "    <tr>\n",
       "      <th>1</th>\n",
       "      <td>70132</td>\n",
       "      <td>52030</td>\n",
       "      <td>63587</td>\n",
       "      <td>B</td>\n",
       "      <td>137019</td>\n",
       "    </tr>\n",
       "    <tr>\n",
       "      <th>2</th>\n",
       "      <td>149539</td>\n",
       "      <td>98535</td>\n",
       "      <td>199994</td>\n",
       "      <td>A</td>\n",
       "      <td>495552</td>\n",
       "    </tr>\n",
       "    <tr>\n",
       "      <th>3</th>\n",
       "      <td>75821</td>\n",
       "      <td>53649</td>\n",
       "      <td>66500</td>\n",
       "      <td>B</td>\n",
       "      <td>165057</td>\n",
       "    </tr>\n",
       "    <tr>\n",
       "      <th>4</th>\n",
       "      <td>97730</td>\n",
       "      <td>68667</td>\n",
       "      <td>91754</td>\n",
       "      <td>B</td>\n",
       "      <td>247841</td>\n",
       "    </tr>\n",
       "  </tbody>\n",
       "</table>\n",
       "</div>"
      ],
      "text/plain": [
       "   S&P department (spend)  Admin department(spend)  \\\n",
       "0                  101184                    70674   \n",
       "1                   70132                    52030   \n",
       "2                  149539                    98535   \n",
       "3                   75821                    53649   \n",
       "4                   97730                    68667   \n",
       "\n",
       "   Operation department(spend) state  Profit  \n",
       "0                        97009     A  259480  \n",
       "1                        63587     B  137019  \n",
       "2                       199994     A  495552  \n",
       "3                        66500     B  165057  \n",
       "4                        91754     B  247841  "
      ]
     },
     "execution_count": 2,
     "metadata": {},
     "output_type": "execute_result"
    }
   ],
   "source": [
    "ds=pd.read_csv('MLR_mix.csv')\n",
    "ds.head()"
   ]
  },
  {
   "cell_type": "code",
   "execution_count": 3,
   "id": "987b7ffb",
   "metadata": {},
   "outputs": [
    {
     "name": "stdout",
     "output_type": "stream",
     "text": [
      "<class 'pandas.core.frame.DataFrame'>\n",
      "RangeIndex: 50 entries, 0 to 49\n",
      "Data columns (total 5 columns):\n",
      " #   Column                       Non-Null Count  Dtype \n",
      "---  ------                       --------------  ----- \n",
      " 0   S&P department (spend)       50 non-null     int64 \n",
      " 1   Admin department(spend)      50 non-null     int64 \n",
      " 2   Operation department(spend)  50 non-null     int64 \n",
      " 3   state                        50 non-null     object\n",
      " 4   Profit                       50 non-null     int64 \n",
      "dtypes: int64(4), object(1)\n",
      "memory usage: 2.1+ KB\n"
     ]
    }
   ],
   "source": [
    "ds.info()"
   ]
  },
  {
   "cell_type": "code",
   "execution_count": 4,
   "id": "ad94bee0",
   "metadata": {},
   "outputs": [],
   "source": [
    "#x=ds.iloc[:,:-1].values #Volume\n",
    "#x=ds.iloc[:,0:3].values #Volume\n",
    "#x=ds.iloc[:,[0,1,2,3]].values \n",
    "#y=ds.iloc[:,4].values #Price\n",
    "#=ds.iloc[:,-1].values #Volume\n",
    "#print(x)\n",
    "#print(y)"
   ]
  },
  {
   "cell_type": "code",
   "execution_count": 5,
   "id": "2c4e33f5",
   "metadata": {},
   "outputs": [],
   "source": [
    "x=ds.iloc[:,[0,1,2,3]].values \n",
    "y=ds.iloc[:,4].values"
   ]
  },
  {
   "cell_type": "code",
   "execution_count": 6,
   "id": "2117d400",
   "metadata": {},
   "outputs": [
    {
     "name": "stdout",
     "output_type": "stream",
     "text": [
      "[[1.0 0.0 101184 70674 97009]\n",
      " [0.0 1.0 70132 52030 63587]\n",
      " [1.0 0.0 149539 98535 199994]\n",
      " [0.0 1.0 75821 53649 66500]\n",
      " [0.0 1.0 97730 68667 91754]\n",
      " [0.0 1.0 84544 60923 81618]\n",
      " [1.0 0.0 117490 85379 146277]\n",
      " [0.0 1.0 119913 86499 150579]\n",
      " [0.0 1.0 145244 95108 189066]\n",
      " [1.0 0.0 147217 95598 190309]\n",
      " [0.0 1.0 81746 56815 72351]\n",
      " [1.0 0.0 107967 74058 106215]\n",
      " [1.0 0.0 74692 52493 64267]\n",
      " [1.0 0.0 72228 52210 63719]\n",
      " [0.0 1.0 96292 68521 90007]\n",
      " [1.0 0.0 124506 86995 153382]\n",
      " [0.0 1.0 113543 82796 122345]\n",
      " [1.0 0.0 142585 94589 184603]\n",
      " [1.0 0.0 118057 86227 146948]\n",
      " [1.0 0.0 86260 63082 85320]\n",
      " [1.0 0.0 63601 51026 59932]\n",
      " [1.0 0.0 113200 76388 115984]\n",
      " [0.0 1.0 141331 93725 171453]\n",
      " [1.0 0.0 79667 54864 69102]\n",
      " [0.0 1.0 112208 75407 115316]\n",
      " [1.0 0.0 82622 59754 72987]\n",
      " [0.0 1.0 127721 88888 153477]\n",
      " [0.0 1.0 117901 85532 146822]\n",
      " [0.0 1.0 147364 96275 191812]\n",
      " [1.0 0.0 110661 75404 114864]\n",
      " [0.0 1.0 107360 73604 100773]\n",
      " [0.0 1.0 87194 63403 87468]\n",
      " [1.0 0.0 75381 52575 66116]\n",
      " [1.0 0.0 113427 78653 119763]\n",
      " [0.0 1.0 103004 71720 100065]\n",
      " [0.0 1.0 109249 74209 109578]\n",
      " [0.0 1.0 134157 92647 167690]\n",
      " [1.0 0.0 116481 83866 141719]\n",
      " [0.0 1.0 85908 61800 82411]\n",
      " [0.0 1.0 131088 89489 154742]\n",
      " [1.0 0.0 81818 57716 72492]\n",
      " [0.0 1.0 87227 67434 87488]\n",
      " [1.0 0.0 103666 72280 100346]\n",
      " [0.0 1.0 134089 91457 166994]\n",
      " [1.0 0.0 100846 69194 95680]\n",
      " [0.0 1.0 63540 50907 57776]\n",
      " [1.0 0.0 114384 83388 126691]\n",
      " [0.0 1.0 53199 50191 52911]\n",
      " [1.0 0.0 131777 89570 160129]\n",
      " [1.0 0.0 110643 74362 112527]]\n"
     ]
    }
   ],
   "source": [
    "#Handling or Encode categorical variables\n",
    "from sklearn.preprocessing import LabelEncoder, OneHotEncoder\n",
    "from sklearn.compose import ColumnTransformer\n",
    "labelencoder_x = LabelEncoder()\n",
    "x[:, 3] = labelencoder_x.fit_transform(x[:, 3])\n",
    "\n",
    "ct = ColumnTransformer([(\"State\", OneHotEncoder(), [3])], remainder = 'passthrough')\n",
    "x = ct.fit_transform(x)\n",
    "print(x)"
   ]
  },
  {
   "cell_type": "code",
   "execution_count": 7,
   "id": "2ae49e91",
   "metadata": {},
   "outputs": [
    {
     "name": "stdout",
     "output_type": "stream",
     "text": [
      "[[0.0 101184 70674 97009]\n",
      " [1.0 70132 52030 63587]\n",
      " [0.0 149539 98535 199994]\n",
      " [1.0 75821 53649 66500]\n",
      " [1.0 97730 68667 91754]\n",
      " [1.0 84544 60923 81618]\n",
      " [0.0 117490 85379 146277]\n",
      " [1.0 119913 86499 150579]\n",
      " [1.0 145244 95108 189066]\n",
      " [0.0 147217 95598 190309]\n",
      " [1.0 81746 56815 72351]\n",
      " [0.0 107967 74058 106215]\n",
      " [0.0 74692 52493 64267]\n",
      " [0.0 72228 52210 63719]\n",
      " [1.0 96292 68521 90007]\n",
      " [0.0 124506 86995 153382]\n",
      " [1.0 113543 82796 122345]\n",
      " [0.0 142585 94589 184603]\n",
      " [0.0 118057 86227 146948]\n",
      " [0.0 86260 63082 85320]\n",
      " [0.0 63601 51026 59932]\n",
      " [0.0 113200 76388 115984]\n",
      " [1.0 141331 93725 171453]\n",
      " [0.0 79667 54864 69102]\n",
      " [1.0 112208 75407 115316]\n",
      " [0.0 82622 59754 72987]\n",
      " [1.0 127721 88888 153477]\n",
      " [1.0 117901 85532 146822]\n",
      " [1.0 147364 96275 191812]\n",
      " [0.0 110661 75404 114864]\n",
      " [1.0 107360 73604 100773]\n",
      " [1.0 87194 63403 87468]\n",
      " [0.0 75381 52575 66116]\n",
      " [0.0 113427 78653 119763]\n",
      " [1.0 103004 71720 100065]\n",
      " [1.0 109249 74209 109578]\n",
      " [1.0 134157 92647 167690]\n",
      " [0.0 116481 83866 141719]\n",
      " [1.0 85908 61800 82411]\n",
      " [1.0 131088 89489 154742]\n",
      " [0.0 81818 57716 72492]\n",
      " [1.0 87227 67434 87488]\n",
      " [0.0 103666 72280 100346]\n",
      " [1.0 134089 91457 166994]\n",
      " [0.0 100846 69194 95680]\n",
      " [1.0 63540 50907 57776]\n",
      " [0.0 114384 83388 126691]\n",
      " [1.0 53199 50191 52911]\n",
      " [0.0 131777 89570 160129]\n",
      " [0.0 110643 74362 112527]]\n"
     ]
    }
   ],
   "source": [
    "#Avoid dummy variable,remove the unnecessary column\n",
    "x=x[:,1:] #keep B\n",
    "#x=x[:,[0,2,3,4]] #keep A\n",
    "print(x)"
   ]
  },
  {
   "cell_type": "markdown",
   "id": "36b4e5de",
   "metadata": {},
   "source": [
    "#calculate the correlation coefficient for the dataset\n",
    "corr = ds.corr()\n",
    "print(corr)"
   ]
  },
  {
   "cell_type": "code",
   "execution_count": 8,
   "id": "8a5ae1d6",
   "metadata": {},
   "outputs": [],
   "source": [
    "#splitting the dataset into training and test sets\n",
    "from sklearn.model_selection import train_test_split\n",
    "x_train, x_test, y_train, y_test = train_test_split(x, y, test_size = 0.2, random_state = 0)"
   ]
  },
  {
   "cell_type": "code",
   "execution_count": 9,
   "id": "a80c3602",
   "metadata": {},
   "outputs": [],
   "source": [
    "#import scaler\n",
    "from sklearn.preprocessing import StandardScaler\n",
    "sc_X = StandardScaler()\n",
    "x_train = sc_X.fit_transform(x_train)"
   ]
  },
  {
   "cell_type": "code",
   "execution_count": 10,
   "id": "e8fb2a43",
   "metadata": {},
   "outputs": [
    {
     "name": "stdout",
     "output_type": "stream",
     "text": [
      "Coefficients,beta: [ -3778.94266828  15057.72856866 102355.90072011  -7688.65481663]\n",
      "Constant,alpha: [300828.1]\n"
     ]
    }
   ],
   "source": [
    "# multiple linear regression - step 2 \n",
    "#Fitting simple linear regression to training set\n",
    "from sklearn.linear_model import LinearRegression\n",
    "regressor=LinearRegression()\n",
    "regressor.fit(x_train,y_train)\n",
    "print('Coefficients,beta:', regressor.coef_)\n",
    "print('Constant,alpha:', regressor.predict([[0,0,0,0]])) # y= mx1 + mx2 + mx3 + mx4 + c"
   ]
  },
  {
   "cell_type": "code",
   "execution_count": 11,
   "id": "537f4084",
   "metadata": {},
   "outputs": [],
   "source": [
    "x_test = sc_X.transform(x_test)"
   ]
  },
  {
   "cell_type": "code",
   "execution_count": 3,
   "id": "c67eeb1d",
   "metadata": {},
   "outputs": [
    {
     "ename": "NameError",
     "evalue": "name 'regressor' is not defined",
     "output_type": "error",
     "traceback": [
      "\u001b[1;31m---------------------------------------------------------------------------\u001b[0m",
      "\u001b[1;31mNameError\u001b[0m                                 Traceback (most recent call last)",
      "Input \u001b[1;32mIn [3]\u001b[0m, in \u001b[0;36m<cell line: 2>\u001b[1;34m()\u001b[0m\n\u001b[0;32m      1\u001b[0m \u001b[38;5;66;03m#Predicting the results for test set\u001b[39;00m\n\u001b[1;32m----> 2\u001b[0m y_pred\u001b[38;5;241m=\u001b[39m\u001b[43mregressor\u001b[49m\u001b[38;5;241m.\u001b[39mpredict(x_test)\n\u001b[0;32m      3\u001b[0m \u001b[38;5;28mprint\u001b[39m(y_pred) \u001b[38;5;66;03m# predicted\u001b[39;00m\n\u001b[0;32m      4\u001b[0m \u001b[38;5;28mprint\u001b[39m(y_test)\n",
      "\u001b[1;31mNameError\u001b[0m: name 'regressor' is not defined"
     ]
    }
   ],
   "source": [
    "#Predicting the results for test set\n",
    "y_pred=regressor.predict(x_test)\n",
    "print(y_pred) # predicted\n",
    "print(y_test) # actual"
   ]
  },
  {
   "cell_type": "code",
   "execution_count": 13,
   "id": "e1c57961",
   "metadata": {},
   "outputs": [
    {
     "name": "stdout",
     "output_type": "stream",
     "text": [
      "[[1.         0.99542528]\n",
      " [0.99542528 1.        ]]\n"
     ]
    }
   ],
   "source": [
    "#calculate the correlation coefficient\n",
    "corr=np.corrcoef(y_pred, y_test)\n",
    "print(corr)"
   ]
  },
  {
   "cell_type": "code",
   "execution_count": 14,
   "id": "d7c0ed03",
   "metadata": {},
   "outputs": [
    {
     "name": "stdout",
     "output_type": "stream",
     "text": [
      "114075328.33230352\n"
     ]
    }
   ],
   "source": [
    "from sklearn.metrics import mean_squared_error\n",
    "MSE = mean_squared_error(y_test, y_pred)\n",
    "print(MSE) # MSE to compare 2 model"
   ]
  },
  {
   "cell_type": "code",
   "execution_count": 15,
   "id": "3d4b70d4",
   "metadata": {},
   "outputs": [],
   "source": [
    "\n",
    "# #Visualizing training set result\n",
    "# plt.scatter(x_train,y_train,color='blue') # plot the points\n",
    "# plt.plot(x_train, regressor.predict(x_train),color='red')# plot the line\n",
    "# plt.title('Price vs Volume (Training set)')\n",
    "# plt.xlabel('Volume')\n",
    "# plt.ylabel('Price')"
   ]
  },
  {
   "cell_type": "code",
   "execution_count": 16,
   "id": "3072bd44",
   "metadata": {},
   "outputs": [],
   "source": [
    "#df = "
   ]
  },
  {
   "cell_type": "code",
   "execution_count": 17,
   "id": "31d3496f",
   "metadata": {},
   "outputs": [
    {
     "name": "stdout",
     "output_type": "stream",
     "text": [
      "[174400.58019591]\n"
     ]
    }
   ],
   "source": [
    "x_input = sc_X.transform([[0,90020,55200,94230]])\n",
    "y_pred=regressor.predict(x_input)\n",
    "print(y_pred)"
   ]
  },
  {
   "cell_type": "code",
   "execution_count": null,
   "id": "45c1cbaa",
   "metadata": {},
   "outputs": [],
   "source": []
  },
  {
   "cell_type": "code",
   "execution_count": null,
   "id": "cf475655",
   "metadata": {},
   "outputs": [],
   "source": []
  },
  {
   "cell_type": "code",
   "execution_count": null,
   "id": "a6ebc199",
   "metadata": {},
   "outputs": [],
   "source": []
  },
  {
   "cell_type": "code",
   "execution_count": null,
   "id": "06f5be46",
   "metadata": {},
   "outputs": [],
   "source": []
  }
 ],
 "metadata": {
  "kernelspec": {
   "display_name": "Python 3 (ipykernel)",
   "language": "python",
   "name": "python3"
  },
  "language_info": {
   "codemirror_mode": {
    "name": "ipython",
    "version": 3
   },
   "file_extension": ".py",
   "mimetype": "text/x-python",
   "name": "python",
   "nbconvert_exporter": "python",
   "pygments_lexer": "ipython3",
   "version": "3.9.12"
  }
 },
 "nbformat": 4,
 "nbformat_minor": 5
}
