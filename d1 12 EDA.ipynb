{
 "cells": [
  {
   "cell_type": "code",
   "execution_count": 1,
   "id": "ebb8960a",
   "metadata": {},
   "outputs": [
    {
     "data": {
      "text/plain": [
       "4.714285714285714"
      ]
     },
     "execution_count": 1,
     "metadata": {},
     "output_type": "execute_result"
    }
   ],
   "source": [
    "#Finding Mean\n",
    "#Import library\n",
    "import numpy as np\n",
    "#Load data\n",
    "a = [1, 3, 3, 5, 6, 7, 8] #Call mean function\n",
    "np.mean(a)"
   ]
  },
  {
   "cell_type": "code",
   "execution_count": 2,
   "id": "918fb4c2",
   "metadata": {},
   "outputs": [
    {
     "data": {
      "text/plain": [
       "5.0"
      ]
     },
     "execution_count": 2,
     "metadata": {},
     "output_type": "execute_result"
    }
   ],
   "source": [
    "#Finding Median\n",
    "#Import library\n",
    "import numpy as np\n",
    "#Load data\n",
    "a = [1, 3, 3, 5, 6, 7, 8] #Call Median function\n",
    "np.median(a) "
   ]
  },
  {
   "cell_type": "code",
   "execution_count": 3,
   "id": "ba86021d",
   "metadata": {},
   "outputs": [
    {
     "data": {
      "text/plain": [
       "ModeResult(mode=array([3]), count=array([2]))"
      ]
     },
     "execution_count": 3,
     "metadata": {},
     "output_type": "execute_result"
    }
   ],
   "source": [
    "#Finding Mode\n",
    "#Import library\n",
    "from scipy import stats \n",
    "#Load data\n",
    "a = [1, 3, 3, 5, 6, 7, 8] #Call Mode function,If there is more than one such value, only the smallest is returned\n",
    "stats.mode(a)"
   ]
  },
  {
   "cell_type": "code",
   "execution_count": 4,
   "id": "94b8009e",
   "metadata": {},
   "outputs": [
    {
     "data": {
      "text/plain": [
       "60.0"
      ]
     },
     "execution_count": 4,
     "metadata": {},
     "output_type": "execute_result"
    }
   ],
   "source": [
    "#Finding Percentile\n",
    "#Import library\n",
    "import scipy.stats as stats \n",
    "#Load data\n",
    "a = [2, 2, 3, 3, 5, 6, 7, 8, 8, 12, 13, 13, 14, 15, 16] #Call percentile function\n",
    "stats.percentileofscore(a, 12,'strict') "
   ]
  },
  {
   "cell_type": "code",
   "execution_count": 7,
   "id": "df146bc8",
   "metadata": {},
   "outputs": [
    {
     "data": {
      "image/png": "[encoded data removed]",
      "text/plain": [
       "<Figure size 432x288 with 1 Axes>"
      ]
     },
     "metadata": {
      "needs_background": "light"
     },
     "output_type": "display_data"
    }
   ],
   "source": [
    "#histogram\n",
    "import matplotlib.pyplot as plt \n",
    "#Call function and load data\n",
    "plt.hist([1,3,3,5,6,7,8],color='green') \n",
    "#Show plot\n",
    "plt.show() "
   ]
  },
  {
   "cell_type": "code",
   "execution_count": null,
   "id": "752bd358",
   "metadata": {},
   "outputs": [],
   "source": []
  }
 ],
 "metadata": {
  "kernelspec": {
   "display_name": "Python 3 (ipykernel)",
   "language": "python",
   "name": "python3"
  },
  "language_info": {
   "codemirror_mode": {
    "name": "ipython",
    "version": 3
   },
   "file_extension": ".py",
   "mimetype": "text/x-python",
   "name": "python",
   "nbconvert_exporter": "python",
   "pygments_lexer": "ipython3",
   "version": "3.9.12"
  }
 },
 "nbformat": 4,
 "nbformat_minor": 5
}
