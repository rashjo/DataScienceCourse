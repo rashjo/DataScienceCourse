{
 "cells": [
  {
   "cell_type": "markdown",
   "id": "82f03a02",
   "metadata": {},
   "source": [
    "# Kmeans clustering : countries with top sellers"
   ]
  },
  {
   "cell_type": "code",
   "execution_count": 1,
   "id": "e2b2e858",
   "metadata": {},
   "outputs": [],
   "source": [
    "import numpy as np\n",
    "import pandas as pd\n",
    "import matplotlib.pyplot as plt\n",
    "import seaborn as sns\n",
    "\n",
    "from sklearn.cluster import KMeans\n",
    "from sklearn.metrics import silhouette_score\n",
    "from sklearn.preprocessing import StandardScaler"
   ]
  },
  {
   "cell_type": "code",
   "execution_count": 2,
   "id": "2c9fa34b",
   "metadata": {},
   "outputs": [],
   "source": [
    "import warnings\n",
    "warnings.filterwarnings('ignore')"
   ]
  },
  {
   "cell_type": "code",
   "execution_count": 6,
   "id": "798262b5",
   "metadata": {},
   "outputs": [],
   "source": [
    "dataset = pd.read_csv('countries_with_top_sellers_fashion_c2c.csv')"
   ]
  },
  {
   "cell_type": "code",
   "execution_count": 5,
   "id": "a82d8555",
   "metadata": {},
   "outputs": [
    {
     "name": "stdout",
     "output_type": "stream",
     "text": [
      "<class 'pandas.core.frame.DataFrame'>\n",
      "RangeIndex: 19 entries, 0 to 18\n",
      "Data columns (total 26 columns):\n",
      " #   Column                  Non-Null Count  Dtype  \n",
      "---  ------                  --------------  -----  \n",
      " 0   country                 19 non-null     object \n",
      " 1   sellers                 19 non-null     int64  \n",
      " 2   topsellers              19 non-null     int64  \n",
      " 3   topsellerratio          19 non-null     float64\n",
      " 4   femalesellersratio      19 non-null     float64\n",
      " 5   topfemalesellersratio   19 non-null     float64\n",
      " 6   femalesellers           19 non-null     int64  \n",
      " 7   malesellers             19 non-null     int64  \n",
      " 8   topfemalesellers        19 non-null     int64  \n",
      " 9   topmalesellers          19 non-null     int64  \n",
      " 10  countrysoldratio        19 non-null     float64\n",
      " 11  bestsoldratio           19 non-null     float64\n",
      " 12  toptotalproductssold    19 non-null     int64  \n",
      " 13  totalproductssold       19 non-null     int64  \n",
      " 14  toptotalproductslisted  19 non-null     int64  \n",
      " 15  totalproductslisted     19 non-null     int64  \n",
      " 16  topmeanproductssold     19 non-null     float64\n",
      " 17  topmeanproductslisted   19 non-null     float64\n",
      " 18  meanproductssold        19 non-null     float64\n",
      " 19  meanproductslisted      19 non-null     float64\n",
      " 20  meanofflinedays         19 non-null     float64\n",
      " 21  topmeanofflinedays      19 non-null     float64\n",
      " 22  meanfollowers           19 non-null     float64\n",
      " 23  meanfollowing           19 non-null     float64\n",
      " 24  topmeanfollowers        19 non-null     float64\n",
      " 25  topmeanfollowing        19 non-null     float64\n",
      "dtypes: float64(15), int64(10), object(1)\n",
      "memory usage: 4.0+ KB\n"
     ]
    }
   ],
   "source": [
    "dataset.info()"
   ]
  },
  {
   "cell_type": "code",
   "execution_count": 7,
   "id": "3db77bfa",
   "metadata": {},
   "outputs": [],
   "source": [
    "X = dataset.iloc[:,[2,15]].values"
   ]
  },
  {
   "cell_type": "code",
   "execution_count": null,
   "id": "341cc5b6",
   "metadata": {},
   "outputs": [],
   "source": [
    "## StandardScaler"
   ]
  },
  {
   "cell_type": "code",
   "execution_count": 8,
   "id": "0df19f60",
   "metadata": {},
   "outputs": [
    {
     "data": {
      "text/plain": [
       "array([[-0.59010743, -0.54952639],\n",
       "       [-0.59010743, -0.61639466],\n",
       "       [-0.485322  , -0.58136842],\n",
       "       [-0.27575114, -0.50813176],\n",
       "       [-0.59010743, -0.50972386],\n",
       "       [-0.59010743, -0.59728944],\n",
       "       [-0.485322  , -0.51609226],\n",
       "       [-0.59010743, -0.62594726],\n",
       "       [ 0.66731775,  0.3070242 ],\n",
       "       [ 2.97259724,  2.892597  ],\n",
       "       [-0.59010743, -0.52882907],\n",
       "       [-0.59010743, -0.5511185 ],\n",
       "       [-0.38053657, -0.27090864],\n",
       "       [ 1.5056012 ,  0.83719399],\n",
       "       [-0.59010743, -0.57977632],\n",
       "       [-0.1709657 , -0.21836929],\n",
       "       [-0.06618027,  0.66047073],\n",
       "       [-0.485322  , -0.41738197],\n",
       "       [ 1.92474292,  2.37357192]])"
      ]
     },
     "execution_count": 8,
     "metadata": {},
     "output_type": "execute_result"
    }
   ],
   "source": [
    "ss = StandardScaler()\n",
    "X_scaled = ss.fit_transform(X)\n",
    "X_scaled"
   ]
  },
  {
   "cell_type": "code",
   "execution_count": 9,
   "id": "223a49b6",
   "metadata": {},
   "outputs": [
    {
     "data": {
      "image/png": "[encoded data removed]",
      "text/plain": [
       "<Figure size 432x288 with 1 Axes>"
      ]
     },
     "metadata": {
      "needs_background": "light"
     },
     "output_type": "display_data"
    }
   ],
   "source": [
    "from sklearn.cluster import KMeans\n",
    "wcss = []\n",
    "for i in range(1,11):\n",
    "    kmeans=KMeans(n_clusters=i,init='k-means++', random_state=42)\n",
    "    kmeans.fit(X_scaled)\n",
    "    wcss.append(kmeans.inertia_)\n",
    "plt.plot(range(1,11),wcss)\n",
    "plt.title('The Elbow Method')\n",
    "plt.xlabel('Number of clusters')\n",
    "plt.ylabel('WCSS')\n",
    "plt.show()"
   ]
  },
  {
   "cell_type": "code",
   "execution_count": 10,
   "id": "d1eee7a4",
   "metadata": {},
   "outputs": [
    {
     "data": {
      "text/plain": [
       "array([0, 0, 0, 0, 0, 0, 0, 0, 2, 1, 0, 0, 0, 2, 0, 0, 2, 0, 1])"
      ]
     },
     "execution_count": 10,
     "metadata": {},
     "output_type": "execute_result"
    }
   ],
   "source": [
    "kmeans=KMeans(n_clusters=3,init='k-means++', random_state=42)\n",
    "y_kmeans=kmeans.fit_predict(X_scaled)\n",
    "y_kmeans"
   ]
  },
  {
   "cell_type": "code",
   "execution_count": 11,
   "id": "84bafc27",
   "metadata": {},
   "outputs": [
    {
     "data": {
      "image/png": "[encoded data removed]",
      "text/plain": [
       "<Figure size 432x288 with 1 Axes>"
      ]
     },
     "metadata": {
      "needs_background": "light"
     },
     "output_type": "display_data"
    }
   ],
   "source": [
    "# visualizing the clusters\n",
    "sns.scatterplot(X_scaled[:,0], X_scaled[:,1], hue=['cluster-{}'.format(x) for x in y_kmeans])\n",
    "plt.scatter(kmeans.cluster_centers_[:,0], kmeans.cluster_centers_[:,1], s=200, c='orange', label='Centroids')\n",
    "plt.title('Clusters and Centroids')\n",
    "plt.xlabel('X axis')\n",
    "plt.ylabel('Y axis')\n",
    "plt.legend()\n",
    "plt.show()"
   ]
  },
  {
   "cell_type": "code",
   "execution_count": 12,
   "id": "c710fcae",
   "metadata": {},
   "outputs": [
    {
     "name": "stdout",
     "output_type": "stream",
     "text": [
      "0.7429155534862315\n"
     ]
    }
   ],
   "source": [
    "score = silhouette_score(X_scaled, kmeans.labels_, metric='euclidean')\n",
    "print(score)"
   ]
  },
  {
   "cell_type": "code",
   "execution_count": 14,
   "id": "adc3e359",
   "metadata": {},
   "outputs": [],
   "source": [
    "y_kmeans=pd.DataFrame(kmeans.fit_predict(X_scaled))\n",
    "y_kmeans.columns=['y_kmeans'] # change the column name to 'y_kmeans'\n",
    "\n",
    "df_out=pd.merge(dataset,y_kmeans,how='left',left_index=True,right_index=True) # merging output with original dataset\n",
    "df_out.to_csv('c2c_with_clusters.csv')"
   ]
  },
  {
   "cell_type": "code",
   "execution_count": null,
   "id": "a97b6743",
   "metadata": {},
   "outputs": [],
   "source": []
  },
  {
   "cell_type": "code",
   "execution_count": null,
   "id": "c3c66a63",
   "metadata": {},
   "outputs": [],
   "source": []
  }
 ],
 "metadata": {
  "kernelspec": {
   "display_name": "Python 3 (ipykernel)",
   "language": "python",
   "name": "python3"
  },
  "language_info": {
   "codemirror_mode": {
    "name": "ipython",
    "version": 3
   },
   "file_extension": ".py",
   "mimetype": "text/x-python",
   "name": "python",
   "nbconvert_exporter": "python",
   "pygments_lexer": "ipython3",
   "version": "3.9.12"
  }
 },
 "nbformat": 4,
 "nbformat_minor": 5
}
