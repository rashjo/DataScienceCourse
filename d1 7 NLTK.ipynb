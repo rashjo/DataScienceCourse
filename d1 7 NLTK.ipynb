{
 "cells": [
  {
   "cell_type": "markdown",
   "id": "676c7995",
   "metadata": {},
   "source": [
    "# 5 c NLTK"
   ]
  },
  {
   "cell_type": "markdown",
   "id": "2462c1cf",
   "metadata": {},
   "source": [
    "### What is Natural Language Processing(NLP)? pg 85\n",
    "An analysis or processing so that machine can understand human language at certain level."
   ]
  },
  {
   "cell_type": "code",
   "execution_count": null,
   "id": "6337cf41",
   "metadata": {},
   "outputs": [],
   "source": [
    "# Let’s import NLTK library to\n",
    "\n",
    "# - Tokenize some words:\n",
    "from nltk.tokenize import word_tokenize \n",
    "word_tokenize(\"John likes movies\")"
   ]
  },
  {
   "cell_type": "code",
   "execution_count": null,
   "id": "23608d52",
   "metadata": {},
   "outputs": [],
   "source": [
    "# - Tokenize sentences :\n",
    "from nltk.tokenize import sent_tokenize \n",
    "sentence=\"John likes movies. May likes shopping\" \n",
    "sent_tokenize(sentence)"
   ]
  },
  {
   "cell_type": "code",
   "execution_count": null,
   "id": "3ab792d0",
   "metadata": {},
   "outputs": [],
   "source": []
  }
 ],
 "metadata": {
  "kernelspec": {
   "display_name": "Python 3 (ipykernel)",
   "language": "python",
   "name": "python3"
  },
  "language_info": {
   "codemirror_mode": {
    "name": "ipython",
    "version": 3
   },
   "file_extension": ".py",
   "mimetype": "text/x-python",
   "name": "python",
   "nbconvert_exporter": "python",
   "pygments_lexer": "ipython3",
   "version": "3.9.12"
  }
 },
 "nbformat": 4,
 "nbformat_minor": 5
}
