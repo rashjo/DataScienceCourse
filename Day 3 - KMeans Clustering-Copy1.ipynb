{
 "cells": [
  {
   "cell_type": "code",
   "execution_count": 1,
   "id": "bb64f847",
   "metadata": {},
   "outputs": [],
   "source": [
    "import numpy as np\n",
    "import pandas as pd\n",
    "import matplotlib.pyplot as plt\n",
    "import seaborn as sns"
   ]
  },
  {
   "cell_type": "code",
   "execution_count": 2,
   "id": "fc33fc7e",
   "metadata": {},
   "outputs": [],
   "source": [
    "from sklearn.cluster import KMeans\n",
    "from sklearn.metrics import silhouette_score\n",
    "from sklearn.preprocessing import StandardScaler"
   ]
  },
  {
   "cell_type": "code",
   "execution_count": 3,
   "id": "2bcea15f",
   "metadata": {},
   "outputs": [],
   "source": [
    "wh=pd.read_csv('2017.csv')"
   ]
  },
  {
   "cell_type": "code",
   "execution_count": 4,
   "id": "b93517e5",
   "metadata": {},
   "outputs": [
    {
     "data": {
      "text/html": [
       "<div>\n",
       "<style scoped>\n",
       "    .dataframe tbody tr th:only-of-type {\n",
       "        vertical-align: middle;\n",
       "    }\n",
       "\n",
       "    .dataframe tbody tr th {\n",
       "        vertical-align: top;\n",
       "    }\n",
       "\n",
       "    .dataframe thead th {\n",
       "        text-align: right;\n",
       "    }\n",
       "</style>\n",
       "<table border=\"1\" class=\"dataframe\">\n",
       "  <thead>\n",
       "    <tr style=\"text-align: right;\">\n",
       "      <th></th>\n",
       "      <th>Country</th>\n",
       "      <th>Happiness.Rank</th>\n",
       "      <th>Happiness.Score</th>\n",
       "      <th>Whisker.high</th>\n",
       "      <th>Whisker.low</th>\n",
       "      <th>Economy..GDP.per.Capita.</th>\n",
       "      <th>Family</th>\n",
       "      <th>Health..Life.Expectancy.</th>\n",
       "      <th>Freedom</th>\n",
       "      <th>Generosity</th>\n",
       "      <th>Trust..Government.Corruption.</th>\n",
       "      <th>Dystopia.Residual</th>\n",
       "    </tr>\n",
       "  </thead>\n",
       "  <tbody>\n",
       "    <tr>\n",
       "      <th>0</th>\n",
       "      <td>Norway</td>\n",
       "      <td>1</td>\n",
       "      <td>7.537</td>\n",
       "      <td>7.594445</td>\n",
       "      <td>7.479556</td>\n",
       "      <td>1.616463</td>\n",
       "      <td>1.533524</td>\n",
       "      <td>0.796667</td>\n",
       "      <td>0.635423</td>\n",
       "      <td>0.362012</td>\n",
       "      <td>0.315964</td>\n",
       "      <td>2.277027</td>\n",
       "    </tr>\n",
       "    <tr>\n",
       "      <th>1</th>\n",
       "      <td>Denmark</td>\n",
       "      <td>2</td>\n",
       "      <td>7.522</td>\n",
       "      <td>7.581728</td>\n",
       "      <td>7.462272</td>\n",
       "      <td>1.482383</td>\n",
       "      <td>1.551122</td>\n",
       "      <td>0.792566</td>\n",
       "      <td>0.626007</td>\n",
       "      <td>0.355280</td>\n",
       "      <td>0.400770</td>\n",
       "      <td>2.313707</td>\n",
       "    </tr>\n",
       "    <tr>\n",
       "      <th>2</th>\n",
       "      <td>Iceland</td>\n",
       "      <td>3</td>\n",
       "      <td>7.504</td>\n",
       "      <td>7.622030</td>\n",
       "      <td>7.385970</td>\n",
       "      <td>1.480633</td>\n",
       "      <td>1.610574</td>\n",
       "      <td>0.833552</td>\n",
       "      <td>0.627163</td>\n",
       "      <td>0.475540</td>\n",
       "      <td>0.153527</td>\n",
       "      <td>2.322715</td>\n",
       "    </tr>\n",
       "    <tr>\n",
       "      <th>3</th>\n",
       "      <td>Switzerland</td>\n",
       "      <td>4</td>\n",
       "      <td>7.494</td>\n",
       "      <td>7.561772</td>\n",
       "      <td>7.426227</td>\n",
       "      <td>1.564980</td>\n",
       "      <td>1.516912</td>\n",
       "      <td>0.858131</td>\n",
       "      <td>0.620071</td>\n",
       "      <td>0.290549</td>\n",
       "      <td>0.367007</td>\n",
       "      <td>2.276716</td>\n",
       "    </tr>\n",
       "    <tr>\n",
       "      <th>4</th>\n",
       "      <td>Finland</td>\n",
       "      <td>5</td>\n",
       "      <td>7.469</td>\n",
       "      <td>7.527542</td>\n",
       "      <td>7.410458</td>\n",
       "      <td>1.443572</td>\n",
       "      <td>1.540247</td>\n",
       "      <td>0.809158</td>\n",
       "      <td>0.617951</td>\n",
       "      <td>0.245483</td>\n",
       "      <td>0.382612</td>\n",
       "      <td>2.430182</td>\n",
       "    </tr>\n",
       "  </tbody>\n",
       "</table>\n",
       "</div>"
      ],
      "text/plain": [
       "       Country  Happiness.Rank  Happiness.Score  Whisker.high  Whisker.low  \\\n",
       "0       Norway               1            7.537      7.594445     7.479556   \n",
       "1      Denmark               2            7.522      7.581728     7.462272   \n",
       "2      Iceland               3            7.504      7.622030     7.385970   \n",
       "3  Switzerland               4            7.494      7.561772     7.426227   \n",
       "4      Finland               5            7.469      7.527542     7.410458   \n",
       "\n",
       "   Economy..GDP.per.Capita.    Family  Health..Life.Expectancy.   Freedom  \\\n",
       "0                  1.616463  1.533524                  0.796667  0.635423   \n",
       "1                  1.482383  1.551122                  0.792566  0.626007   \n",
       "2                  1.480633  1.610574                  0.833552  0.627163   \n",
       "3                  1.564980  1.516912                  0.858131  0.620071   \n",
       "4                  1.443572  1.540247                  0.809158  0.617951   \n",
       "\n",
       "   Generosity  Trust..Government.Corruption.  Dystopia.Residual  \n",
       "0    0.362012                       0.315964           2.277027  \n",
       "1    0.355280                       0.400770           2.313707  \n",
       "2    0.475540                       0.153527           2.322715  \n",
       "3    0.290549                       0.367007           2.276716  \n",
       "4    0.245483                       0.382612           2.430182  "
      ]
     },
     "execution_count": 4,
     "metadata": {},
     "output_type": "execute_result"
    }
   ],
   "source": [
    "wh.head()"
   ]
  },
  {
   "cell_type": "code",
   "execution_count": 5,
   "id": "77680578",
   "metadata": {
    "scrolled": true
   },
   "outputs": [
    {
     "data": {
      "text/plain": [
       "<AxesSubplot:>"
      ]
     },
     "execution_count": 5,
     "metadata": {},
     "output_type": "execute_result"
    },
    {
     "data": {
      "image/png": "[encoded data removed]",
      "text/plain": [
       "<Figure size 432x288 with 2 Axes>"
      ]
     },
     "metadata": {
      "needs_background": "light"
     },
     "output_type": "display_data"
    }
   ],
   "source": [
    "wh1=wh.iloc[:,[2,5,6,7,8,9,10]]\n",
    "cor=wh1.corr()\n",
    "\n",
    "sns.heatmap(cor,square=True)"
   ]
  },
  {
   "cell_type": "code",
   "execution_count": 6,
   "id": "b25adecc",
   "metadata": {},
   "outputs": [],
   "source": [
    "ss=StandardScaler()"
   ]
  },
  {
   "cell_type": "code",
   "execution_count": 7,
   "id": "c6175423",
   "metadata": {
    "scrolled": true
   },
   "outputs": [
    {
     "data": {
      "text/plain": [
       "array([[ 1.50618765,  1.90308437],\n",
       "       [ 1.18651768,  2.73999784],\n",
       "       [ 1.1823454 ,  0.30006609],\n",
       "       [ 1.38344191,  2.40680857],\n",
       "       [ 1.09398544,  2.56079976],\n",
       "       [ 1.23792427,  1.57444226],\n",
       "       [ 1.17893937,  1.62092002],\n",
       "       [ 1.00370674,  2.56282438],\n",
       "       [ 1.21513788,  2.57843667],\n",
       "       [ 1.19136213,  1.75722637],\n",
       "       [ 0.93141005, -0.37380164],\n",
       "       [ 0.29799288, -0.22711087],\n",
       "       [ 1.19775726,  0.96652596],\n",
       "       [ 1.3388096 ,  0.12353995],\n",
       "       [ 1.31365029,  1.72963811],\n",
       "       [ 1.19972687,  1.51592295],\n",
       "       [ 1.14216675,  1.26537256],\n",
       "       [ 1.80535433,  1.93141289],\n",
       "       [ 1.08936495,  1.40437027],\n",
       "       [ 0.63911598, -0.40295446],\n",
       "       [ 1.5297437 ,  1.98722085],\n",
       "       [ 0.29238275, -0.11869343],\n",
       "       [ 0.87728922, -0.85113462],\n",
       "       [ 0.47821036, -0.62547117],\n",
       "       [ 0.40165073,  0.09526981],\n",
       "       [ 1.6869423 ,  3.36702216],\n",
       "       [ 0.85487202,  0.29552172],\n",
       "       [ 0.55513378,  0.54219374],\n",
       "       [-0.26873475, -0.45293568],\n",
       "       [ 0.5937305 , -0.51450898],\n",
       "       [ 1.06382935,  0.48733015],\n",
       "       [ 0.34129534, -0.90304502],\n",
       "       [ 1.07027393, -0.58511529],\n",
       "       [ 0.9529044 , -0.51519807],\n",
       "       [ 2.11248814,  3.12022456],\n",
       "       [ 0.20481006, -0.75446426],\n",
       "       [ 1.30153135,  1.4833599 ],\n",
       "       [ 0.89796843, -1.12654685],\n",
       "       [ 1.54550088,  0.90829355],\n",
       "       [ 0.81222808, -0.97609079],\n",
       "       [ 1.20089244,  1.32161373],\n",
       "       [ 0.73074158, -0.56763345],\n",
       "       [-0.58988904,  0.07468273],\n",
       "       [ 0.03839038,  0.1679075 ],\n",
       "       [-0.17865472, -0.32703603],\n",
       "       [ 0.73210638, -0.62973518],\n",
       "       [-0.47272642,  1.21785646],\n",
       "       [ 0.97834053, -0.93842021],\n",
       "       [ 0.70824139, -0.88972106],\n",
       "       [-0.18296811, -0.26190258],\n",
       "       [ 1.03043121,  0.40106244],\n",
       "       [ 0.78645231, -1.09791994],\n",
       "       [ 0.25545495,  0.22673842],\n",
       "       [ 0.65810355, -0.48629678],\n",
       "       [ 0.99410424, -0.59050911],\n",
       "       [-0.60998419, -1.11543024],\n",
       "       [ 0.55542994, -1.17171431],\n",
       "       [-0.35991826, -0.61818979],\n",
       "       [ 0.34822849,  1.34360252],\n",
       "       [ 0.71486503, -0.03786888],\n",
       "       [ 0.86353007,  0.31809386],\n",
       "       [ 0.84992753, -0.76965947],\n",
       "       [ 0.12041746, -0.75071082],\n",
       "       [ 0.48798566, -0.79874623],\n",
       "       [ 0.88505142, -0.80805797],\n",
       "       [ 0.80146542,  0.59338233],\n",
       "       [ 0.4096943 ,  0.32757229],\n",
       "       [ 0.27915026, -0.30108917],\n",
       "       [ 0.50915429, -0.23140378],\n",
       "       [-0.12440812, -0.31632912],\n",
       "       [ 1.35172121,  1.68567966],\n",
       "       [-0.3028349 , -0.234756  ],\n",
       "       [ 0.20169933, -0.811356  ],\n",
       "       [ 0.01500643, -0.03273343],\n",
       "       [ 0.71833558, -0.8534635 ],\n",
       "       [-0.14099719, -0.66960432],\n",
       "       [ 0.56704638, -0.78965183],\n",
       "       [-0.07923509, -0.64785568],\n",
       "       [ 0.22994748, -0.99007033],\n",
       "       [-0.61472178,  0.01211704],\n",
       "       [ 0.02579765, -1.06385875],\n",
       "       [ 0.34263627, -0.57858343],\n",
       "       [ 0.32522667, -0.34486616],\n",
       "       [-0.25416119, -0.34892224],\n",
       "       [ 0.40264718,  0.57106547],\n",
       "       [ 0.22567516, -0.09054351],\n",
       "       [ 0.72662188, -0.7878097 ],\n",
       "       [ 0.21521746, -0.84480985],\n",
       "       [ 0.787866  , -1.0584082 ],\n",
       "       [-0.00550454, -1.21501648],\n",
       "       [-0.60592517, -0.49120415],\n",
       "       [ 0.19039921, -0.62016283],\n",
       "       [-2.29375073,  1.5719603 ],\n",
       "       [-0.46770419, -0.35020462],\n",
       "       [-0.47912751, -0.95723483],\n",
       "       [-1.09672925,  0.22951183],\n",
       "       [-0.23675244,  0.49599435],\n",
       "       [-0.92624571, -0.82580947],\n",
       "       [-1.20376286, -0.49485458],\n",
       "       [ 0.10136935, -0.89031901],\n",
       "       [ 0.16684544, -0.4994538 ],\n",
       "       [ 0.05375733, -0.35918586],\n",
       "       [-0.64007577, -0.3339278 ],\n",
       "       [ 0.01188176, -0.08623972],\n",
       "       [ 0.42138038, -1.10595403],\n",
       "       [-1.46935768, -0.51341109],\n",
       "       [-1.00233582, -0.70869508],\n",
       "       [ 0.41044662, -0.73381601],\n",
       "       [ 0.02735729, -0.82161498],\n",
       "       [-0.94898378,  0.00589782],\n",
       "       [-0.04836022, -0.29579212],\n",
       "       [-1.01145742, -0.57710121],\n",
       "       [-1.78911135,  0.55575817],\n",
       "       [-1.47248185,  0.64832326],\n",
       "       [-1.20498158, -0.07559075],\n",
       "       [-0.83043376, -0.44316315],\n",
       "       [ 0.2813137 , -0.15695381],\n",
       "       [ 0.50900138, -0.46454593],\n",
       "       [-1.53894466,  0.41778939],\n",
       "       [ 0.05991883, -0.48815957],\n",
       "       [-0.2005599 , -0.95177895],\n",
       "       [-0.45894553, -0.30487203],\n",
       "       [-0.8017033 ,  0.13654882],\n",
       "       [-0.41902735, -0.42930196],\n",
       "       [-0.08131341,  1.26856507],\n",
       "       [-2.12814825, -0.62052241],\n",
       "       [-1.21244052, -0.17911369],\n",
       "       [-0.90996458,  0.06850299],\n",
       "       [-0.91302544, -0.54291037],\n",
       "       [-0.7753358 , -0.32835288],\n",
       "       [-0.7569583 , -0.96498357],\n",
       "       [-0.21473329, -0.98774929],\n",
       "       [-1.43834014, -0.65182183],\n",
       "       [-1.51273341, -0.02755409],\n",
       "       [-1.96167836,  0.1524958 ],\n",
       "       [-1.79117035, -0.49745881],\n",
       "       [-1.30343836, -0.68624168],\n",
       "       [-1.45165377, -0.27380098],\n",
       "       [-1.10553253, -0.03972659],\n",
       "       [-0.30109692, -0.52697875],\n",
       "       [-1.39054586, -0.61147816],\n",
       "       [ 0.32752767, -0.24214451],\n",
       "       [-1.31995489, -0.61373622],\n",
       "       [-1.61863592, -0.55153523],\n",
       "       [-1.46890628, -0.22942445],\n",
       "       [-0.93706181, -0.65480505],\n",
       "       [-1.40062754, -0.06243535],\n",
       "       [-2.06392002, -0.83065423],\n",
       "       [-1.76468724, -0.12022447],\n",
       "       [-1.6195037 , -0.27094271],\n",
       "       [-1.46858291,  3.27733916],\n",
       "       [-0.49487048,  0.27855831],\n",
       "       [-1.12910094, -0.56334657],\n",
       "       [-2.12929212, -0.38459935],\n",
       "       [-2.34773594, -0.65680192]])"
      ]
     },
     "execution_count": 7,
     "metadata": {},
     "output_type": "execute_result"
    }
   ],
   "source": [
    "X=wh.iloc[:,[5,10]].values\n",
    "X_scaled=ss.fit_transform(X)\n",
    "X_scaled"
   ]
  },
  {
   "cell_type": "code",
   "execution_count": 9,
   "id": "11772715",
   "metadata": {
    "scrolled": true
   },
   "outputs": [
    {
     "name": "stderr",
     "output_type": "stream",
     "text": [
      "C:\\Users\\User\\anaconda3\\lib\\site-packages\\sklearn\\cluster\\_kmeans.py:1036: UserWarning: KMeans is known to have a memory leak on Windows with MKL, when there are less chunks than available threads. You can avoid it by setting the environment variable OMP_NUM_THREADS=1.\n",
      "  warnings.warn(\n"
     ]
    },
    {
     "data": {
      "image/png": "[encoded data removed]",
      "text/plain": [
       "<Figure size 432x288 with 1 Axes>"
      ]
     },
     "metadata": {
      "needs_background": "light"
     },
     "output_type": "display_data"
    }
   ],
   "source": [
    "from sklearn.cluster import KMeans\n",
    "wcss = []\n",
    "for i in range(1,11):\n",
    "    kmeans=KMeans(n_clusters=i,init='k-means++', random_state=42)\n",
    "    kmeans.fit(X_scaled)\n",
    "    wcss.append(kmeans.inertia_)\n",
    "plt.plot(range(1,11),wcss)\n",
    "plt.title('The Elbow Method')\n",
    "plt.xlabel('Number of clusters')\n",
    "plt.ylabel('WCSS')\n",
    "plt.show()"
   ]
  },
  {
   "cell_type": "code",
   "execution_count": 11,
   "id": "552049d8",
   "metadata": {
    "scrolled": false
   },
   "outputs": [
    {
     "data": {
      "text/plain": [
       "array([1, 1, 0, 1, 1, 1, 1, 1, 1, 1, 0, 0, 1, 0, 1, 1, 1, 1, 1, 0, 1, 0,\n",
       "       0, 0, 0, 1, 0, 0, 0, 0, 0, 0, 0, 0, 1, 0, 1, 0, 1, 0, 1, 0, 2, 0,\n",
       "       0, 0, 2, 0, 0, 0, 0, 0, 0, 0, 0, 2, 0, 0, 1, 0, 0, 0, 0, 0, 0, 0,\n",
       "       0, 0, 0, 0, 1, 0, 0, 0, 0, 0, 0, 0, 0, 2, 0, 0, 0, 0, 0, 0, 0, 0,\n",
       "       0, 0, 2, 0, 2, 2, 0, 2, 0, 2, 2, 0, 0, 0, 2, 0, 0, 2, 2, 0, 0, 2,\n",
       "       0, 2, 2, 2, 2, 2, 0, 0, 2, 0, 0, 2, 2, 0, 1, 2, 2, 2, 2, 2, 2, 0,\n",
       "       2, 2, 2, 2, 2, 2, 2, 0, 2, 0, 2, 2, 2, 2, 2, 2, 2, 2, 1, 2, 2, 2,\n",
       "       2])"
      ]
     },
     "execution_count": 11,
     "metadata": {},
     "output_type": "execute_result"
    }
   ],
   "source": [
    "kmeans=KMeans(n_clusters=3,init='k-means++', random_state=42)\n",
    "y_kmeans=kmeans.fit_predict(X_scaled)\n",
    "y_kmeans"
   ]
  },
  {
   "cell_type": "code",
   "execution_count": null,
   "id": "03e3b6b8",
   "metadata": {},
   "outputs": [],
   "source": []
  },
  {
   "cell_type": "code",
   "execution_count": 14,
   "id": "1e22f353",
   "metadata": {
    "scrolled": true
   },
   "outputs": [
    {
     "data": {
      "image/png": "[encoded data removed]",
      "text/plain": [
       "<Figure size 432x288 with 1 Axes>"
      ]
     },
     "metadata": {
      "needs_background": "light"
     },
     "output_type": "display_data"
    }
   ],
   "source": [
    "# Plot the data\n",
    "plt.scatter(X[:,0], \n",
    "            X[:,1])\n",
    "\n",
    "# Plot the clusters \n",
    "plt.scatter(kmeans.cluster_centers_[:, 0], \n",
    "            kmeans.cluster_centers_[:, 1], \n",
    "            s=200,                             # Set centroid size\n",
    "            c='red',                          # Set centroid color\n",
    "            label='centroids')\n",
    "plt.show()"
   ]
  }
 ],
 "metadata": {
  "kernelspec": {
   "display_name": "Python 3 (ipykernel)",
   "language": "python",
   "name": "python3"
  },
  "language_info": {
   "codemirror_mode": {
    "name": "ipython",
    "version": 3
   },
   "file_extension": ".py",
   "mimetype": "text/x-python",
   "name": "python",
   "nbconvert_exporter": "python",
   "pygments_lexer": "ipython3",
   "version": "3.9.12"
  }
 },
 "nbformat": 4,
 "nbformat_minor": 5
}
