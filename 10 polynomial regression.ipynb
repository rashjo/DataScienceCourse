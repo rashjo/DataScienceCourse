{
 "cells": [
  {
   "cell_type": "code",
   "execution_count": 1,
   "id": "02a3b699",
   "metadata": {},
   "outputs": [],
   "source": [
    "#import libraries\n",
    "import numpy as np\n",
    "import matplotlib.pyplot as plt\n",
    "import pandas as pd"
   ]
  },
  {
   "cell_type": "code",
   "execution_count": 2,
   "id": "f6da4225",
   "metadata": {},
   "outputs": [
    {
     "data": {
      "text/html": [
       "<div>\n",
       "<style scoped>\n",
       "    .dataframe tbody tr th:only-of-type {\n",
       "        vertical-align: middle;\n",
       "    }\n",
       "\n",
       "    .dataframe tbody tr th {\n",
       "        vertical-align: top;\n",
       "    }\n",
       "\n",
       "    .dataframe thead th {\n",
       "        text-align: right;\n",
       "    }\n",
       "</style>\n",
       "<table border=\"1\" class=\"dataframe\">\n",
       "  <thead>\n",
       "    <tr style=\"text-align: right;\">\n",
       "      <th></th>\n",
       "      <th>Volume</th>\n",
       "      <th>Price</th>\n",
       "    </tr>\n",
       "  </thead>\n",
       "  <tbody>\n",
       "    <tr>\n",
       "      <th>0</th>\n",
       "      <td>10</td>\n",
       "      <td>393.10</td>\n",
       "    </tr>\n",
       "    <tr>\n",
       "      <th>1</th>\n",
       "      <td>11</td>\n",
       "      <td>471.91</td>\n",
       "    </tr>\n",
       "    <tr>\n",
       "      <th>2</th>\n",
       "      <td>14</td>\n",
       "      <td>751.66</td>\n",
       "    </tr>\n",
       "    <tr>\n",
       "      <th>3</th>\n",
       "      <td>16</td>\n",
       "      <td>974.26</td>\n",
       "    </tr>\n",
       "    <tr>\n",
       "      <th>4</th>\n",
       "      <td>17</td>\n",
       "      <td>1096.39</td>\n",
       "    </tr>\n",
       "  </tbody>\n",
       "</table>\n",
       "</div>"
      ],
      "text/plain": [
       "   Volume    Price\n",
       "0      10   393.10\n",
       "1      11   471.91\n",
       "2      14   751.66\n",
       "3      16   974.26\n",
       "4      17  1096.39"
      ]
     },
     "execution_count": 2,
     "metadata": {},
     "output_type": "execute_result"
    }
   ],
   "source": [
    "ds=pd.read_csv('Volume_price.csv')\n",
    "ds.head()"
   ]
  },
  {
   "cell_type": "code",
   "execution_count": 3,
   "id": "987b7ffb",
   "metadata": {},
   "outputs": [
    {
     "name": "stdout",
     "output_type": "stream",
     "text": [
      "<class 'pandas.core.frame.DataFrame'>\n",
      "RangeIndex: 23 entries, 0 to 22\n",
      "Data columns (total 2 columns):\n",
      " #   Column  Non-Null Count  Dtype  \n",
      "---  ------  --------------  -----  \n",
      " 0   Volume  23 non-null     int64  \n",
      " 1   Price   23 non-null     float64\n",
      "dtypes: float64(1), int64(1)\n",
      "memory usage: 496.0 bytes\n"
     ]
    }
   ],
   "source": [
    "ds.info()"
   ]
  },
  {
   "cell_type": "code",
   "execution_count": 4,
   "id": "ad94bee0",
   "metadata": {},
   "outputs": [],
   "source": [
    "#x=ds.iloc[:,:-1].values #Volume\n",
    "#x=ds.iloc[:,0:3].values #Volume\n",
    "#x=ds.iloc[:,[0,1,2,3]].values \n",
    "#y=ds.iloc[:,4].values #Price\n",
    "#=ds.iloc[:,-1].values #Volume\n",
    "#print(x)\n",
    "#print(y)"
   ]
  },
  {
   "cell_type": "code",
   "execution_count": 6,
   "id": "2c4e33f5",
   "metadata": {},
   "outputs": [],
   "source": [
    "x=ds.iloc[:,:-1].values \n",
    "y=ds.iloc[:,1].values"
   ]
  },
  {
   "cell_type": "code",
   "execution_count": 6,
   "id": "2117d400",
   "metadata": {},
   "outputs": [
    {
     "name": "stdout",
     "output_type": "stream",
     "text": [
      "[[1.0 0.0 101184 70674 97009]\n",
      " [0.0 1.0 70132 52030 63587]\n",
      " [1.0 0.0 149539 98535 199994]\n",
      " [0.0 1.0 75821 53649 66500]\n",
      " [0.0 1.0 97730 68667 91754]\n",
      " [0.0 1.0 84544 60923 81618]\n",
      " [1.0 0.0 117490 85379 146277]\n",
      " [0.0 1.0 119913 86499 150579]\n",
      " [0.0 1.0 145244 95108 189066]\n",
      " [1.0 0.0 147217 95598 190309]\n",
      " [0.0 1.0 81746 56815 72351]\n",
      " [1.0 0.0 107967 74058 106215]\n",
      " [1.0 0.0 74692 52493 64267]\n",
      " [1.0 0.0 72228 52210 63719]\n",
      " [0.0 1.0 96292 68521 90007]\n",
      " [1.0 0.0 124506 86995 153382]\n",
      " [0.0 1.0 113543 82796 122345]\n",
      " [1.0 0.0 142585 94589 184603]\n",
      " [1.0 0.0 118057 86227 146948]\n",
      " [1.0 0.0 86260 63082 85320]\n",
      " [1.0 0.0 63601 51026 59932]\n",
      " [1.0 0.0 113200 76388 115984]\n",
      " [0.0 1.0 141331 93725 171453]\n",
      " [1.0 0.0 79667 54864 69102]\n",
      " [0.0 1.0 112208 75407 115316]\n",
      " [1.0 0.0 82622 59754 72987]\n",
      " [0.0 1.0 127721 88888 153477]\n",
      " [0.0 1.0 117901 85532 146822]\n",
      " [0.0 1.0 147364 96275 191812]\n",
      " [1.0 0.0 110661 75404 114864]\n",
      " [0.0 1.0 107360 73604 100773]\n",
      " [0.0 1.0 87194 63403 87468]\n",
      " [1.0 0.0 75381 52575 66116]\n",
      " [1.0 0.0 113427 78653 119763]\n",
      " [0.0 1.0 103004 71720 100065]\n",
      " [0.0 1.0 109249 74209 109578]\n",
      " [0.0 1.0 134157 92647 167690]\n",
      " [1.0 0.0 116481 83866 141719]\n",
      " [0.0 1.0 85908 61800 82411]\n",
      " [0.0 1.0 131088 89489 154742]\n",
      " [1.0 0.0 81818 57716 72492]\n",
      " [0.0 1.0 87227 67434 87488]\n",
      " [1.0 0.0 103666 72280 100346]\n",
      " [0.0 1.0 134089 91457 166994]\n",
      " [1.0 0.0 100846 69194 95680]\n",
      " [0.0 1.0 63540 50907 57776]\n",
      " [1.0 0.0 114384 83388 126691]\n",
      " [0.0 1.0 53199 50191 52911]\n",
      " [1.0 0.0 131777 89570 160129]\n",
      " [1.0 0.0 110643 74362 112527]]\n"
     ]
    }
   ],
   "source": [
    "#Handling or Encode categorical variables\n",
    "from sklearn.preprocessing import LabelEncoder, OneHotEncoder\n",
    "from sklearn.compose import ColumnTransformer\n",
    "labelencoder_x = LabelEncoder()\n",
    "x[:, 3] = labelencoder_x.fit_transform(x[:, 3])\n",
    "\n",
    "ct = ColumnTransformer([(\"State\", OneHotEncoder(), [3])], remainder = 'passthrough')\n",
    "x = ct.fit_transform(x)\n",
    "print(x)"
   ]
  },
  {
   "cell_type": "code",
   "execution_count": 7,
   "id": "2ae49e91",
   "metadata": {},
   "outputs": [
    {
     "name": "stdout",
     "output_type": "stream",
     "text": [
      "[[0.0 101184 70674 97009]\n",
      " [1.0 70132 52030 63587]\n",
      " [0.0 149539 98535 199994]\n",
      " [1.0 75821 53649 66500]\n",
      " [1.0 97730 68667 91754]\n",
      " [1.0 84544 60923 81618]\n",
      " [0.0 117490 85379 146277]\n",
      " [1.0 119913 86499 150579]\n",
      " [1.0 145244 95108 189066]\n",
      " [0.0 147217 95598 190309]\n",
      " [1.0 81746 56815 72351]\n",
      " [0.0 107967 74058 106215]\n",
      " [0.0 74692 52493 64267]\n",
      " [0.0 72228 52210 63719]\n",
      " [1.0 96292 68521 90007]\n",
      " [0.0 124506 86995 153382]\n",
      " [1.0 113543 82796 122345]\n",
      " [0.0 142585 94589 184603]\n",
      " [0.0 118057 86227 146948]\n",
      " [0.0 86260 63082 85320]\n",
      " [0.0 63601 51026 59932]\n",
      " [0.0 113200 76388 115984]\n",
      " [1.0 141331 93725 171453]\n",
      " [0.0 79667 54864 69102]\n",
      " [1.0 112208 75407 115316]\n",
      " [0.0 82622 59754 72987]\n",
      " [1.0 127721 88888 153477]\n",
      " [1.0 117901 85532 146822]\n",
      " [1.0 147364 96275 191812]\n",
      " [0.0 110661 75404 114864]\n",
      " [1.0 107360 73604 100773]\n",
      " [1.0 87194 63403 87468]\n",
      " [0.0 75381 52575 66116]\n",
      " [0.0 113427 78653 119763]\n",
      " [1.0 103004 71720 100065]\n",
      " [1.0 109249 74209 109578]\n",
      " [1.0 134157 92647 167690]\n",
      " [0.0 116481 83866 141719]\n",
      " [1.0 85908 61800 82411]\n",
      " [1.0 131088 89489 154742]\n",
      " [0.0 81818 57716 72492]\n",
      " [1.0 87227 67434 87488]\n",
      " [0.0 103666 72280 100346]\n",
      " [1.0 134089 91457 166994]\n",
      " [0.0 100846 69194 95680]\n",
      " [1.0 63540 50907 57776]\n",
      " [0.0 114384 83388 126691]\n",
      " [1.0 53199 50191 52911]\n",
      " [0.0 131777 89570 160129]\n",
      " [0.0 110643 74362 112527]]\n"
     ]
    }
   ],
   "source": [
    "#Avoid dummy variable,remove the unnecessary column\n",
    "x=x[:,1:] #keep B\n",
    "#x=x[:,[0,2,3,4]] #keep A\n",
    "print(x)"
   ]
  },
  {
   "cell_type": "markdown",
   "id": "36b4e5de",
   "metadata": {},
   "source": [
    "#calculate the correlation coefficient for the dataset\n",
    "corr = ds.corr()\n",
    "print(corr)"
   ]
  },
  {
   "cell_type": "code",
   "execution_count": null,
   "id": "0c361ef1",
   "metadata": {},
   "outputs": [],
   "source": [
    "\n",
    "#Visualizing training set result\n",
    "plt.scatter(x_train,y_train,color='blue') # plot the points\n",
    "plt.plot(x_train, regressor.predict(x_train),color='red')# plot the line\n",
    "plt.title('Price vs Volume (Training set)')\n",
    "plt.xlabel('Volume')\n",
    "plt.ylabel('Price')"
   ]
  },
  {
   "cell_type": "code",
   "execution_count": 7,
   "id": "dbede085",
   "metadata": {},
   "outputs": [
    {
     "data": {
      "text/plain": [
       "LinearRegression()"
      ]
     },
     "execution_count": 7,
     "metadata": {},
     "output_type": "execute_result"
    }
   ],
   "source": [
    "#Fitting polynomial regression to the dataset\n",
    "from sklearn.preprocessing import PolynomialFeatures\n",
    "from sklearn.linear_model import LinearRegression\n",
    "\n",
    "poly_reg= PolynomialFeatures(degree=2)\n",
    "x_poly=poly_reg.fit_transform(x)\n",
    "\n",
    "regressor=LinearRegression()\n",
    "regressor.fit(x_poly,y)"
   ]
  },
  {
   "cell_type": "code",
   "execution_count": 8,
   "id": "37e44c27",
   "metadata": {},
   "outputs": [
    {
     "data": {
      "image/png": "[encoded data removed]",
      "text/plain": [
       "<Figure size 432x288 with 1 Axes>"
      ]
     },
     "metadata": {
      "needs_background": "light"
     },
     "output_type": "display_data"
    }
   ],
   "source": [
    "#visualizing the result\n",
    "plt.scatter(x,y,color='red')\n",
    "plt.plot(x, regressor.predict(x_poly), color='blue')\n",
    "plt.title('Price vs Volume')\n",
    "plt.xlabel('Volume')\n",
    "plt.ylabel('Price')\n",
    "plt.show()"
   ]
  },
  {
   "cell_type": "code",
   "execution_count": 9,
   "id": "f21929b6",
   "metadata": {},
   "outputs": [
    {
     "data": {
      "text/plain": [
       "LinearRegression()"
      ]
     },
     "execution_count": 9,
     "metadata": {},
     "output_type": "execute_result"
    }
   ],
   "source": [
    "#Fitting polynomial regression to the dataset\n",
    "from sklearn.preprocessing import PolynomialFeatures\n",
    "from sklearn.linear_model import LinearRegression\n",
    "\n",
    "poly_reg= PolynomialFeatures(degree=2)\n",
    "x_poly=poly_reg.fit_transform(x)\n",
    "\n",
    "regressor=LinearRegression()\n",
    "regressor.fit(x_poly,y)"
   ]
  },
  {
   "cell_type": "code",
   "execution_count": null,
   "id": "f46fbbf5",
   "metadata": {},
   "outputs": [],
   "source": [
    "#visualizing the result\n",
    "plt.scatter(x,y,color='red')\n",
    "plt.plot(x, regressor.predict(x_poly), color='blue')\n",
    "plt.title('Price vs Volume')\n",
    "plt.xlabel('Volume')\n",
    "plt.ylabel('Price')\n",
    "plt.show()"
   ]
  },
  {
   "cell_type": "code",
   "execution_count": null,
   "id": "4f0cd174",
   "metadata": {},
   "outputs": [],
   "source": [
    "#Fitting polynomial regression to the dataset\n",
    "from sklearn.preprocessing import PolynomialFeatures\n",
    "from sklearn.linear_model import LinearRegression\n",
    "poly_reg= PolynomialFeatures(degree=5)\n",
    "x_poly=poly_reg.fit_transform(x)\n",
    "regressor=LinearRegression()\n",
    "regressor.fit(x_poly,y)"
   ]
  },
  {
   "cell_type": "code",
   "execution_count": null,
   "id": "5e993b96",
   "metadata": {},
   "outputs": [],
   "source": [
    "# Polynomial Linear Regression – Step 3:\n",
    "# visualizing the result\n",
    "plt.scatter(x,y,color='red')\n",
    "plt.plot(x, regressor.predict(x_poly), color='blue')\n",
    "plt.title('Price vs Volume')\n",
    "plt.xlabel('Volume')\n",
    "plt.ylabel('Price')\n",
    "plt.show"
   ]
  },
  {
   "cell_type": "code",
   "execution_count": null,
   "id": "b874ee4e",
   "metadata": {},
   "outputs": [],
   "source": [
    "##visualizing the regression result(for higher resolution and smoother curve) \n",
    "x_grid = np.arange(min(x),max(x),0.1)\n",
    "x_grid=x_grid.reshape((len(x_grid),1))\n",
    "\n",
    "plt.scatter(x,y,color='red')\n",
    "plt.plot(x_grid, regressor.predict(poly_reg.fit_transform(x_grid)), color='blue')\n",
    "plt.title('Price vs Volume(polynomial regression) ')\n",
    "plt.xlabel('Volume')\n",
    "plt.ylabel('Price')\n",
    "plt.show()"
   ]
  },
  {
   "cell_type": "code",
   "execution_count": 8,
   "id": "8a5ae1d6",
   "metadata": {},
   "outputs": [],
   "source": [
    "# #splitting the dataset into training and test sets\n",
    "# from sklearn.model_selection import train_test_split\n",
    "# x_train, x_test, y_train, y_test = train_test_split(x, y, test_size = 0.2, random_state = 0)"
   ]
  },
  {
   "cell_type": "code",
   "execution_count": 9,
   "id": "e8fb2a43",
   "metadata": {},
   "outputs": [
    {
     "name": "stdout",
     "output_type": "stream",
     "text": [
      "Coefficients,beta: [-7.64437381e+03  6.21135973e-01  6.94950794e+00 -1.91570893e-01]\n",
      "Constant,alpha: [-247075.19282106]\n"
     ]
    }
   ],
   "source": [
    "# # multiple linear regression - step 2 \n",
    "# #Fitting simple linear regression to training set\n",
    "# from sklearn.linear_model import LinearRegression\n",
    "# regressor=LinearRegression()\n",
    "# regressor.fit(x_train,y_train)\n",
    "# print('Coefficients,beta:', regressor.coef_)\n",
    "# print('Constant,alpha:', regressor.predict([[0,0,0,0]])) # y= mx1 + mx2 + mx3 + mx4 + c"
   ]
  },
  {
   "cell_type": "code",
   "execution_count": 10,
   "id": "c67eeb1d",
   "metadata": {},
   "outputs": [
    {
     "name": "stdout",
     "output_type": "stream",
     "text": [
      "[469131.79514153 314305.95098855 177031.76224272 251333.22466428\n",
      " 492265.59457446 384791.47672058 212333.02403266 223303.09210661\n",
      " 451563.42840049 265608.51763769]\n",
      "[466013 305250 188824 241206 495552 397289 222793 229567 438294 247841]\n"
     ]
    }
   ],
   "source": [
    "# #Predicting the results for test set\n",
    "# y_pred=regressor.predict(x_test)\n",
    "# print(y_pred) # predicted\n",
    "# print(y_test) # actual"
   ]
  },
  {
   "cell_type": "code",
   "execution_count": 11,
   "id": "e1c57961",
   "metadata": {},
   "outputs": [
    {
     "name": "stdout",
     "output_type": "stream",
     "text": [
      "[[1.         0.99542528]\n",
      " [0.99542528 1.        ]]\n"
     ]
    }
   ],
   "source": [
    "# #calculate the correlation coefficient\n",
    "# corr=np.corrcoef(y_pred, y_test)\n",
    "# print(corr)"
   ]
  },
  {
   "cell_type": "code",
   "execution_count": 12,
   "id": "d7c0ed03",
   "metadata": {},
   "outputs": [
    {
     "name": "stdout",
     "output_type": "stream",
     "text": [
      "114075328.33230333\n"
     ]
    }
   ],
   "source": [
    "# from sklearn.metrics import mean_squared_error\n",
    "# MSE = mean_squared_error(y_test, y_pred)\n",
    "# print(MSE) # MSE to compare 2 model"
   ]
  },
  {
   "cell_type": "code",
   "execution_count": 10,
   "id": "31d3496f",
   "metadata": {},
   "outputs": [
    {
     "name": "stdout",
     "output_type": "stream",
     "text": [
      "[ 2724.87262355 32865.27308555 58572.2800645 ]\n"
     ]
    }
   ],
   "source": [
    "y_predict=regressor.predict(poly_reg.fit_transform([[35],[80],[100]]))\n",
    "print(y_predict)"
   ]
  },
  {
   "cell_type": "code",
   "execution_count": null,
   "id": "45c1cbaa",
   "metadata": {},
   "outputs": [],
   "source": []
  },
  {
   "cell_type": "code",
   "execution_count": null,
   "id": "cf475655",
   "metadata": {},
   "outputs": [],
   "source": []
  },
  {
   "cell_type": "code",
   "execution_count": null,
   "id": "a6ebc199",
   "metadata": {},
   "outputs": [],
   "source": []
  },
  {
   "cell_type": "code",
   "execution_count": null,
   "id": "06f5be46",
   "metadata": {},
   "outputs": [],
   "source": []
  }
 ],
 "metadata": {
  "kernelspec": {
   "display_name": "Python 3 (ipykernel)",
   "language": "python",
   "name": "python3"
  },
  "language_info": {
   "codemirror_mode": {
    "name": "ipython",
    "version": 3
   },
   "file_extension": ".py",
   "mimetype": "text/x-python",
   "name": "python",
   "nbconvert_exporter": "python",
   "pygments_lexer": "ipython3",
   "version": "3.9.12"
  }
 },
 "nbformat": 4,
 "nbformat_minor": 5
}
