{
 "cells": [
  {
   "cell_type": "code",
   "execution_count": 2,
   "id": "07252a3e",
   "metadata": {},
   "outputs": [],
   "source": [
    "#import library\n",
    "import pandas as pd\n",
    "#import dataset\n",
    "dataset = pd.read_csv('dataset/10_initial_FS.csv')"
   ]
  },
  {
   "cell_type": "code",
   "execution_count": 3,
   "id": "a3c1685d",
   "metadata": {},
   "outputs": [
    {
     "name": "stdout",
     "output_type": "stream",
     "text": [
      "<class 'pandas.core.frame.DataFrame'>\n",
      "RangeIndex: 10 entries, 0 to 9\n",
      "Data columns (total 5 columns):\n",
      " #   Column             Non-Null Count  Dtype \n",
      "---  ------             --------------  ----- \n",
      " 0   country            10 non-null     object\n",
      " 1   Age                10 non-null     int64 \n",
      " 2   Weight             10 non-null     int64 \n",
      " 3   Salary             10 non-null     int64 \n",
      " 4   Sleep before 10pm  10 non-null     bool  \n",
      "dtypes: bool(1), int64(3), object(1)\n",
      "memory usage: 458.0+ bytes\n"
     ]
    }
   ],
   "source": [
    "#inspection on dataset\n",
    "dataset.info()"
   ]
  },
  {
   "cell_type": "code",
   "execution_count": 4,
   "id": "1197b6af",
   "metadata": {},
   "outputs": [
    {
     "data": {
      "text/html": [
       "<div>\n",
       "<style scoped>\n",
       "    .dataframe tbody tr th:only-of-type {\n",
       "        vertical-align: middle;\n",
       "    }\n",
       "\n",
       "    .dataframe tbody tr th {\n",
       "        vertical-align: top;\n",
       "    }\n",
       "\n",
       "    .dataframe thead th {\n",
       "        text-align: right;\n",
       "    }\n",
       "</style>\n",
       "<table border=\"1\" class=\"dataframe\">\n",
       "  <thead>\n",
       "    <tr style=\"text-align: right;\">\n",
       "      <th></th>\n",
       "      <th>country</th>\n",
       "      <th>Age</th>\n",
       "      <th>Weight</th>\n",
       "      <th>Salary</th>\n",
       "      <th>Sleep before 10pm</th>\n",
       "    </tr>\n",
       "  </thead>\n",
       "  <tbody>\n",
       "    <tr>\n",
       "      <th>0</th>\n",
       "      <td>China</td>\n",
       "      <td>39</td>\n",
       "      <td>33</td>\n",
       "      <td>54656</td>\n",
       "      <td>True</td>\n",
       "    </tr>\n",
       "    <tr>\n",
       "      <th>1</th>\n",
       "      <td>Philippines</td>\n",
       "      <td>49</td>\n",
       "      <td>47</td>\n",
       "      <td>79952</td>\n",
       "      <td>False</td>\n",
       "    </tr>\n",
       "    <tr>\n",
       "      <th>2</th>\n",
       "      <td>China</td>\n",
       "      <td>44</td>\n",
       "      <td>39</td>\n",
       "      <td>97507</td>\n",
       "      <td>False</td>\n",
       "    </tr>\n",
       "    <tr>\n",
       "      <th>3</th>\n",
       "      <td>China</td>\n",
       "      <td>39</td>\n",
       "      <td>78</td>\n",
       "      <td>98912</td>\n",
       "      <td>False</td>\n",
       "    </tr>\n",
       "    <tr>\n",
       "      <th>4</th>\n",
       "      <td>China</td>\n",
       "      <td>29</td>\n",
       "      <td>36</td>\n",
       "      <td>69585</td>\n",
       "      <td>False</td>\n",
       "    </tr>\n",
       "  </tbody>\n",
       "</table>\n",
       "</div>"
      ],
      "text/plain": [
       "       country  Age  Weight  Salary  Sleep before 10pm\n",
       "0        China   39      33   54656               True\n",
       "1  Philippines   49      47   79952              False\n",
       "2        China   44      39   97507              False\n",
       "3        China   39      78   98912              False\n",
       "4        China   29      36   69585              False"
      ]
     },
     "execution_count": 4,
     "metadata": {},
     "output_type": "execute_result"
    }
   ],
   "source": [
    "dataset.head()\n"
   ]
  },
  {
   "cell_type": "code",
   "execution_count": 5,
   "id": "7a3c221c",
   "metadata": {},
   "outputs": [
    {
     "name": "stdout",
     "output_type": "stream",
     "text": [
      "[['China' 39 33 54656]\n",
      " ['Philippines' 49 47 79952]\n",
      " ['China' 44 39 97507]\n",
      " ['China' 39 78 98912]\n",
      " ['China' 29 36 69585]\n",
      " ['Indonesia' 34 93 86324]\n",
      " ['Philippines' 33 57 94321]\n",
      " ['Philippines' 26 31 65625]\n",
      " ['China' 33 35 93450]\n",
      " ['China' 41 40 70155]]\n"
     ]
    }
   ],
   "source": [
    "#define input and output of dataset\n",
    "X = dataset.iloc[:,0:4].values\n",
    "y = dataset.iloc[:4].values\n",
    "print(X)"
   ]
  },
  {
   "cell_type": "code",
   "execution_count": 6,
   "id": "55614f5f",
   "metadata": {},
   "outputs": [
    {
     "data": {
      "text/plain": [
       "array([[1.0, 0.0, 0.0, 39, 33, 54656],\n",
       "       [0.0, 0.0, 1.0, 49, 47, 79952],\n",
       "       [1.0, 0.0, 0.0, 44, 39, 97507],\n",
       "       [1.0, 0.0, 0.0, 39, 78, 98912],\n",
       "       [1.0, 0.0, 0.0, 29, 36, 69585],\n",
       "       [0.0, 1.0, 0.0, 34, 93, 86324],\n",
       "       [0.0, 0.0, 1.0, 33, 57, 94321],\n",
       "       [0.0, 0.0, 1.0, 26, 31, 65625],\n",
       "       [1.0, 0.0, 0.0, 33, 35, 93450],\n",
       "       [1.0, 0.0, 0.0, 41, 40, 70155]], dtype=object)"
      ]
     },
     "execution_count": 6,
     "metadata": {},
     "output_type": "execute_result"
    }
   ],
   "source": [
    "from sklearn.preprocessing import LabelEncoder, OneHotEncoder\n",
    "labelencoder_X = LabelEncoder()\n",
    "X[:, 0] = labelencoder_X.fit_transform(X[:, 0])\n",
    "\n",
    "from sklearn.compose import ColumnTransformer\n",
    "ct = ColumnTransformer([(\"Country\", OneHotEncoder(), [0])], remainder = 'passthrough')\n",
    "X = ct.fit_transform(X)\n",
    "X"
   ]
  },
  {
   "cell_type": "code",
   "execution_count": 7,
   "id": "9a8c265f",
   "metadata": {},
   "outputs": [],
   "source": [
    "#import scaler\n",
    "from sklearn.preprocessing import StandardScaler\n",
    "sc_X = StandardScaler()\n",
    "X = sc_X.fit_transform(X)"
   ]
  },
  {
   "cell_type": "code",
   "execution_count": 8,
   "id": "f77bf276",
   "metadata": {},
   "outputs": [
    {
     "name": "stdout",
     "output_type": "stream",
     "text": [
      "[[ 0.81649658 -0.33333333 -0.65465367  0.34591355 -0.79790769 -1.8069119 ]\n",
      " [-1.22474487 -0.33333333  1.52752523  1.84988552 -0.09534746 -0.07508289]\n",
      " [ 0.81649658 -0.33333333 -0.65465367  1.09789954 -0.49681045  1.12677741]\n",
      " [ 0.81649658 -0.33333333 -0.65465367  0.34591355  1.46032162  1.22296731]\n",
      " [ 0.81649658 -0.33333333 -0.65465367 -1.15805842 -0.64735907 -0.78483429]\n",
      " [-1.22474487  3.         -0.65465367 -0.40607243  2.21306472  0.36116056]\n",
      " [-1.22474487 -0.33333333  1.52752523 -0.55646963  0.40648127  0.90865568]\n",
      " [-1.22474487 -0.33333333  1.52752523 -1.60925001 -0.89827343 -1.05594604]\n",
      " [ 0.81649658 -0.33333333 -0.65465367 -0.55646963 -0.69754194  0.84902479]\n",
      " [ 0.81649658 -0.33333333 -0.65465367  0.64670795 -0.44662757 -0.74581063]]\n"
     ]
    }
   ],
   "source": [
    "print(X)"
   ]
  }
 ],
 "metadata": {
  "kernelspec": {
   "display_name": "Python 3 (ipykernel)",
   "language": "python",
   "name": "python3"
  },
  "language_info": {
   "codemirror_mode": {
    "name": "ipython",
    "version": 3
   },
   "file_extension": ".py",
   "mimetype": "text/x-python",
   "name": "python",
   "nbconvert_exporter": "python",
   "pygments_lexer": "ipython3",
   "version": "3.9.12"
  }
 },
 "nbformat": 4,
 "nbformat_minor": 5
}
