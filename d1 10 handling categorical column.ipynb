{
 "cells": [
  {
   "cell_type": "markdown",
   "id": "bf03b3d4",
   "metadata": {},
   "source": [
    "untuk tengok documentation\n",
    "sebelum square()\n",
    "press \n",
    "shift + tab"
   ]
  },
  {
   "cell_type": "code",
   "execution_count": 1,
   "id": "c14d0787",
   "metadata": {},
   "outputs": [
    {
     "data": {
      "text/html": [
       "<div>\n",
       "<style scoped>\n",
       "    .dataframe tbody tr th:only-of-type {\n",
       "        vertical-align: middle;\n",
       "    }\n",
       "\n",
       "    .dataframe tbody tr th {\n",
       "        vertical-align: top;\n",
       "    }\n",
       "\n",
       "    .dataframe thead th {\n",
       "        text-align: right;\n",
       "    }\n",
       "</style>\n",
       "<table border=\"1\" class=\"dataframe\">\n",
       "  <thead>\n",
       "    <tr style=\"text-align: right;\">\n",
       "      <th></th>\n",
       "      <th>country</th>\n",
       "      <th>Age</th>\n",
       "      <th>Weight</th>\n",
       "      <th>Sleep before 10pm</th>\n",
       "    </tr>\n",
       "  </thead>\n",
       "  <tbody>\n",
       "    <tr>\n",
       "      <th>0</th>\n",
       "      <td>China</td>\n",
       "      <td>39.0</td>\n",
       "      <td>33.0</td>\n",
       "      <td>True</td>\n",
       "    </tr>\n",
       "    <tr>\n",
       "      <th>1</th>\n",
       "      <td>Philippines</td>\n",
       "      <td>49.0</td>\n",
       "      <td>47.0</td>\n",
       "      <td>False</td>\n",
       "    </tr>\n",
       "    <tr>\n",
       "      <th>2</th>\n",
       "      <td>China</td>\n",
       "      <td>NaN</td>\n",
       "      <td>39.0</td>\n",
       "      <td>False</td>\n",
       "    </tr>\n",
       "    <tr>\n",
       "      <th>3</th>\n",
       "      <td>China</td>\n",
       "      <td>39.0</td>\n",
       "      <td>78.0</td>\n",
       "      <td>False</td>\n",
       "    </tr>\n",
       "    <tr>\n",
       "      <th>4</th>\n",
       "      <td>China</td>\n",
       "      <td>29.0</td>\n",
       "      <td>NaN</td>\n",
       "      <td>False</td>\n",
       "    </tr>\n",
       "  </tbody>\n",
       "</table>\n",
       "</div>"
      ],
      "text/plain": [
       "       country   Age  Weight  Sleep before 10pm\n",
       "0        China  39.0    33.0               True\n",
       "1  Philippines  49.0    47.0              False\n",
       "2        China   NaN    39.0              False\n",
       "3        China  39.0    78.0              False\n",
       "4        China  29.0     NaN              False"
      ]
     },
     "execution_count": 1,
     "metadata": {},
     "output_type": "execute_result"
    }
   ],
   "source": [
    "# handle missing data - step 4\n",
    "# import new dataset\n",
    "import pandas as pd\n",
    "dataset = pd.read_csv('10_initial_m.csv')\n",
    "dataset.head()"
   ]
  },
  {
   "cell_type": "code",
   "execution_count": 2,
   "id": "55d4bd43",
   "metadata": {},
   "outputs": [
    {
     "name": "stdout",
     "output_type": "stream",
     "text": [
      "<class 'pandas.core.frame.DataFrame'>\n",
      "RangeIndex: 10 entries, 0 to 9\n",
      "Data columns (total 4 columns):\n",
      " #   Column             Non-Null Count  Dtype  \n",
      "---  ------             --------------  -----  \n",
      " 0   country            10 non-null     object \n",
      " 1   Age                8 non-null      float64\n",
      " 2   Weight             8 non-null      float64\n",
      " 3   Sleep before 10pm  10 non-null     bool   \n",
      "dtypes: bool(1), float64(2), object(1)\n",
      "memory usage: 378.0+ bytes\n"
     ]
    }
   ],
   "source": [
    "dataset.info()"
   ]
  },
  {
   "cell_type": "code",
   "execution_count": 3,
   "id": "c35438b4",
   "metadata": {},
   "outputs": [],
   "source": [
    "X = dataset.iloc[:, :-1].values\n",
    "y = dataset.iloc[:, 3].values"
   ]
  },
  {
   "cell_type": "code",
   "execution_count": 4,
   "id": "fbcbb456",
   "metadata": {},
   "outputs": [],
   "source": [
    "# #using SimpleImputer class \n",
    "# import numpy as np \n",
    "# # Importing the SimpleImputer class \n",
    "# from sklearn.impute import SimpleImputer \n",
    "  \n",
    "# # Imputer object using the mean strategy and missing_values type for imputation \n",
    "# imputer = SimpleImputer(missing_values = np.nan,strategy ='mean')\n",
    "# X[:,1:3]= imputer.fit_transform(X[:,1:3]) # column index 1,2 (3 not included) : age & weight column\n",
    "# X"
   ]
  },
  {
   "cell_type": "code",
   "execution_count": 5,
   "id": "042bb7a1",
   "metadata": {},
   "outputs": [],
   "source": [
    "#using SimpleImputer class \n",
    "import numpy as np \n",
    "# Importing the SimpleImputer class \n",
    "from sklearn.impute import SimpleImputer \n",
    "  \n",
    "# Imputer object using the mean strategy and missing_values type for imputation \n",
    "imputer = SimpleImputer(missing_values = np.nan,strategy ='mean')\n",
    "imputer = imputer.fit(X[:,1:3]) # column index 1,2 (3 not included) : age & weight column\n",
    "X[:,1:3]=imputer.transform(X[:,1:3]) # update 1,2 column"
   ]
  },
  {
   "cell_type": "code",
   "execution_count": 6,
   "id": "7a4754a2",
   "metadata": {},
   "outputs": [
    {
     "data": {
      "text/plain": [
       "array([['China', 39.0, 33.0],\n",
       "       ['Philippines', 49.0, 47.0],\n",
       "       ['China', 36.25, 39.0],\n",
       "       ['China', 39.0, 78.0],\n",
       "       ['China', 29.0, 51.625],\n",
       "       ['Indonesia', 34.0, 93.0],\n",
       "       ['Philippines', 33.0, 57.0],\n",
       "       ['Philippines', 26.0, 31.0],\n",
       "       ['China', 36.25, 35.0],\n",
       "       ['China', 41.0, 51.625]], dtype=object)"
      ]
     },
     "execution_count": 6,
     "metadata": {},
     "output_type": "execute_result"
    }
   ],
   "source": [
    "X"
   ]
  },
  {
   "cell_type": "code",
   "execution_count": 7,
   "id": "64691c2f",
   "metadata": {
    "scrolled": true
   },
   "outputs": [
    {
     "data": {
      "text/html": [
       "<div>\n",
       "<style scoped>\n",
       "    .dataframe tbody tr th:only-of-type {\n",
       "        vertical-align: middle;\n",
       "    }\n",
       "\n",
       "    .dataframe tbody tr th {\n",
       "        vertical-align: top;\n",
       "    }\n",
       "\n",
       "    .dataframe thead th {\n",
       "        text-align: right;\n",
       "    }\n",
       "</style>\n",
       "<table border=\"1\" class=\"dataframe\">\n",
       "  <thead>\n",
       "    <tr style=\"text-align: right;\">\n",
       "      <th></th>\n",
       "      <th>country</th>\n",
       "      <th>Age</th>\n",
       "      <th>Weight</th>\n",
       "      <th>Sleep before 10pm</th>\n",
       "    </tr>\n",
       "  </thead>\n",
       "  <tbody>\n",
       "    <tr>\n",
       "      <th>0</th>\n",
       "      <td>China</td>\n",
       "      <td>39.0</td>\n",
       "      <td>33.0</td>\n",
       "      <td>True</td>\n",
       "    </tr>\n",
       "    <tr>\n",
       "      <th>1</th>\n",
       "      <td>Philippines</td>\n",
       "      <td>49.0</td>\n",
       "      <td>47.0</td>\n",
       "      <td>False</td>\n",
       "    </tr>\n",
       "    <tr>\n",
       "      <th>2</th>\n",
       "      <td>China</td>\n",
       "      <td>NaN</td>\n",
       "      <td>39.0</td>\n",
       "      <td>False</td>\n",
       "    </tr>\n",
       "    <tr>\n",
       "      <th>3</th>\n",
       "      <td>China</td>\n",
       "      <td>39.0</td>\n",
       "      <td>78.0</td>\n",
       "      <td>False</td>\n",
       "    </tr>\n",
       "    <tr>\n",
       "      <th>4</th>\n",
       "      <td>China</td>\n",
       "      <td>29.0</td>\n",
       "      <td>NaN</td>\n",
       "      <td>False</td>\n",
       "    </tr>\n",
       "    <tr>\n",
       "      <th>5</th>\n",
       "      <td>Indonesia</td>\n",
       "      <td>34.0</td>\n",
       "      <td>93.0</td>\n",
       "      <td>False</td>\n",
       "    </tr>\n",
       "    <tr>\n",
       "      <th>6</th>\n",
       "      <td>Philippines</td>\n",
       "      <td>33.0</td>\n",
       "      <td>57.0</td>\n",
       "      <td>False</td>\n",
       "    </tr>\n",
       "    <tr>\n",
       "      <th>7</th>\n",
       "      <td>Philippines</td>\n",
       "      <td>26.0</td>\n",
       "      <td>31.0</td>\n",
       "      <td>True</td>\n",
       "    </tr>\n",
       "    <tr>\n",
       "      <th>8</th>\n",
       "      <td>China</td>\n",
       "      <td>NaN</td>\n",
       "      <td>35.0</td>\n",
       "      <td>True</td>\n",
       "    </tr>\n",
       "    <tr>\n",
       "      <th>9</th>\n",
       "      <td>China</td>\n",
       "      <td>41.0</td>\n",
       "      <td>NaN</td>\n",
       "      <td>False</td>\n",
       "    </tr>\n",
       "  </tbody>\n",
       "</table>\n",
       "</div>"
      ],
      "text/plain": [
       "       country   Age  Weight  Sleep before 10pm\n",
       "0        China  39.0    33.0               True\n",
       "1  Philippines  49.0    47.0              False\n",
       "2        China   NaN    39.0              False\n",
       "3        China  39.0    78.0              False\n",
       "4        China  29.0     NaN              False\n",
       "5    Indonesia  34.0    93.0              False\n",
       "6  Philippines  33.0    57.0              False\n",
       "7  Philippines  26.0    31.0               True\n",
       "8        China   NaN    35.0               True\n",
       "9        China  41.0     NaN              False"
      ]
     },
     "execution_count": 7,
     "metadata": {},
     "output_type": "execute_result"
    }
   ],
   "source": [
    "dataset # masih original ada nan sbb kita touch X= BUKAN dataset="
   ]
  },
  {
   "cell_type": "code",
   "execution_count": 8,
   "id": "f36b4a09",
   "metadata": {},
   "outputs": [
    {
     "data": {
      "text/html": [
       "<div>\n",
       "<style scoped>\n",
       "    .dataframe tbody tr th:only-of-type {\n",
       "        vertical-align: middle;\n",
       "    }\n",
       "\n",
       "    .dataframe tbody tr th {\n",
       "        vertical-align: top;\n",
       "    }\n",
       "\n",
       "    .dataframe thead th {\n",
       "        text-align: right;\n",
       "    }\n",
       "</style>\n",
       "<table border=\"1\" class=\"dataframe\">\n",
       "  <thead>\n",
       "    <tr style=\"text-align: right;\">\n",
       "      <th></th>\n",
       "      <th>country</th>\n",
       "      <th>Age</th>\n",
       "      <th>Weight</th>\n",
       "      <th>Sleep before 10pm</th>\n",
       "    </tr>\n",
       "  </thead>\n",
       "  <tbody>\n",
       "    <tr>\n",
       "      <th>0</th>\n",
       "      <td>China</td>\n",
       "      <td>39.0</td>\n",
       "      <td>33.0</td>\n",
       "      <td>True</td>\n",
       "    </tr>\n",
       "    <tr>\n",
       "      <th>1</th>\n",
       "      <td>Philippines</td>\n",
       "      <td>49.0</td>\n",
       "      <td>47.0</td>\n",
       "      <td>False</td>\n",
       "    </tr>\n",
       "    <tr>\n",
       "      <th>2</th>\n",
       "      <td>China</td>\n",
       "      <td>36.25</td>\n",
       "      <td>39.0</td>\n",
       "      <td>False</td>\n",
       "    </tr>\n",
       "    <tr>\n",
       "      <th>3</th>\n",
       "      <td>China</td>\n",
       "      <td>39.0</td>\n",
       "      <td>78.0</td>\n",
       "      <td>False</td>\n",
       "    </tr>\n",
       "    <tr>\n",
       "      <th>4</th>\n",
       "      <td>China</td>\n",
       "      <td>29.0</td>\n",
       "      <td>51.625</td>\n",
       "      <td>False</td>\n",
       "    </tr>\n",
       "    <tr>\n",
       "      <th>5</th>\n",
       "      <td>Indonesia</td>\n",
       "      <td>34.0</td>\n",
       "      <td>93.0</td>\n",
       "      <td>False</td>\n",
       "    </tr>\n",
       "    <tr>\n",
       "      <th>6</th>\n",
       "      <td>Philippines</td>\n",
       "      <td>33.0</td>\n",
       "      <td>57.0</td>\n",
       "      <td>False</td>\n",
       "    </tr>\n",
       "    <tr>\n",
       "      <th>7</th>\n",
       "      <td>Philippines</td>\n",
       "      <td>26.0</td>\n",
       "      <td>31.0</td>\n",
       "      <td>True</td>\n",
       "    </tr>\n",
       "    <tr>\n",
       "      <th>8</th>\n",
       "      <td>China</td>\n",
       "      <td>36.25</td>\n",
       "      <td>35.0</td>\n",
       "      <td>True</td>\n",
       "    </tr>\n",
       "    <tr>\n",
       "      <th>9</th>\n",
       "      <td>China</td>\n",
       "      <td>41.0</td>\n",
       "      <td>51.625</td>\n",
       "      <td>False</td>\n",
       "    </tr>\n",
       "  </tbody>\n",
       "</table>\n",
       "</div>"
      ],
      "text/plain": [
       "       country    Age  Weight  Sleep before 10pm\n",
       "0        China   39.0    33.0               True\n",
       "1  Philippines   49.0    47.0              False\n",
       "2        China  36.25    39.0              False\n",
       "3        China   39.0    78.0              False\n",
       "4        China   29.0  51.625              False\n",
       "5    Indonesia   34.0    93.0              False\n",
       "6  Philippines   33.0    57.0              False\n",
       "7  Philippines   26.0    31.0               True\n",
       "8        China  36.25    35.0               True\n",
       "9        China   41.0  51.625              False"
      ]
     },
     "execution_count": 8,
     "metadata": {},
     "output_type": "execute_result"
    }
   ],
   "source": [
    "# kalau nak update dataset, terpulang\n",
    "#to update the current dataset with filled NaN value\n",
    "#please take note that you have change the original dataset\n",
    "dataset.loc[:, 'Age'] = X[:,1]\n",
    "dataset.loc[:, 'Weight'] = X[:,2]\n",
    "dataset"
   ]
  },
  {
   "cell_type": "code",
   "execution_count": 9,
   "id": "02f09c52",
   "metadata": {},
   "outputs": [
    {
     "data": {
      "text/plain": [
       "['Philippines', 'China', 'Indonesia']"
      ]
     },
     "execution_count": 9,
     "metadata": {},
     "output_type": "execute_result"
    }
   ],
   "source": [
    "# set is to get unique data, then make it into list followed by sort\n",
    "d=list(set(dataset.iloc[:,0].values))\n",
    "d.sort\n",
    "d"
   ]
  },
  {
   "cell_type": "code",
   "execution_count": null,
   "id": "a4592528",
   "metadata": {},
   "outputs": [],
   "source": []
  },
  {
   "cell_type": "markdown",
   "id": "161550ee",
   "metadata": {},
   "source": [
    "## handling categorical column"
   ]
  },
  {
   "cell_type": "markdown",
   "id": "1c976b93",
   "metadata": {},
   "source": [
    "### a) Label Encoder"
   ]
  },
  {
   "cell_type": "code",
   "execution_count": 10,
   "id": "4c8f52a2",
   "metadata": {},
   "outputs": [
    {
     "data": {
      "text/plain": [
       "array([[0, 39.0, 33.0],\n",
       "       [2, 49.0, 47.0],\n",
       "       [0, 36.25, 39.0],\n",
       "       [0, 39.0, 78.0],\n",
       "       [0, 29.0, 51.625],\n",
       "       [1, 34.0, 93.0],\n",
       "       [2, 33.0, 57.0],\n",
       "       [2, 26.0, 31.0],\n",
       "       [0, 36.25, 35.0],\n",
       "       [0, 41.0, 51.625]], dtype=object)"
      ]
     },
     "execution_count": 10,
     "metadata": {},
     "output_type": "execute_result"
    }
   ],
   "source": [
    "#handling categorical data\n",
    "# Encoding the Independent Variable\n",
    "from sklearn.preprocessing import LabelEncoder\n",
    "labelencoder_X = LabelEncoder()\n",
    "X[:, 0] = labelencoder_X.fit_transform(X[:, 0])\n",
    "X"
   ]
  },
  {
   "cell_type": "markdown",
   "id": "72c154ca",
   "metadata": {},
   "source": [
    "TO INVERSE back to categorical name"
   ]
  },
  {
   "cell_type": "code",
   "execution_count": 11,
   "id": "793bf342",
   "metadata": {},
   "outputs": [
    {
     "data": {
      "text/plain": [
       "array(['China', 'Philippines', 'China', 'China', 'China', 'Indonesia',\n",
       "       'Philippines', 'Philippines', 'China', 'China'], dtype=object)"
      ]
     },
     "execution_count": 11,
     "metadata": {},
     "output_type": "execute_result"
    }
   ],
   "source": [
    "# inverse n convert to int type\n",
    "labelencoder_X.inverse_transform(X[:,0].astype(int))"
   ]
  },
  {
   "cell_type": "code",
   "execution_count": 12,
   "id": "ff3d03c9",
   "metadata": {},
   "outputs": [
    {
     "data": {
      "text/plain": [
       "array(['China', 'Philippines', 'China', 'China', 'China', 'Indonesia',\n",
       "       'Philippines', 'Philippines', 'China', 'China'], dtype=object)"
      ]
     },
     "execution_count": 12,
     "metadata": {},
     "output_type": "execute_result"
    }
   ],
   "source": [
    "# inverse n in list format\n",
    "labelencoder_X.inverse_transform(X[:,0].tolist())"
   ]
  },
  {
   "cell_type": "code",
   "execution_count": 13,
   "id": "2a80f71a",
   "metadata": {
    "scrolled": true
   },
   "outputs": [
    {
     "data": {
      "text/plain": [
       "array(['China', 'Philippines', 'China', 'China', 'China', 'Indonesia',\n",
       "       'Philippines', 'Philippines', 'China', 'China'], dtype=object)"
      ]
     },
     "execution_count": 13,
     "metadata": {},
     "output_type": "execute_result"
    }
   ],
   "source": [
    "labelencoder_X.inverse_transform([0, 2, 0, 0, 0, 1, 2, 2, 0, 0])"
   ]
  },
  {
   "cell_type": "code",
   "execution_count": 20,
   "id": "11d49686",
   "metadata": {},
   "outputs": [
    {
     "data": {
      "text/plain": [
       "array(['China', 'Indonesia', 'Philippines'], dtype=object)"
      ]
     },
     "execution_count": 20,
     "metadata": {},
     "output_type": "execute_result"
    }
   ],
   "source": [
    "labelencoder_X.inverse_transform([0,1,2])"
   ]
  },
  {
   "cell_type": "code",
   "execution_count": 21,
   "id": "fde53fc7",
   "metadata": {},
   "outputs": [
    {
     "data": {
      "text/plain": [
       "array(['China'], dtype=object)"
      ]
     },
     "execution_count": 21,
     "metadata": {},
     "output_type": "execute_result"
    }
   ],
   "source": [
    "labelencoder_X.inverse_transform([0])"
   ]
  },
  {
   "cell_type": "markdown",
   "id": "1710ffc2",
   "metadata": {},
   "source": [
    "### b) OneHotEncoder"
   ]
  },
  {
   "cell_type": "code",
   "execution_count": 14,
   "id": "2149918d",
   "metadata": {},
   "outputs": [
    {
     "data": {
      "text/plain": [
       "array([[1.0, 0.0, 0.0, 39.0, 33.0],\n",
       "       [0.0, 0.0, 1.0, 49.0, 47.0],\n",
       "       [1.0, 0.0, 0.0, 36.25, 39.0],\n",
       "       [1.0, 0.0, 0.0, 39.0, 78.0],\n",
       "       [1.0, 0.0, 0.0, 29.0, 51.625],\n",
       "       [0.0, 1.0, 0.0, 34.0, 93.0],\n",
       "       [0.0, 0.0, 1.0, 33.0, 57.0],\n",
       "       [0.0, 0.0, 1.0, 26.0, 31.0],\n",
       "       [1.0, 0.0, 0.0, 36.25, 35.0],\n",
       "       [1.0, 0.0, 0.0, 41.0, 51.625]], dtype=object)"
      ]
     },
     "execution_count": 14,
     "metadata": {},
     "output_type": "execute_result"
    }
   ],
   "source": [
    "# one hot encoder\n",
    "# be careful dont run 2 times hot encoder, if run 2x, column akan berganda tambah \n",
    "# remainder = 'passthrough' kalau xletak, ye akan delete column yang xbuat onehot encoder\n",
    "# remainder = 'passthrough' kalau xletak, column yang xinvolve onehotencoder akan delete\n",
    "from sklearn.preprocessing import OneHotEncoder\n",
    "from sklearn.compose import ColumnTransformer\n",
    "# at country column, at index 0, remainder = 'passthrough' for the rest columns yg xterlibat tidak didelete sekali\n",
    "ct = ColumnTransformer([(\"Country\", OneHotEncoder(), [0])], remainder = 'passthrough') \n",
    "X = ct.fit_transform(X)\n",
    "X"
   ]
  },
  {
   "cell_type": "code",
   "execution_count": 29,
   "id": "4ea7cddc",
   "metadata": {},
   "outputs": [
    {
     "data": {
      "text/html": [
       "<div>\n",
       "<style scoped>\n",
       "    .dataframe tbody tr th:only-of-type {\n",
       "        vertical-align: middle;\n",
       "    }\n",
       "\n",
       "    .dataframe tbody tr th {\n",
       "        vertical-align: top;\n",
       "    }\n",
       "\n",
       "    .dataframe thead th {\n",
       "        text-align: right;\n",
       "    }\n",
       "</style>\n",
       "<table border=\"1\" class=\"dataframe\">\n",
       "  <thead>\n",
       "    <tr style=\"text-align: right;\">\n",
       "      <th></th>\n",
       "      <th>0</th>\n",
       "      <th>1</th>\n",
       "      <th>2</th>\n",
       "      <th>3</th>\n",
       "      <th>4</th>\n",
       "      <th>5</th>\n",
       "    </tr>\n",
       "  </thead>\n",
       "  <tbody>\n",
       "    <tr>\n",
       "      <th>0</th>\n",
       "      <td>0.0</td>\n",
       "      <td>1.0</td>\n",
       "      <td>0.0</td>\n",
       "      <td>0.0</td>\n",
       "      <td>39.0</td>\n",
       "      <td>33.0</td>\n",
       "    </tr>\n",
       "    <tr>\n",
       "      <th>1</th>\n",
       "      <td>1.0</td>\n",
       "      <td>0.0</td>\n",
       "      <td>0.0</td>\n",
       "      <td>1.0</td>\n",
       "      <td>49.0</td>\n",
       "      <td>47.0</td>\n",
       "    </tr>\n",
       "    <tr>\n",
       "      <th>2</th>\n",
       "      <td>0.0</td>\n",
       "      <td>1.0</td>\n",
       "      <td>0.0</td>\n",
       "      <td>0.0</td>\n",
       "      <td>36.25</td>\n",
       "      <td>39.0</td>\n",
       "    </tr>\n",
       "    <tr>\n",
       "      <th>3</th>\n",
       "      <td>0.0</td>\n",
       "      <td>1.0</td>\n",
       "      <td>0.0</td>\n",
       "      <td>0.0</td>\n",
       "      <td>39.0</td>\n",
       "      <td>78.0</td>\n",
       "    </tr>\n",
       "    <tr>\n",
       "      <th>4</th>\n",
       "      <td>0.0</td>\n",
       "      <td>1.0</td>\n",
       "      <td>0.0</td>\n",
       "      <td>0.0</td>\n",
       "      <td>29.0</td>\n",
       "      <td>51.625</td>\n",
       "    </tr>\n",
       "  </tbody>\n",
       "</table>\n",
       "</div>"
      ],
      "text/plain": [
       "     0    1    2    3      4       5\n",
       "0  0.0  1.0  0.0  0.0   39.0    33.0\n",
       "1  1.0  0.0  0.0  1.0   49.0    47.0\n",
       "2  0.0  1.0  0.0  0.0  36.25    39.0\n",
       "3  0.0  1.0  0.0  0.0   39.0    78.0\n",
       "4  0.0  1.0  0.0  0.0   29.0  51.625"
      ]
     },
     "execution_count": 29,
     "metadata": {},
     "output_type": "execute_result"
    }
   ],
   "source": [
    "# # one hot encoder\n",
    "# # be careful dont run 2 times hot encoder, if run 2x, column akan berganda tambah \n",
    "# # remainder = 'passthrough' kalau xletak, ye akan delete column yang xbuat onehot encoder\n",
    "# # remainder = 'passthrough' kalau xletak, column yang xinvolve onehotencoder akan delete\n",
    "# from sklearn.preprocessing import OneHotEncoder\n",
    "# from sklearn.compose import ColumnTransformer\n",
    "# # at country column, at index 0, remainder = 'passthrough' for the rest columns yg xterlibat tidak didelete sekali\n",
    "# ct = ColumnTransformer([(\"test\", OneHotEncoder(), [0])], remainder = 'passthrough') \n",
    "# z = ct.fit_transform(X)\n",
    "# a=pd.DataFrame(z)\n",
    "# a.head()\n",
    "# # a=pd.DataFrame(z).head()"
   ]
  },
  {
   "cell_type": "code",
   "execution_count": 15,
   "id": "510eb94d",
   "metadata": {},
   "outputs": [],
   "source": [
    "# split pg 108"
   ]
  },
  {
   "cell_type": "code",
   "execution_count": 16,
   "id": "888dd4ad",
   "metadata": {},
   "outputs": [],
   "source": [
    "# Dividing data into training set and test set\n",
    "from sklearn.model_selection import train_test_split\n",
    "X_train, X_test, y_train, y_test = train_test_split(X, y, test_size = 0.2,random_state=0)"
   ]
  },
  {
   "cell_type": "code",
   "execution_count": 17,
   "id": "d321fdd0",
   "metadata": {},
   "outputs": [
    {
     "name": "stdout",
     "output_type": "stream",
     "text": [
      "[[1.0 0.0 0.0 29.0 51.625]\n",
      " [1.0 0.0 0.0 41.0 51.625]\n",
      " [0.0 0.0 1.0 49.0 47.0]\n",
      " [0.0 0.0 1.0 33.0 57.0]\n",
      " [0.0 0.0 1.0 26.0 31.0]\n",
      " [1.0 0.0 0.0 39.0 78.0]\n",
      " [1.0 0.0 0.0 39.0 33.0]\n",
      " [0.0 1.0 0.0 34.0 93.0]]\n",
      "[False False False False  True False  True False]\n"
     ]
    }
   ],
   "source": [
    "print(X_train)\n",
    "print(y_train)"
   ]
  },
  {
   "cell_type": "code",
   "execution_count": 18,
   "id": "b6acd864",
   "metadata": {},
   "outputs": [
    {
     "name": "stdout",
     "output_type": "stream",
     "text": [
      "[[1.0 0.0 0.0 36.25 39.0]\n",
      " [1.0 0.0 0.0 36.25 35.0]]\n"
     ]
    }
   ],
   "source": [
    "print(X_test)"
   ]
  },
  {
   "cell_type": "code",
   "execution_count": 19,
   "id": "d1e4568e",
   "metadata": {},
   "outputs": [
    {
     "name": "stdout",
     "output_type": "stream",
     "text": [
      "[1 0 0 0 0 0 0 1 1 0]\n"
     ]
    }
   ],
   "source": [
    "# xperlu\n",
    "#Exercise\n",
    "# Encoding the Dependent Variable\n",
    "labelencoder_y = LabelEncoder()\n",
    "y = labelencoder_y.fit_transform(y)\n",
    "print(y)"
   ]
  },
  {
   "cell_type": "code",
   "execution_count": null,
   "id": "34b0fadb",
   "metadata": {},
   "outputs": [],
   "source": []
  }
 ],
 "metadata": {
  "kernelspec": {
   "display_name": "Python 3 (ipykernel)",
   "language": "python",
   "name": "python3"
  },
  "language_info": {
   "codemirror_mode": {
    "name": "ipython",
    "version": 3
   },
   "file_extension": ".py",
   "mimetype": "text/x-python",
   "name": "python",
   "nbconvert_exporter": "python",
   "pygments_lexer": "ipython3",
   "version": "3.9.12"
  }
 },
 "nbformat": 4,
 "nbformat_minor": 5
}
