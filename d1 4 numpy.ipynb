{
 "cells": [
  {
   "cell_type": "markdown",
   "id": "ae20ce1f",
   "metadata": {},
   "source": [
    "# 4. numpy library"
   ]
  },
  {
   "cell_type": "code",
   "execution_count": 1,
   "id": "e012134b",
   "metadata": {},
   "outputs": [],
   "source": [
    "#import numpy library\n",
    "import numpy as np"
   ]
  },
  {
   "cell_type": "code",
   "execution_count": 2,
   "id": "bd1053ea",
   "metadata": {},
   "outputs": [
    {
     "data": {
      "text/plain": [
       "array([1, 2, 3])"
      ]
     },
     "execution_count": 2,
     "metadata": {},
     "output_type": "execute_result"
    }
   ],
   "source": [
    "#Create an array\n",
    "X=np.array([1,2,3])\n",
    "X"
   ]
  },
  {
   "cell_type": "code",
   "execution_count": 3,
   "id": "67627c49",
   "metadata": {},
   "outputs": [
    {
     "data": {
      "text/plain": [
       "1"
      ]
     },
     "execution_count": 3,
     "metadata": {},
     "output_type": "execute_result"
    }
   ],
   "source": [
    "#Check dimension of an array\n",
    "X.ndim"
   ]
  },
  {
   "cell_type": "code",
   "execution_count": 4,
   "id": "dbcb1d13",
   "metadata": {},
   "outputs": [
    {
     "data": {
      "text/plain": [
       "(3,)"
      ]
     },
     "execution_count": 4,
     "metadata": {},
     "output_type": "execute_result"
    }
   ],
   "source": [
    "#Check shape of an array\n",
    "X.shape"
   ]
  },
  {
   "cell_type": "code",
   "execution_count": 5,
   "id": "26eee16b",
   "metadata": {},
   "outputs": [
    {
     "data": {
      "text/plain": [
       "3"
      ]
     },
     "execution_count": 5,
     "metadata": {},
     "output_type": "execute_result"
    }
   ],
   "source": [
    "#Check size of an array\n",
    "X.size"
   ]
  },
  {
   "cell_type": "code",
   "execution_count": 6,
   "id": "fd8ac64c",
   "metadata": {},
   "outputs": [
    {
     "data": {
      "text/plain": [
       "dtype('int32')"
      ]
     },
     "execution_count": 6,
     "metadata": {},
     "output_type": "execute_result"
    }
   ],
   "source": [
    "#Check data type of an array\n",
    "X.dtype"
   ]
  },
  {
   "cell_type": "code",
   "execution_count": 7,
   "id": "ad94fe9d",
   "metadata": {},
   "outputs": [
    {
     "data": {
      "text/plain": [
       "1"
      ]
     },
     "execution_count": 7,
     "metadata": {},
     "output_type": "execute_result"
    }
   ],
   "source": [
    "#Read the first element in an array\n",
    "X[0]"
   ]
  },
  {
   "cell_type": "code",
   "execution_count": 15,
   "id": "b78d2b2a",
   "metadata": {},
   "outputs": [
    {
     "data": {
      "text/plain": [
       "1"
      ]
     },
     "execution_count": 15,
     "metadata": {},
     "output_type": "execute_result"
    }
   ],
   "source": [
    "# Read the first element in an array:\n",
    "X[0,]"
   ]
  },
  {
   "cell_type": "code",
   "execution_count": 8,
   "id": "b44da9d9",
   "metadata": {},
   "outputs": [
    {
     "data": {
      "text/plain": [
       "array([1, 2])"
      ]
     },
     "execution_count": 8,
     "metadata": {},
     "output_type": "execute_result"
    }
   ],
   "source": [
    "#Read only the first two elements\n",
    "X[:2]"
   ]
  },
  {
   "cell_type": "code",
   "execution_count": 16,
   "id": "62b2ac90",
   "metadata": {},
   "outputs": [],
   "source": [
    "#Save the array: SAVE first then load\n",
    "np.save('nama',X)"
   ]
  },
  {
   "cell_type": "code",
   "execution_count": 17,
   "id": "10d1d56d",
   "metadata": {},
   "outputs": [
    {
     "data": {
      "text/plain": [
       "array([1, 2, 3])"
      ]
     },
     "execution_count": 17,
     "metadata": {},
     "output_type": "execute_result"
    }
   ],
   "source": [
    "#Load the array\n",
    "np.load(\"nama.npy\")"
   ]
  },
  {
   "cell_type": "markdown",
   "id": "41fdc2d3",
   "metadata": {},
   "source": [
    "## exercise"
   ]
  },
  {
   "cell_type": "code",
   "execution_count": 11,
   "id": "8897fa3d",
   "metadata": {},
   "outputs": [
    {
     "data": {
      "text/plain": [
       "array([[1, 2, 3],\n",
       "       [4, 5, 6]])"
      ]
     },
     "execution_count": 11,
     "metadata": {},
     "output_type": "execute_result"
    }
   ],
   "source": [
    "#Exercise pg 71\n",
    "#Create 2D array\n",
    "Y=np.array([[1,2,3],[4,5,6]])\n",
    "Y"
   ]
  },
  {
   "cell_type": "code",
   "execution_count": 12,
   "id": "94242a72",
   "metadata": {},
   "outputs": [
    {
     "data": {
      "text/plain": [
       "6"
      ]
     },
     "execution_count": 12,
     "metadata": {},
     "output_type": "execute_result"
    }
   ],
   "source": [
    "#read the entry(1,2) from the array\n",
    "Y[1,2]"
   ]
  },
  {
   "cell_type": "code",
   "execution_count": 13,
   "id": "11bcd327",
   "metadata": {},
   "outputs": [
    {
     "name": "stdout",
     "output_type": "stream",
     "text": [
      "int32\n",
      "6\n",
      "2\n",
      "(2, 3)\n"
     ]
    }
   ],
   "source": [
    "print(Y.dtype)\n",
    "print(Y.size)\n",
    "print(Y.ndim)\n",
    "print(Y.shape)"
   ]
  },
  {
   "cell_type": "code",
   "execution_count": null,
   "id": "7090c43a",
   "metadata": {},
   "outputs": [],
   "source": []
  },
  {
   "cell_type": "code",
   "execution_count": 14,
   "id": "95f01650",
   "metadata": {},
   "outputs": [
    {
     "name": "stdout",
     "output_type": "stream",
     "text": [
      "int32\n",
      "6\n",
      "2\n",
      "(2, 3)\n"
     ]
    }
   ],
   "source": [
    "#import numpy library\n",
    "import numpy as np\n",
    "#Create an array\n",
    "X=np.array([1,2,3])\n",
    "X\n",
    "#Check dimension of an array\n",
    "X.ndim\n",
    "#Check shape of an array\n",
    "X.shape\n",
    "#Check size of an array\n",
    "X.size\n",
    "#Check data type of an array\n",
    "X.dtype\n",
    "#Read the first element in an array\n",
    "X[0]\n",
    "#Read only the first two elements\n",
    "X[:2]\n",
    "#Load the array\n",
    "np.load(\"X.npy\")\n",
    "#Save the array:\n",
    "np.save('X',X)\n",
    "#Exercise\n",
    "#Create an array\n",
    "Y=np.array([[1,2,3],[4,5,6]])\n",
    "Y\n",
    "#read the entry(1,2) from the array\n",
    "Y[1,2]\n",
    "print(Y.dtype)\n",
    "print(Y.size)\n",
    "print(Y.ndim)\n",
    "print(Y.shape)"
   ]
  }
 ],
 "metadata": {
  "kernelspec": {
   "display_name": "Python 3 (ipykernel)",
   "language": "python",
   "name": "python3"
  },
  "language_info": {
   "codemirror_mode": {
    "name": "ipython",
    "version": 3
   },
   "file_extension": ".py",
   "mimetype": "text/x-python",
   "name": "python",
   "nbconvert_exporter": "python",
   "pygments_lexer": "ipython3",
   "version": "3.9.12"
  }
 },
 "nbformat": 4,
 "nbformat_minor": 5
}
