{
 "cells": [
  {
   "cell_type": "markdown",
   "id": "516ccbc7",
   "metadata": {},
   "source": [
    "## 5 b SciKit Learn( sklearn)\n",
    "It is library package used for model building, it contains various Machine Learning algorithms"
   ]
  },
  {
   "cell_type": "markdown",
   "id": "63310f03",
   "metadata": {},
   "source": [
    "SciKit-Learn model building process:\n",
    "1.\tImport the necessary library objects needed\n",
    "2.\tLoad the dataset\n",
    "3.\tDefine the model\n",
    "4.\tFit the model into data\n",
    "5.\tPrediction"
   ]
  },
  {
   "cell_type": "markdown",
   "id": "b384fc0f",
   "metadata": {},
   "source": [
    "pg79 Example of end to end Naïve Bayes model:"
   ]
  },
  {
   "cell_type": "code",
   "execution_count": 1,
   "id": "237b9447",
   "metadata": {},
   "outputs": [],
   "source": [
    "# 1. import the necessary library objects needed [from Scikit-Learn (sklearn) library]:\n",
    "from sklearn import datasets\n",
    "from sklearn import metrics\n",
    "from sklearn.naive_bayes import GaussianNB"
   ]
  },
  {
   "cell_type": "code",
   "execution_count": 2,
   "id": "7d93b5df",
   "metadata": {},
   "outputs": [],
   "source": [
    "# 2. Load the dataset:\n",
    "dataset = datasets.load_iris()"
   ]
  },
  {
   "cell_type": "code",
   "execution_count": 3,
   "id": "c5ba1f05",
   "metadata": {},
   "outputs": [
    {
     "data": {
      "text/plain": [
       "(150, 4)"
      ]
     },
     "execution_count": 3,
     "metadata": {},
     "output_type": "execute_result"
    }
   ],
   "source": [
    "# To check the data size:\n",
    "dataset.data.shape"
   ]
  },
  {
   "cell_type": "code",
   "execution_count": 4,
   "id": "159dc904",
   "metadata": {},
   "outputs": [
    {
     "name": "stdout",
     "output_type": "stream",
     "text": [
      "GaussianNB()\n"
     ]
    }
   ],
   "source": [
    "# 3. Define the model:\n",
    "model = GaussianNB()\n",
    "# 4. Fit the model into data:\n",
    "model.fit(dataset.data, dataset.target) #to learn from data \n",
    "print(model)"
   ]
  },
  {
   "cell_type": "code",
   "execution_count": 6,
   "id": "691fc2dc",
   "metadata": {},
   "outputs": [
    {
     "name": "stdout",
     "output_type": "stream",
     "text": [
      "              precision    recall  f1-score   support\n",
      "\n",
      "           0       1.00      1.00      1.00        50\n",
      "           1       0.94      0.94      0.94        50\n",
      "           2       0.94      0.94      0.94        50\n",
      "\n",
      "    accuracy                           0.96       150\n",
      "   macro avg       0.96      0.96      0.96       150\n",
      "weighted avg       0.96      0.96      0.96       150\n",
      "\n",
      "[[50  0  0]\n",
      " [ 0 47  3]\n",
      " [ 0  3 47]]\n"
     ]
    }
   ],
   "source": [
    "# 5. Prediction:\n",
    "expected = dataset.target # y actual\n",
    "predicted = model.predict(dataset.data) # dataset.data == input\n",
    "print(metrics.classification_report(expected, predicted)) \n",
    "print(metrics.confusion_matrix(expected, predicted))"
   ]
  },
  {
   "cell_type": "code",
   "execution_count": 7,
   "id": "9c1e40f4",
   "metadata": {},
   "outputs": [
    {
     "data": {
      "text/plain": [
       "array([0])"
      ]
     },
     "execution_count": 7,
     "metadata": {},
     "output_type": "execute_result"
    }
   ],
   "source": [
    "# Do a prediction for a data [ 5.0, 3.6, 1.3, 0.25]?\n",
    "model.predict([[ 5.0, 3.6, 1.3, 0.25]]) \n",
    "# Recall 0,1 and 2 are equivalent to Iris setosa, Iris versicolor, Iris virginica, respectively"
   ]
  },
  {
   "cell_type": "code",
   "execution_count": null,
   "id": "8e605747",
   "metadata": {},
   "outputs": [],
   "source": []
  }
 ],
 "metadata": {
  "kernelspec": {
   "display_name": "Python 3 (ipykernel)",
   "language": "python",
   "name": "python3"
  },
  "language_info": {
   "codemirror_mode": {
    "name": "ipython",
    "version": 3
   },
   "file_extension": ".py",
   "mimetype": "text/x-python",
   "name": "python",
   "nbconvert_exporter": "python",
   "pygments_lexer": "ipython3",
   "version": "3.9.12"
  }
 },
 "nbformat": 4,
 "nbformat_minor": 5
}
