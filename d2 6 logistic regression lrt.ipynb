{
 "cells": [
  {
   "cell_type": "code",
   "execution_count": null,
   "id": "02a3b699",
   "metadata": {},
   "outputs": [],
   "source": [
    "#import libraries\n",
    "import numpy as np\n",
    "import matplotlib.pyplot as plt\n",
    "import pandas as pd"
   ]
  },
  {
   "cell_type": "code",
   "execution_count": null,
   "id": "f6da4225",
   "metadata": {},
   "outputs": [],
   "source": [
    "#import dataset\n",
    "ds=pd.read_csv('LRT_car.csv')\n",
    "ds.head()"
   ]
  },
  {
   "cell_type": "code",
   "execution_count": null,
   "id": "987b7ffb",
   "metadata": {},
   "outputs": [],
   "source": [
    "ds.info()"
   ]
  },
  {
   "cell_type": "code",
   "execution_count": null,
   "id": "a10eab0f",
   "metadata": {},
   "outputs": [],
   "source": [
    "x=ds.iloc[:,:-1].values\n",
    "y=ds.iloc[:,2].values"
   ]
  },
  {
   "cell_type": "code",
   "execution_count": null,
   "id": "36d385d5",
   "metadata": {},
   "outputs": [],
   "source": [
    "#splitting the dataset into training and test sets\n",
    "from sklearn.model_selection import train_test_split\n",
    "x_train, x_test, y_train, y_test = train_test_split(x, y, test_size = 0.2, random_state = 0)"
   ]
  },
  {
   "cell_type": "code",
   "execution_count": null,
   "id": "951a59d8",
   "metadata": {},
   "outputs": [],
   "source": [
    "#Feature Scaling\n",
    "from sklearn.preprocessing import StandardScaler\n",
    "sc_x=StandardScaler()\n",
    "x_train=sc_x.fit_transform(x_train)\n",
    "\n",
    "x_test=sc_x.transform(x_test)"
   ]
  },
  {
   "cell_type": "code",
   "execution_count": null,
   "id": "e4cacb3a",
   "metadata": {},
   "outputs": [],
   "source": [
    "#fitting Logistic regression to the training set \n",
    "from sklearn.linear_model import LogisticRegression\n",
    "classifier=LogisticRegression(random_state=0)\n",
    "classifier.fit(x_train,y_train)"
   ]
  },
  {
   "cell_type": "code",
   "execution_count": null,
   "id": "7592c3f7",
   "metadata": {},
   "outputs": [],
   "source": [
    "#Predict the test set results\n",
    "y_pred=classifier.predict(x_test)"
   ]
  },
  {
   "cell_type": "code",
   "execution_count": null,
   "id": "e4091f42",
   "metadata": {},
   "outputs": [],
   "source": [
    "y_test,y_pred"
   ]
  },
  {
   "cell_type": "code",
   "execution_count": null,
   "id": "94ac7c5b",
   "metadata": {},
   "outputs": [],
   "source": [
    "#Making Confusion Matrix – to check whether the test set gives the correct result\n",
    "from sklearn.metrics import confusion_matrix\n",
    "cm=confusion_matrix(y_test,y_pred)"
   ]
  },
  {
   "cell_type": "code",
   "execution_count": null,
   "id": "89c36a24",
   "metadata": {},
   "outputs": [],
   "source": [
    "cm"
   ]
  },
  {
   "cell_type": "code",
   "execution_count": null,
   "id": "a2059a97",
   "metadata": {},
   "outputs": [],
   "source": [
    "xP=sc_x.transform([[6000,35]])\n",
    "print(xP)"
   ]
  },
  {
   "cell_type": "code",
   "execution_count": null,
   "id": "47ebca02",
   "metadata": {},
   "outputs": [],
   "source": [
    "prediction=classifier.predict(xP)\n",
    "print(prediction)"
   ]
  },
  {
   "cell_type": "code",
   "execution_count": null,
   "id": "d641fc20",
   "metadata": {},
   "outputs": [],
   "source": []
  }
 ],
 "metadata": {
  "kernelspec": {
   "display_name": "Python 3 (ipykernel)",
   "language": "python",
   "name": "python3"
  },
  "language_info": {
   "codemirror_mode": {
    "name": "ipython",
    "version": 3
   },
   "file_extension": ".py",
   "mimetype": "text/x-python",
   "name": "python",
   "nbconvert_exporter": "python",
   "pygments_lexer": "ipython3",
   "version": "3.9.12"
  }
 },
 "nbformat": 4,
 "nbformat_minor": 5
}
