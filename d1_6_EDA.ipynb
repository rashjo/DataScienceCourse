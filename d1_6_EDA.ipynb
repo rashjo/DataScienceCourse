{
 "cells": [
  {
   "cell_type": "code",
   "execution_count": 1,
   "id": "94f24c51",
   "metadata": {},
   "outputs": [
    {
     "data": {
      "text/plain": [
       "4.714285714285714"
      ]
     },
     "execution_count": 1,
     "metadata": {},
     "output_type": "execute_result"
    }
   ],
   "source": [
    "#Finding Mean\n",
    "#Import library\n",
    "import numpy as np\n",
    "#Load data\n",
    "a = [1, 3, 3, 5, 6, 7, 8] #Call mean function\n",
    "np.mean(a)"
   ]
  },
  {
   "cell_type": "code",
   "execution_count": 2,
   "id": "cfae69c8",
   "metadata": {},
   "outputs": [
    {
     "data": {
      "text/plain": [
       "5.0"
      ]
     },
     "execution_count": 2,
     "metadata": {},
     "output_type": "execute_result"
    }
   ],
   "source": [
    "#Finding Median\n",
    "#Import library\n",
    "import numpy as np\n",
    "#Load data\n",
    "a = [1, 3, 3, 5, 6, 7, 8] #Call Median function\n",
    "np.median(a) "
   ]
  },
  {
   "cell_type": "code",
   "execution_count": 3,
   "id": "fc0733f2",
   "metadata": {},
   "outputs": [
    {
     "data": {
      "text/plain": [
       "ModeResult(mode=array([3]), count=array([2]))"
      ]
     },
     "execution_count": 3,
     "metadata": {},
     "output_type": "execute_result"
    }
   ],
   "source": [
    "#Finding Mode\n",
    "#Import library\n",
    "from scipy import stats \n",
    "#Load data\n",
    "a = [1, 3, 3, 5, 6, 7, 8] #Call Mode function,If there is more than one such value, only the smallest is returned\n",
    "stats.mode(a)"
   ]
  },
  {
   "cell_type": "code",
   "execution_count": 4,
   "id": "61d5c9f1",
   "metadata": {},
   "outputs": [
    {
     "data": {
      "text/plain": [
       "60.0"
      ]
     },
     "execution_count": 4,
     "metadata": {},
     "output_type": "execute_result"
    }
   ],
   "source": [
    "#Finding Percentile\n",
    "#Import library\n",
    "import scipy.stats as stats \n",
    "#Load data\n",
    "a = [2, 2, 3, 3, 5, 6, 7, 8, 8, 12, 13, 13, 14, 15, 16] #Call percentile function\n",
    "stats.percentileofscore(a, 12,'strict') "
   ]
  },
  {
   "cell_type": "code",
   "execution_count": 5,
   "id": "e6940183",
   "metadata": {},
   "outputs": [
    {
     "data": {
      "image/png": "[encoded data removed]",
      "text/plain": [
       "<Figure size 432x288 with 1 Axes>"
      ]
     },
     "metadata": {
      "needs_background": "light"
     },
     "output_type": "display_data"
    }
   ],
   "source": [
    "#histogram\n",
    "import matplotlib.pyplot as plt \n",
    "#Call function and load data\n",
    "plt.hist([1,3,3,5,6,7,8]) \n",
    "#Show plot\n",
    "plt.show() "
   ]
  },
  {
   "cell_type": "code",
   "execution_count": 7,
   "id": "e42f70a4",
   "metadata": {},
   "outputs": [
    {
     "data": {
      "image/png": "[encoded data removed]",
      "text/plain": [
       "<Figure size 432x288 with 1 Axes>"
      ]
     },
     "metadata": {
      "needs_background": "light"
     },
     "output_type": "display_data"
    }
   ],
   "source": [
    "#histogram\n",
    "import matplotlib.pyplot as plt \n",
    "import pandas as pd\n",
    "#Call function and load data\n",
    "dataset = pd.read_csv('dataset/temperature.csv')\n",
    "plt.hist(dataset) \n",
    "#Show plot\n",
    "plt.show() "
   ]
  },
  {
   "cell_type": "code",
   "execution_count": 9,
   "id": "d88545c6",
   "metadata": {},
   "outputs": [
    {
     "name": "stdout",
     "output_type": "stream",
     "text": [
      "      0\n",
      "0  15.3\n",
      "1  20.8\n",
      "2  25.1\n",
      "3  27.7\n",
      "4  29.4\n",
      "<class 'pandas.core.frame.DataFrame'>\n",
      "RangeIndex: 878 entries, 0 to 877\n",
      "Data columns (total 1 columns):\n",
      " #   Column  Non-Null Count  Dtype  \n",
      "---  ------  --------------  -----  \n",
      " 0   0       878 non-null    float64\n",
      "dtypes: float64(1)\n",
      "memory usage: 7.0 KB\n",
      "None\n"
     ]
    },
    {
     "data": {
      "image/png": "[encoded data removed]",
      "text/plain": [
       "<Figure size 432x288 with 1 Axes>"
      ]
     },
     "metadata": {
      "needs_background": "light"
     },
     "output_type": "display_data"
    }
   ],
   "source": [
    "#histogram\n",
    "import matplotlib.pyplot as plt \n",
    "import pandas as pd\n",
    "#Call function and load data\n",
    "dataset = pd.read_csv('dataset/temperature.csv',header=None)\n",
    "print(dataset.head())\n",
    "print(dataset.info())\n",
    "\n",
    "##########################\n",
    "plt.hist(dataset) \n",
    "plt.title(\"Distribution of average monthly temperature\")\n",
    "plt.xlabel(\"Temperature\")\n",
    "plt.ylabel(\"Frequency\")\n",
    "#Show plot\n",
    "plt.show() "
   ]
  },
  {
   "cell_type": "code",
   "execution_count": 10,
   "id": "77668fae",
   "metadata": {},
   "outputs": [
    {
     "data": {
      "text/plain": [
       "Text(0.5, 0, 'TV viewing times (hrs)')"
      ]
     },
     "execution_count": 10,
     "metadata": {},
     "output_type": "execute_result"
    },
    {
     "data": {
      "image/png": "[encoded data removed]",
      "text/plain": [
       "<Figure size 432x288 with 1 Axes>"
      ]
     },
     "metadata": {
      "needs_background": "light"
     },
     "output_type": "display_data"
    }
   ],
   "source": [
    "import matplotlib.pyplot as plt\n",
    "data = [5,16,21,26,30,31,32,35,38,66]\n",
    "plt.boxplot(data)\n",
    "plt.title('Boxplot')\n",
    "plt.xlabel('TV viewing times (hrs)')"
   ]
  },
  {
   "cell_type": "code",
   "execution_count": 11,
   "id": "822ad014",
   "metadata": {},
   "outputs": [
    {
     "name": "stdout",
     "output_type": "stream",
     "text": [
      "Q1= 22.25\n",
      "Q2= 30.5\n",
      "Q3= 34.25\n",
      "Upper limit= 52.25\n",
      "Lower limit= 4.25\n"
     ]
    }
   ],
   "source": [
    "import numpy as np\n",
    "#print(\"25th percentile:   \", np.percentile(data, 25))\n",
    "#print(\"Median:            \", np.median(data))\n",
    "#print(\"75th percentile:   \", np.percentile(data, 75))\n",
    "\n",
    "summary = np.percentile(data, [25, 50, 75])\n",
    "high_lim = summary[2] + 1.5 * (summary[2] - summary[0])\n",
    "low_lim = summary[0] - 1.5 * (summary[2] - summary[0])\n",
    "\n",
    "print (\"Q1=\",summary[0])\n",
    "print (\"Q2=\",summary[1])\n",
    "print (\"Q3=\",summary[2])\n",
    "print (\"Upper limit=\",high_lim)\n",
    "print (\"Lower limit=\",low_lim)"
   ]
  },
  {
   "cell_type": "code",
   "execution_count": 13,
   "id": "bdce039e",
   "metadata": {},
   "outputs": [
    {
     "data": {
      "text/plain": [
       "Text(0.5, 0, 'TV viewing times (hrs)')"
      ]
     },
     "execution_count": 13,
     "metadata": {},
     "output_type": "execute_result"
    },
    {
     "data": {
      "image/png": "[encoded data removed]",
      "text/plain": [
       "<Figure size 432x288 with 1 Axes>"
      ]
     },
     "metadata": {
      "needs_background": "light"
     },
     "output_type": "display_data"
    }
   ],
   "source": [
    "import matplotlib.pyplot as plt\n",
    "data1 = [5,16,21,26,30,31,32,35,38,66]\n",
    "data2 = [5,18,25,38,30,33,40,45,50,66]\n",
    "plt.boxplot(data1)\n",
    "plt.boxplot(data2)\n",
    "plt.title('Boxplot')\n",
    "plt.xlabel('TV viewing times (hrs)')"
   ]
  },
  {
   "cell_type": "code",
   "execution_count": 14,
   "id": "6ee3354f",
   "metadata": {},
   "outputs": [
    {
     "data": {
      "text/plain": [
       "Text(0.5, 0, 'TV viewing times (hrs)')"
      ]
     },
     "execution_count": 14,
     "metadata": {},
     "output_type": "execute_result"
    },
    {
     "data": {
      "image/png": "[encoded data removed]",
      "text/plain": [
       "<Figure size 432x288 with 1 Axes>"
      ]
     },
     "metadata": {
      "needs_background": "light"
     },
     "output_type": "display_data"
    }
   ],
   "source": [
    "import matplotlib.pyplot as plt\n",
    "data1 = [5,16,21,26,30,31,32,35,38,66]\n",
    "data2 = [5,18,25,28,30,33,40,45,50,66]\n",
    "plt.boxplot(x = [data1,data2])\n",
    "plt.title('Boxplot')\n",
    "plt.xlabel('TV viewing times (hrs)')"
   ]
  },
  {
   "cell_type": "code",
   "execution_count": null,
   "id": "daac77ad",
   "metadata": {},
   "outputs": [],
   "source": []
  }
 ],
 "metadata": {
  "kernelspec": {
   "display_name": "Python 3 (ipykernel)",
   "language": "python",
   "name": "python3"
  },
  "language_info": {
   "codemirror_mode": {
    "name": "ipython",
    "version": 3
   },
   "file_extension": ".py",
   "mimetype": "text/x-python",
   "name": "python",
   "nbconvert_exporter": "python",
   "pygments_lexer": "ipython3",
   "version": "3.9.7"
  }
 },
 "nbformat": 4,
 "nbformat_minor": 5
}
