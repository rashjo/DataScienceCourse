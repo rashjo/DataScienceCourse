{
 "cells": [
  {
   "cell_type": "code",
   "execution_count": 4,
   "id": "2fdb4ff1",
   "metadata": {},
   "outputs": [
    {
     "data": {
      "text/html": [
       "<div>\n",
       "<style scoped>\n",
       "    .dataframe tbody tr th:only-of-type {\n",
       "        vertical-align: middle;\n",
       "    }\n",
       "\n",
       "    .dataframe tbody tr th {\n",
       "        vertical-align: top;\n",
       "    }\n",
       "\n",
       "    .dataframe thead th {\n",
       "        text-align: right;\n",
       "    }\n",
       "</style>\n",
       "<table border=\"1\" class=\"dataframe\">\n",
       "  <thead>\n",
       "    <tr style=\"text-align: right;\">\n",
       "      <th></th>\n",
       "      <th>country</th>\n",
       "      <th>Age</th>\n",
       "      <th>Weight</th>\n",
       "      <th>Sleep before 10pm</th>\n",
       "    </tr>\n",
       "  </thead>\n",
       "  <tbody>\n",
       "    <tr>\n",
       "      <th>0</th>\n",
       "      <td>China</td>\n",
       "      <td>39.0</td>\n",
       "      <td>33.0</td>\n",
       "      <td>True</td>\n",
       "    </tr>\n",
       "    <tr>\n",
       "      <th>1</th>\n",
       "      <td>Philippines</td>\n",
       "      <td>49.0</td>\n",
       "      <td>47.0</td>\n",
       "      <td>False</td>\n",
       "    </tr>\n",
       "    <tr>\n",
       "      <th>2</th>\n",
       "      <td>China</td>\n",
       "      <td>NaN</td>\n",
       "      <td>39.0</td>\n",
       "      <td>False</td>\n",
       "    </tr>\n",
       "    <tr>\n",
       "      <th>3</th>\n",
       "      <td>China</td>\n",
       "      <td>39.0</td>\n",
       "      <td>78.0</td>\n",
       "      <td>False</td>\n",
       "    </tr>\n",
       "    <tr>\n",
       "      <th>4</th>\n",
       "      <td>China</td>\n",
       "      <td>29.0</td>\n",
       "      <td>NaN</td>\n",
       "      <td>False</td>\n",
       "    </tr>\n",
       "  </tbody>\n",
       "</table>\n",
       "</div>"
      ],
      "text/plain": [
       "       country   Age  Weight  Sleep before 10pm\n",
       "0        China  39.0    33.0               True\n",
       "1  Philippines  49.0    47.0              False\n",
       "2        China   NaN    39.0              False\n",
       "3        China  39.0    78.0              False\n",
       "4        China  29.0     NaN              False"
      ]
     },
     "execution_count": 4,
     "metadata": {},
     "output_type": "execute_result"
    }
   ],
   "source": [
    "import pandas as pd\n",
    "dataset = pd.read_csv('dataset/10_initial_m.csv')\n",
    "dataset.head()"
   ]
  },
  {
   "cell_type": "code",
   "execution_count": 5,
   "id": "34e54cb3",
   "metadata": {},
   "outputs": [
    {
     "name": "stdout",
     "output_type": "stream",
     "text": [
      "<class 'pandas.core.frame.DataFrame'>\n",
      "RangeIndex: 10 entries, 0 to 9\n",
      "Data columns (total 4 columns):\n",
      " #   Column             Non-Null Count  Dtype  \n",
      "---  ------             --------------  -----  \n",
      " 0   country            10 non-null     object \n",
      " 1   Age                8 non-null      float64\n",
      " 2   Weight             8 non-null      float64\n",
      " 3   Sleep before 10pm  10 non-null     bool   \n",
      "dtypes: bool(1), float64(2), object(1)\n",
      "memory usage: 378.0+ bytes\n"
     ]
    }
   ],
   "source": [
    "dataset.info()"
   ]
  },
  {
   "cell_type": "code",
   "execution_count": 6,
   "id": "3e055307",
   "metadata": {},
   "outputs": [],
   "source": [
    "x = dataset.iloc[:, :-1].values\n",
    "y = dataset.iloc[:, 3].values"
   ]
  },
  {
   "cell_type": "code",
   "execution_count": 7,
   "id": "594da542",
   "metadata": {},
   "outputs": [],
   "source": [
    "#using SimpleImputer class \n",
    "import numpy as np \n",
    "# Importing the SimpleImputer class \n",
    "from sklearn.impute import SimpleImputer \n",
    "  \n",
    "# Imputer object using the mean strategy and missing_values type for imputation \n",
    "imputer = SimpleImputer(missing_values = np.nan,strategy ='mean')\n",
    "imputer = imputer.fit(x[:,1:3])\n",
    "x[:,1:3]=imputer.transform(x[:,1:3])"
   ]
  },
  {
   "cell_type": "code",
   "execution_count": 8,
   "id": "a0c4b53a",
   "metadata": {},
   "outputs": [
    {
     "data": {
      "text/plain": [
       "array([['China', 39.0, 33.0],\n",
       "       ['Philippines', 49.0, 47.0],\n",
       "       ['China', 36.25, 39.0],\n",
       "       ['China', 39.0, 78.0],\n",
       "       ['China', 29.0, 51.625],\n",
       "       ['Indonesia', 34.0, 93.0],\n",
       "       ['Philippines', 33.0, 57.0],\n",
       "       ['Philippines', 26.0, 31.0],\n",
       "       ['China', 36.25, 35.0],\n",
       "       ['China', 41.0, 51.625]], dtype=object)"
      ]
     },
     "execution_count": 8,
     "metadata": {},
     "output_type": "execute_result"
    }
   ],
   "source": [
    "x"
   ]
  },
  {
   "cell_type": "code",
   "execution_count": 9,
   "id": "d568de13",
   "metadata": {},
   "outputs": [],
   "source": [
    "x = dataset.iloc[:, :-1].values\n",
    "y = dataset.iloc[:, 3].values"
   ]
  },
  {
   "cell_type": "code",
   "execution_count": 10,
   "id": "a354ba7a",
   "metadata": {},
   "outputs": [
    {
     "data": {
      "text/html": [
       "<div>\n",
       "<style scoped>\n",
       "    .dataframe tbody tr th:only-of-type {\n",
       "        vertical-align: middle;\n",
       "    }\n",
       "\n",
       "    .dataframe tbody tr th {\n",
       "        vertical-align: top;\n",
       "    }\n",
       "\n",
       "    .dataframe thead th {\n",
       "        text-align: right;\n",
       "    }\n",
       "</style>\n",
       "<table border=\"1\" class=\"dataframe\">\n",
       "  <thead>\n",
       "    <tr style=\"text-align: right;\">\n",
       "      <th></th>\n",
       "      <th>country</th>\n",
       "      <th>Age</th>\n",
       "      <th>Weight</th>\n",
       "      <th>Sleep before 10pm</th>\n",
       "    </tr>\n",
       "  </thead>\n",
       "  <tbody>\n",
       "    <tr>\n",
       "      <th>0</th>\n",
       "      <td>China</td>\n",
       "      <td>39.0</td>\n",
       "      <td>33.0</td>\n",
       "      <td>True</td>\n",
       "    </tr>\n",
       "    <tr>\n",
       "      <th>1</th>\n",
       "      <td>Philippines</td>\n",
       "      <td>49.0</td>\n",
       "      <td>47.0</td>\n",
       "      <td>False</td>\n",
       "    </tr>\n",
       "    <tr>\n",
       "      <th>2</th>\n",
       "      <td>China</td>\n",
       "      <td>NaN</td>\n",
       "      <td>39.0</td>\n",
       "      <td>False</td>\n",
       "    </tr>\n",
       "    <tr>\n",
       "      <th>3</th>\n",
       "      <td>China</td>\n",
       "      <td>39.0</td>\n",
       "      <td>78.0</td>\n",
       "      <td>False</td>\n",
       "    </tr>\n",
       "    <tr>\n",
       "      <th>4</th>\n",
       "      <td>China</td>\n",
       "      <td>29.0</td>\n",
       "      <td>NaN</td>\n",
       "      <td>False</td>\n",
       "    </tr>\n",
       "    <tr>\n",
       "      <th>5</th>\n",
       "      <td>Indonesia</td>\n",
       "      <td>34.0</td>\n",
       "      <td>93.0</td>\n",
       "      <td>False</td>\n",
       "    </tr>\n",
       "    <tr>\n",
       "      <th>6</th>\n",
       "      <td>Philippines</td>\n",
       "      <td>33.0</td>\n",
       "      <td>57.0</td>\n",
       "      <td>False</td>\n",
       "    </tr>\n",
       "    <tr>\n",
       "      <th>7</th>\n",
       "      <td>Philippines</td>\n",
       "      <td>26.0</td>\n",
       "      <td>31.0</td>\n",
       "      <td>True</td>\n",
       "    </tr>\n",
       "    <tr>\n",
       "      <th>8</th>\n",
       "      <td>China</td>\n",
       "      <td>NaN</td>\n",
       "      <td>35.0</td>\n",
       "      <td>True</td>\n",
       "    </tr>\n",
       "    <tr>\n",
       "      <th>9</th>\n",
       "      <td>China</td>\n",
       "      <td>41.0</td>\n",
       "      <td>NaN</td>\n",
       "      <td>False</td>\n",
       "    </tr>\n",
       "  </tbody>\n",
       "</table>\n",
       "</div>"
      ],
      "text/plain": [
       "       country   Age Weight  Sleep before 10pm\n",
       "0        China  39.0   33.0               True\n",
       "1  Philippines  49.0   47.0              False\n",
       "2        China   NaN   39.0              False\n",
       "3        China  39.0   78.0              False\n",
       "4        China  29.0    NaN              False\n",
       "5    Indonesia  34.0   93.0              False\n",
       "6  Philippines  33.0   57.0              False\n",
       "7  Philippines  26.0   31.0               True\n",
       "8        China   NaN   35.0               True\n",
       "9        China  41.0    NaN              False"
      ]
     },
     "execution_count": 10,
     "metadata": {},
     "output_type": "execute_result"
    }
   ],
   "source": [
    "#to update the current dataset with filled NaN value\n",
    "#please take note that you have change the original dataset\n",
    "dataset.loc[:, 'Age'] = x[:,1]\n",
    "dataset.loc[:, 'Weight'] = x[:,2]\n",
    "dataset"
   ]
  },
  {
   "cell_type": "code",
   "execution_count": 11,
   "id": "b98fc961",
   "metadata": {},
   "outputs": [
    {
     "data": {
      "text/plain": [
       "<bound method DataFrame.info of        country   Age Weight  Sleep before 10pm\n",
       "0        China  39.0   33.0               True\n",
       "1  Philippines  49.0   47.0              False\n",
       "2        China   NaN   39.0              False\n",
       "3        China  39.0   78.0              False\n",
       "4        China  29.0    NaN              False\n",
       "5    Indonesia  34.0   93.0              False\n",
       "6  Philippines  33.0   57.0              False\n",
       "7  Philippines  26.0   31.0               True\n",
       "8        China   NaN   35.0               True\n",
       "9        China  41.0    NaN              False>"
      ]
     },
     "execution_count": 11,
     "metadata": {},
     "output_type": "execute_result"
    }
   ],
   "source": [
    "dataset.info"
   ]
  },
  {
   "cell_type": "code",
   "execution_count": 12,
   "id": "5b05f098",
   "metadata": {},
   "outputs": [
    {
     "name": "stdout",
     "output_type": "stream",
     "text": [
      "<class 'pandas.core.frame.DataFrame'>\n",
      "RangeIndex: 10 entries, 0 to 9\n",
      "Data columns (total 4 columns):\n",
      " #   Column             Non-Null Count  Dtype \n",
      "---  ------             --------------  ----- \n",
      " 0   country            10 non-null     object\n",
      " 1   Age                8 non-null      object\n",
      " 2   Weight             8 non-null      object\n",
      " 3   Sleep before 10pm  10 non-null     bool  \n",
      "dtypes: bool(1), object(3)\n",
      "memory usage: 378.0+ bytes\n"
     ]
    }
   ],
   "source": [
    "dataset.info()"
   ]
  },
  {
   "cell_type": "code",
   "execution_count": null,
   "id": "40371625",
   "metadata": {},
   "outputs": [],
   "source": [
    "x.info()"
   ]
  },
  {
   "cell_type": "code",
   "execution_count": 13,
   "id": "c6e2217e",
   "metadata": {},
   "outputs": [
    {
     "data": {
      "text/plain": [
       "array([[0, 39.0, 33.0],\n",
       "       [2, 49.0, 47.0],\n",
       "       [0, nan, 39.0],\n",
       "       [0, 39.0, 78.0],\n",
       "       [0, 29.0, nan],\n",
       "       [1, 34.0, 93.0],\n",
       "       [2, 33.0, 57.0],\n",
       "       [2, 26.0, 31.0],\n",
       "       [0, nan, 35.0],\n",
       "       [0, 41.0, nan]], dtype=object)"
      ]
     },
     "execution_count": 13,
     "metadata": {},
     "output_type": "execute_result"
    }
   ],
   "source": [
    "#handling categorical data\n",
    "# Encoding the Independent Variable\n",
    "from sklearn.preprocessing import LabelEncoder\n",
    "labelencoder_x = LabelEncoder()\n",
    "x[:, 0] = labelencoder_x.fit_transform(x[:, 0])\n",
    "x"
   ]
  },
  {
   "cell_type": "code",
   "execution_count": 14,
   "id": "e9d0a71e",
   "metadata": {},
   "outputs": [
    {
     "data": {
      "text/plain": [
       "array(['China', 'Philippines', 'China', 'China', 'China', 'Indonesia',\n",
       "       'Philippines', 'Philippines', 'China', 'China'], dtype=object)"
      ]
     },
     "execution_count": 14,
     "metadata": {},
     "output_type": "execute_result"
    }
   ],
   "source": [
    "labelencoder_x.inverse_transform([0, 2, 0, 0, 0, 1, 2, 2, 0, 0])"
   ]
  },
  {
   "cell_type": "code",
   "execution_count": 22,
   "id": "a2584261",
   "metadata": {},
   "outputs": [
    {
     "data": {
      "text/plain": [
       "array([[0.0, 1.0, 0.0, 0.0, 39.0, 33.0],\n",
       "       [1.0, 0.0, 0.0, 1.0, 49.0, 47.0],\n",
       "       [0.0, 1.0, 0.0, 0.0, nan, 39.0],\n",
       "       [0.0, 1.0, 0.0, 0.0, 39.0, 78.0],\n",
       "       [0.0, 1.0, 0.0, 0.0, 29.0, nan],\n",
       "       [1.0, 0.0, 1.0, 0.0, 34.0, 93.0],\n",
       "       [1.0, 0.0, 0.0, 1.0, 33.0, 57.0],\n",
       "       [1.0, 0.0, 0.0, 1.0, 26.0, 31.0],\n",
       "       [0.0, 1.0, 0.0, 0.0, nan, 35.0],\n",
       "       [0.0, 1.0, 0.0, 0.0, 41.0, nan]], dtype=object)"
      ]
     },
     "execution_count": 22,
     "metadata": {},
     "output_type": "execute_result"
    }
   ],
   "source": [
    "from sklearn.preprocessing import OneHotEncoder\n",
    "from sklearn.compose import ColumnTransformer\n",
    "ct = ColumnTransformer([(\"Country\", OneHotEncoder(), [0])], remainder = 'passthrough')\n",
    "x = ct.fit_transform(x)\n",
    "x"
   ]
  },
  {
   "cell_type": "code",
   "execution_count": 24,
   "id": "d5c1202e",
   "metadata": {},
   "outputs": [],
   "source": [
    "from sklearn.model_selection import train_test_split\n",
    "x_train, x_test, y_train, y_test = train_test_split(x, y, test_size = 0.2,random_state=0)"
   ]
  },
  {
   "cell_type": "code",
   "execution_count": 25,
   "id": "0378d4de",
   "metadata": {},
   "outputs": [
    {
     "name": "stdout",
     "output_type": "stream",
     "text": [
      "[[0.0 1.0 0.0 0.0 29.0 nan]\n",
      " [0.0 1.0 0.0 0.0 41.0 nan]\n",
      " [1.0 0.0 0.0 1.0 49.0 47.0]\n",
      " [1.0 0.0 0.0 1.0 33.0 57.0]\n",
      " [1.0 0.0 0.0 1.0 26.0 31.0]\n",
      " [0.0 1.0 0.0 0.0 39.0 78.0]\n",
      " [0.0 1.0 0.0 0.0 39.0 33.0]\n",
      " [1.0 0.0 1.0 0.0 34.0 93.0]]\n",
      "[False False False False  True False  True False]\n"
     ]
    }
   ],
   "source": [
    "print(x_train)\n",
    "print(y_train)"
   ]
  },
  {
   "cell_type": "code",
   "execution_count": 26,
   "id": "cfec344b",
   "metadata": {},
   "outputs": [
    {
     "name": "stdout",
     "output_type": "stream",
     "text": [
      "[1 0 0 0 0 0 0 1 1 0]\n"
     ]
    }
   ],
   "source": [
    "#Exercise\n",
    "# Encoding the Dependent Variable\n",
    "labelencoder_y = LabelEncoder()\n",
    "y = labelencoder_y.fit_transform(y)\n",
    "print(y)"
   ]
  },
  {
   "cell_type": "code",
   "execution_count": 28,
   "id": "4a108789",
   "metadata": {},
   "outputs": [
    {
     "name": "stdout",
     "output_type": "stream",
     "text": [
      "[[0.0 1.0 0.0 0.0 29.0 nan]\n",
      " [0.0 1.0 0.0 0.0 41.0 nan]\n",
      " [1.0 0.0 0.0 1.0 49.0 47.0]\n",
      " [1.0 0.0 0.0 1.0 33.0 57.0]\n",
      " [1.0 0.0 0.0 1.0 26.0 31.0]\n",
      " [0.0 1.0 0.0 0.0 39.0 78.0]\n",
      " [0.0 1.0 0.0 0.0 39.0 33.0]\n",
      " [1.0 0.0 1.0 0.0 34.0 93.0]]\n",
      "[False False False False  True False  True False]\n"
     ]
    }
   ],
   "source": [
    "print(x_train)\n",
    "print(y_train)"
   ]
  },
  {
   "cell_type": "code",
   "execution_count": 29,
   "id": "ac0491e5",
   "metadata": {},
   "outputs": [],
   "source": [
    "from sklearn.model_selection import train_test_split\n",
    "x_train, x_test, y_train, y_test = train_test_split(x, y, test_size = 0.2,random_state=0)"
   ]
  },
  {
   "cell_type": "code",
   "execution_count": 30,
   "id": "fb73aa80",
   "metadata": {},
   "outputs": [
    {
     "name": "stdout",
     "output_type": "stream",
     "text": [
      "[[0.0 1.0 0.0 0.0 29.0 nan]\n",
      " [0.0 1.0 0.0 0.0 41.0 nan]\n",
      " [1.0 0.0 0.0 1.0 49.0 47.0]\n",
      " [1.0 0.0 0.0 1.0 33.0 57.0]\n",
      " [1.0 0.0 0.0 1.0 26.0 31.0]\n",
      " [0.0 1.0 0.0 0.0 39.0 78.0]\n",
      " [0.0 1.0 0.0 0.0 39.0 33.0]\n",
      " [1.0 0.0 1.0 0.0 34.0 93.0]]\n",
      "[0 0 0 0 1 0 1 0]\n"
     ]
    }
   ],
   "source": [
    "print(x_train)\n",
    "print(y_train)"
   ]
  },
  {
   "cell_type": "code",
   "execution_count": 31,
   "id": "32ef405f",
   "metadata": {},
   "outputs": [
    {
     "name": "stdout",
     "output_type": "stream",
     "text": [
      "[[0.0 1.0 0.0 0.0 nan 39.0]\n",
      " [0.0 1.0 0.0 0.0 nan 35.0]]\n"
     ]
    }
   ],
   "source": [
    "print(x_test)"
   ]
  },
  {
   "cell_type": "code",
   "execution_count": null,
   "id": "23f4d6dc",
   "metadata": {},
   "outputs": [],
   "source": []
  }
 ],
 "metadata": {
  "kernelspec": {
   "display_name": "Python 3 (ipykernel)",
   "language": "python",
   "name": "python3"
  },
  "language_info": {
   "codemirror_mode": {
    "name": "ipython",
    "version": 3
   },
   "file_extension": ".py",
   "mimetype": "text/x-python",
   "name": "python",
   "nbconvert_exporter": "python",
   "pygments_lexer": "ipython3",
   "version": "3.9.7"
  }
 },
 "nbformat": 4,
 "nbformat_minor": 5
}
