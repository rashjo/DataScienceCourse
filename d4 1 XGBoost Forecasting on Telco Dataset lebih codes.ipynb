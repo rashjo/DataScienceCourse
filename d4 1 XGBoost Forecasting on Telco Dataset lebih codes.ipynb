{
 "cells": [
  {
   "cell_type": "code",
   "execution_count": 4,
   "id": "f1c947c1",
   "metadata": {},
   "outputs": [
    {
     "name": "stderr",
     "output_type": "stream",
     "text": [
      "C:\\Users\\asusZ\\anaconda3\\lib\\site-packages\\xgboost\\compat.py:36: FutureWarning: pandas.Int64Index is deprecated and will be removed from pandas in a future version. Use pandas.Index with the appropriate dtype instead.\n",
      "  from pandas import MultiIndex, Int64Index\n"
     ]
    }
   ],
   "source": [
    "# Importing Libraries:\n",
    "import pandas as pd\n",
    "import numpy as np\n",
    "import xgboost as xgb\n",
    "\n",
    "from sklearn.metrics import accuracy_score\n",
    "from sklearn import preprocessing\n",
    "\n",
    "from sklearn.model_selection import train_test_split\n",
    "\n",
    "import matplotlib\n",
    "import matplotlib.pyplot as plt\n",
    "import seaborn as sns\n",
    "\n",
    "import warnings\n",
    "warnings.filterwarnings('ignore')\n",
    "\n",
    "%matplotlib inline"
   ]
  },
  {
   "cell_type": "code",
   "execution_count": 5,
   "id": "3644627b",
   "metadata": {},
   "outputs": [],
   "source": [
    "# ingesting data\n",
    "df = pd.read_csv(\"Telco Data.csv\")"
   ]
  },
  {
   "cell_type": "code",
   "execution_count": 6,
   "id": "9fa246ec",
   "metadata": {},
   "outputs": [
    {
     "data": {
      "text/html": [
       "<div>\n",
       "<style scoped>\n",
       "    .dataframe tbody tr th:only-of-type {\n",
       "        vertical-align: middle;\n",
       "    }\n",
       "\n",
       "    .dataframe tbody tr th {\n",
       "        vertical-align: top;\n",
       "    }\n",
       "\n",
       "    .dataframe thead th {\n",
       "        text-align: right;\n",
       "    }\n",
       "</style>\n",
       "<table border=\"1\" class=\"dataframe\">\n",
       "  <thead>\n",
       "    <tr style=\"text-align: right;\">\n",
       "      <th></th>\n",
       "      <th>region</th>\n",
       "      <th>tenure</th>\n",
       "      <th>age</th>\n",
       "      <th>marital</th>\n",
       "      <th>address</th>\n",
       "      <th>income</th>\n",
       "      <th>education</th>\n",
       "      <th>employ</th>\n",
       "      <th>retire</th>\n",
       "      <th>gender</th>\n",
       "      <th>...</th>\n",
       "      <th>confer</th>\n",
       "      <th>ebill</th>\n",
       "      <th>loglong</th>\n",
       "      <th>logtoll</th>\n",
       "      <th>logequi</th>\n",
       "      <th>logcard</th>\n",
       "      <th>logwire</th>\n",
       "      <th>lninc</th>\n",
       "      <th>custcat</th>\n",
       "      <th>unsubscribe</th>\n",
       "    </tr>\n",
       "  </thead>\n",
       "  <tbody>\n",
       "    <tr>\n",
       "      <th>0</th>\n",
       "      <td>2</td>\n",
       "      <td>13</td>\n",
       "      <td>44</td>\n",
       "      <td>1</td>\n",
       "      <td>9</td>\n",
       "      <td>64</td>\n",
       "      <td>4</td>\n",
       "      <td>5</td>\n",
       "      <td>0</td>\n",
       "      <td>0</td>\n",
       "      <td>...</td>\n",
       "      <td>0</td>\n",
       "      <td>0</td>\n",
       "      <td>1.308</td>\n",
       "      <td>NaN</td>\n",
       "      <td>NaN</td>\n",
       "      <td>2.015</td>\n",
       "      <td>NaN</td>\n",
       "      <td>4.159</td>\n",
       "      <td>1</td>\n",
       "      <td>1</td>\n",
       "    </tr>\n",
       "    <tr>\n",
       "      <th>1</th>\n",
       "      <td>3</td>\n",
       "      <td>11</td>\n",
       "      <td>33</td>\n",
       "      <td>1</td>\n",
       "      <td>7</td>\n",
       "      <td>136</td>\n",
       "      <td>5</td>\n",
       "      <td>5</td>\n",
       "      <td>0</td>\n",
       "      <td>0</td>\n",
       "      <td>...</td>\n",
       "      <td>1</td>\n",
       "      <td>0</td>\n",
       "      <td>1.482</td>\n",
       "      <td>3.033</td>\n",
       "      <td>NaN</td>\n",
       "      <td>2.725</td>\n",
       "      <td>3.575</td>\n",
       "      <td>4.913</td>\n",
       "      <td>4</td>\n",
       "      <td>1</td>\n",
       "    </tr>\n",
       "    <tr>\n",
       "      <th>2</th>\n",
       "      <td>3</td>\n",
       "      <td>68</td>\n",
       "      <td>52</td>\n",
       "      <td>1</td>\n",
       "      <td>24</td>\n",
       "      <td>116</td>\n",
       "      <td>1</td>\n",
       "      <td>29</td>\n",
       "      <td>0</td>\n",
       "      <td>1</td>\n",
       "      <td>...</td>\n",
       "      <td>1</td>\n",
       "      <td>0</td>\n",
       "      <td>2.899</td>\n",
       "      <td>2.890</td>\n",
       "      <td>NaN</td>\n",
       "      <td>3.409</td>\n",
       "      <td>NaN</td>\n",
       "      <td>4.754</td>\n",
       "      <td>3</td>\n",
       "      <td>0</td>\n",
       "    </tr>\n",
       "    <tr>\n",
       "      <th>3</th>\n",
       "      <td>2</td>\n",
       "      <td>33</td>\n",
       "      <td>33</td>\n",
       "      <td>0</td>\n",
       "      <td>12</td>\n",
       "      <td>33</td>\n",
       "      <td>2</td>\n",
       "      <td>0</td>\n",
       "      <td>0</td>\n",
       "      <td>1</td>\n",
       "      <td>...</td>\n",
       "      <td>0</td>\n",
       "      <td>0</td>\n",
       "      <td>2.246</td>\n",
       "      <td>NaN</td>\n",
       "      <td>NaN</td>\n",
       "      <td>NaN</td>\n",
       "      <td>NaN</td>\n",
       "      <td>3.497</td>\n",
       "      <td>1</td>\n",
       "      <td>1</td>\n",
       "    </tr>\n",
       "    <tr>\n",
       "      <th>4</th>\n",
       "      <td>2</td>\n",
       "      <td>23</td>\n",
       "      <td>30</td>\n",
       "      <td>1</td>\n",
       "      <td>9</td>\n",
       "      <td>30</td>\n",
       "      <td>1</td>\n",
       "      <td>2</td>\n",
       "      <td>0</td>\n",
       "      <td>0</td>\n",
       "      <td>...</td>\n",
       "      <td>1</td>\n",
       "      <td>0</td>\n",
       "      <td>1.841</td>\n",
       "      <td>NaN</td>\n",
       "      <td>NaN</td>\n",
       "      <td>NaN</td>\n",
       "      <td>NaN</td>\n",
       "      <td>3.401</td>\n",
       "      <td>3</td>\n",
       "      <td>0</td>\n",
       "    </tr>\n",
       "  </tbody>\n",
       "</table>\n",
       "<p>5 rows × 42 columns</p>\n",
       "</div>"
      ],
      "text/plain": [
       "   region  tenure  age  marital  address  income  education  employ  retire  \\\n",
       "0       2      13   44        1        9      64          4       5       0   \n",
       "1       3      11   33        1        7     136          5       5       0   \n",
       "2       3      68   52        1       24     116          1      29       0   \n",
       "3       2      33   33        0       12      33          2       0       0   \n",
       "4       2      23   30        1        9      30          1       2       0   \n",
       "\n",
       "   gender  ...  confer  ebill  loglong  logtoll  logequi  logcard  logwire  \\\n",
       "0       0  ...       0      0    1.308      NaN      NaN    2.015      NaN   \n",
       "1       0  ...       1      0    1.482    3.033      NaN    2.725    3.575   \n",
       "2       1  ...       1      0    2.899    2.890      NaN    3.409      NaN   \n",
       "3       1  ...       0      0    2.246      NaN      NaN      NaN      NaN   \n",
       "4       0  ...       1      0    1.841      NaN      NaN      NaN      NaN   \n",
       "\n",
       "   lninc  custcat  unsubscribe  \n",
       "0  4.159        1            1  \n",
       "1  4.913        4            1  \n",
       "2  4.754        3            0  \n",
       "3  3.497        1            1  \n",
       "4  3.401        3            0  \n",
       "\n",
       "[5 rows x 42 columns]"
      ]
     },
     "execution_count": 6,
     "metadata": {},
     "output_type": "execute_result"
    }
   ],
   "source": [
    "df.head()"
   ]
  },
  {
   "cell_type": "code",
   "execution_count": null,
   "id": "aa5571f2",
   "metadata": {},
   "outputs": [],
   "source": [
    "df.describe() # some informative information on the dataset"
   ]
  },
  {
   "cell_type": "code",
   "execution_count": 7,
   "id": "f5ca1359",
   "metadata": {
    "scrolled": true
   },
   "outputs": [
    {
     "data": {
      "text/plain": [
       "region           0\n",
       "tenure           0\n",
       "age              0\n",
       "marital          0\n",
       "address          0\n",
       "income           0\n",
       "education        0\n",
       "employ           0\n",
       "retire           0\n",
       "gender           0\n",
       "reside           0\n",
       "tollfree         0\n",
       "equip            0\n",
       "callcard         0\n",
       "wireless         0\n",
       "longmon          0\n",
       "tollmon          0\n",
       "equipmon         0\n",
       "cardmon          0\n",
       "wiremon          0\n",
       "longten          0\n",
       "tollten          0\n",
       "equipten         0\n",
       "cardten          0\n",
       "wireten          0\n",
       "multline         0\n",
       "voice            0\n",
       "pager            0\n",
       "internet         0\n",
       "callid           0\n",
       "callwait         0\n",
       "forward          0\n",
       "confer           0\n",
       "ebill            0\n",
       "loglong          0\n",
       "logtoll        525\n",
       "logequi        614\n",
       "logcard        322\n",
       "logwire        704\n",
       "lninc            0\n",
       "custcat          0\n",
       "unsubscribe      0\n",
       "dtype: int64"
      ]
     },
     "execution_count": 7,
     "metadata": {},
     "output_type": "execute_result"
    }
   ],
   "source": [
    "df.isna().sum() #finding attributes with missing cells"
   ]
  },
  {
   "cell_type": "code",
   "execution_count": 8,
   "id": "27d09b12",
   "metadata": {},
   "outputs": [
    {
     "name": "stdout",
     "output_type": "stream",
     "text": [
      "<class 'pandas.core.frame.DataFrame'>\n",
      "RangeIndex: 1000 entries, 0 to 999\n",
      "Data columns (total 42 columns):\n",
      " #   Column       Non-Null Count  Dtype  \n",
      "---  ------       --------------  -----  \n",
      " 0   region       1000 non-null   int64  \n",
      " 1   tenure       1000 non-null   int64  \n",
      " 2   age          1000 non-null   int64  \n",
      " 3   marital      1000 non-null   int64  \n",
      " 4   address      1000 non-null   int64  \n",
      " 5   income       1000 non-null   int64  \n",
      " 6   education    1000 non-null   int64  \n",
      " 7   employ       1000 non-null   int64  \n",
      " 8   retire       1000 non-null   int64  \n",
      " 9   gender       1000 non-null   int64  \n",
      " 10  reside       1000 non-null   int64  \n",
      " 11  tollfree     1000 non-null   int64  \n",
      " 12  equip        1000 non-null   int64  \n",
      " 13  callcard     1000 non-null   int64  \n",
      " 14  wireless     1000 non-null   int64  \n",
      " 15  longmon      1000 non-null   float64\n",
      " 16  tollmon      1000 non-null   float64\n",
      " 17  equipmon     1000 non-null   float64\n",
      " 18  cardmon      1000 non-null   float64\n",
      " 19  wiremon      1000 non-null   float64\n",
      " 20  longten      1000 non-null   float64\n",
      " 21  tollten      1000 non-null   float64\n",
      " 22  equipten     1000 non-null   float64\n",
      " 23  cardten      1000 non-null   float64\n",
      " 24  wireten      1000 non-null   float64\n",
      " 25  multline     1000 non-null   int64  \n",
      " 26  voice        1000 non-null   int64  \n",
      " 27  pager        1000 non-null   int64  \n",
      " 28  internet     1000 non-null   int64  \n",
      " 29  callid       1000 non-null   int64  \n",
      " 30  callwait     1000 non-null   int64  \n",
      " 31  forward      1000 non-null   int64  \n",
      " 32  confer       1000 non-null   int64  \n",
      " 33  ebill        1000 non-null   int64  \n",
      " 34  loglong      1000 non-null   float64\n",
      " 35  logtoll      475 non-null    float64\n",
      " 36  logequi      386 non-null    float64\n",
      " 37  logcard      678 non-null    float64\n",
      " 38  logwire      296 non-null    float64\n",
      " 39  lninc        1000 non-null   float64\n",
      " 40  custcat      1000 non-null   int64  \n",
      " 41  unsubscribe  1000 non-null   int64  \n",
      "dtypes: float64(16), int64(26)\n",
      "memory usage: 328.2 KB\n"
     ]
    }
   ],
   "source": [
    "df.info() #further information on the dataset"
   ]
  },
  {
   "cell_type": "code",
   "execution_count": 9,
   "id": "8826db54",
   "metadata": {},
   "outputs": [],
   "source": [
    "# dropping columns with missing cells\n",
    "df = df.drop(['logtoll', 'logequi', 'logcard', 'logwire'], axis = 1)"
   ]
  },
  {
   "cell_type": "code",
   "execution_count": 10,
   "id": "d548fa15",
   "metadata": {},
   "outputs": [],
   "source": [
    "y = df['unsubscribe']\n",
    "df2 = df.drop(['unsubscribe'], axis = 1)"
   ]
  },
  {
   "cell_type": "code",
   "execution_count": 11,
   "id": "bf7c73c5",
   "metadata": {},
   "outputs": [
    {
     "data": {
      "text/plain": [
       "region           3\n",
       "tenure          72\n",
       "age             60\n",
       "marital          2\n",
       "address         50\n",
       "income         218\n",
       "education        5\n",
       "employ          46\n",
       "retire           2\n",
       "gender           2\n",
       "reside           8\n",
       "tollfree         2\n",
       "equip            2\n",
       "callcard         2\n",
       "wireless         2\n",
       "longmon        425\n",
       "tollmon        162\n",
       "equipmon       310\n",
       "cardmon        176\n",
       "wiremon        263\n",
       "longten        960\n",
       "tollten        473\n",
       "equipten       386\n",
       "cardten        338\n",
       "wireten        297\n",
       "multline         2\n",
       "voice            2\n",
       "pager            2\n",
       "internet         2\n",
       "callid           2\n",
       "callwait         2\n",
       "forward          2\n",
       "confer           2\n",
       "ebill            2\n",
       "loglong        425\n",
       "lninc          218\n",
       "custcat          4\n",
       "unsubscribe      2\n",
       "dtype: int64"
      ]
     },
     "execution_count": 11,
     "metadata": {},
     "output_type": "execute_result"
    }
   ],
   "source": [
    "df.nunique()"
   ]
  },
  {
   "cell_type": "code",
   "execution_count": 12,
   "id": "36a00114",
   "metadata": {},
   "outputs": [
    {
     "data": {
      "text/plain": [
       "<AxesSubplot:title={'center':'Correlation with Churn'}>"
      ]
     },
     "execution_count": 12,
     "metadata": {},
     "output_type": "execute_result"
    },
    {
     "data": {
      "image/png": "[encoded data removed]",
      "text/plain": [
       "<Figure size 2160x1080 with 1 Axes>"
      ]
     },
     "metadata": {
      "needs_background": "light"
     },
     "output_type": "display_data"
    }
   ],
   "source": [
    "# Drop columns with less unique values:\n",
    "df3 = df2.drop(['ebill','confer', 'forward', 'callwait', 'callid', 'internet', 'pager', 'voice', 'multline', 'wireless', 'callcard', 'equip', 'tollfree', 'gender', 'retire', 'marital'], axis=1)\n",
    "df3.corrwith(df['unsubscribe']).sort_values(ascending = False).plot.bar(\n",
    "figsize= (30, 15), title = 'Correlation with Churn', fontsize= 20, rot = 45, grid = True)"
   ]
  },
  {
   "cell_type": "code",
   "execution_count": 13,
   "id": "755b6135",
   "metadata": {},
   "outputs": [
    {
     "name": "stdout",
     "output_type": "stream",
     "text": [
      "[15:17:47] WARNING: D:\\bld\\xgboost-split_1645118015404\\work\\src\\learner.cc:1115: Starting in XGBoost 1.3.0, the default evaluation metric used with the objective 'binary:logistic' was changed from 'error' to 'logloss'. Explicitly set eval_metric if you'd like to restore the old behavior.\n"
     ]
    },
    {
     "data": {
      "image/png": "[encoded data removed]",
      "text/plain": [
       "<Figure size 864x1296 with 1 Axes>"
      ]
     },
     "metadata": {
      "needs_background": "light"
     },
     "output_type": "display_data"
    }
   ],
   "source": [
    "#Feature Importance:\n",
    "clf = xgb.XGBClassifier(max_depth=7, n_estimators=100,colsample_bytree=0.8, subsample=0.8, nthread=10, learning_rate=0.05)\n",
    "clf.fit(df3, y)\n",
    "# plot the important features #\n",
    "fig, ax = plt.subplots(figsize=(12,18))\n",
    "xgb.plot_importance(clf, max_num_features=50, height=0.8, ax=ax)\n",
    "plt.show()"
   ]
  },
  {
   "cell_type": "code",
   "execution_count": null,
   "id": "289e29fc",
   "metadata": {},
   "outputs": [],
   "source": []
  },
  {
   "cell_type": "markdown",
   "id": "a1d66b1d",
   "metadata": {},
   "source": [
    "the longer a customer's tenure, the more loyal he/she is. 1 year customers(new) more likely to unsubscribe than not unsubscribe.\n",
    "Strategy needed for new customer retainment"
   ]
  },
  {
   "cell_type": "code",
   "execution_count": null,
   "id": "f2ede5ca",
   "metadata": {},
   "outputs": [],
   "source": [
    "pd.crosstab(pd.qcut(df['tenure'], q=6, labels = ['1yr','2yr','3yr','4yr','5yr','6yr']), df.unsubscribe.plot(kind='bar',rot=45))\n",
    "plt.title('Tenure vs unsubscribe')\n",
    "plt.xlabel('tenure')\n",
    "plt.ylabel('frequenct=y of unsubscribe')\n",
    "plt.savefig('Tenure vs unsubscribe')"
   ]
  },
  {
   "cell_type": "code",
   "execution_count": null,
   "id": "0cac98ee",
   "metadata": {},
   "outputs": [],
   "source": [
    "pd.crosstab(df.callcard, df.unsubscribe).plot(kind='bar')\n",
    "plt.title('Tenure vs unsubscribe')\n",
    "plt.xlabel('tenure')\n",
    "plt.ylabel('frequenct=y of unsubscribe')\n",
    "plt.savefig('Tenure vs unsubscribe')"
   ]
  },
  {
   "cell_type": "code",
   "execution_count": null,
   "id": "a44874bf",
   "metadata": {},
   "outputs": [],
   "source": [
    "labels='unsubscribe', 'retained'\n",
    "sizes = [df.unsubscribe[df[unsubscribe]==1].count(), df.unsubscribe[df[unsubscribe]==0].count()]\n",
    "explode = (0.1,0)\n",
    "fig1, ax1 = plt.subplots(figsize=(10,8))\n",
    "ax1.pie(sizes,explode=explode, labels=labels, autopct='%1.1f%%', shadow=True, startangle=90)\n",
    "plt.axis('equal')\n",
    "plt.title('proportion of customer unsubscribed and retained', size=20)\n",
    "plt.show()\n",
    "\n",
    "# for duration of this dataset, the unsubscribe rate is 27.4%"
   ]
  },
  {
   "cell_type": "code",
   "execution_count": null,
   "id": "bb6812b5",
   "metadata": {},
   "outputs": [],
   "source": [
    "corrmat = df.corr(method='pearson')\n",
    "f, ax=plt.subplots(figsize=(12,12))\n",
    "\n",
    "# draw the heatmap using seaborn\n",
    "sns.heatmap(corrmat, vmax=1, square=True)\n",
    "plt.title('important variable correlation map', size=20)\n",
    "plt.show()\n"
   ]
  }
 ],
 "metadata": {
  "kernelspec": {
   "display_name": "Python 3 (ipykernel)",
   "language": "python",
   "name": "python3"
  },
  "language_info": {
   "codemirror_mode": {
    "name": "ipython",
    "version": 3
   },
   "file_extension": ".py",
   "mimetype": "text/x-python",
   "name": "python",
   "nbconvert_exporter": "python",
   "pygments_lexer": "ipython3",
   "version": "3.9.12"
  }
 },
 "nbformat": 4,
 "nbformat_minor": 5
}
