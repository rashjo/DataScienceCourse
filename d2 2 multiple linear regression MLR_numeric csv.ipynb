{
 "cells": [
  {
   "cell_type": "code",
   "execution_count": 1,
   "id": "02a3b699",
   "metadata": {},
   "outputs": [],
   "source": [
    "#import libraries\n",
    "import numpy as np\n",
    "import matplotlib.pyplot as plt\n",
    "import pandas as pd"
   ]
  },
  {
   "cell_type": "code",
   "execution_count": 2,
   "id": "f6da4225",
   "metadata": {},
   "outputs": [
    {
     "data": {
      "text/html": [
       "<div>\n",
       "<style scoped>\n",
       "    .dataframe tbody tr th:only-of-type {\n",
       "        vertical-align: middle;\n",
       "    }\n",
       "\n",
       "    .dataframe tbody tr th {\n",
       "        vertical-align: top;\n",
       "    }\n",
       "\n",
       "    .dataframe thead th {\n",
       "        text-align: right;\n",
       "    }\n",
       "</style>\n",
       "<table border=\"1\" class=\"dataframe\">\n",
       "  <thead>\n",
       "    <tr style=\"text-align: right;\">\n",
       "      <th></th>\n",
       "      <th>S&amp;P department (spend)</th>\n",
       "      <th>Admin department(spend)</th>\n",
       "      <th>Operation department(spend)</th>\n",
       "      <th>Profit</th>\n",
       "    </tr>\n",
       "  </thead>\n",
       "  <tbody>\n",
       "    <tr>\n",
       "      <th>0</th>\n",
       "      <td>101184</td>\n",
       "      <td>70674</td>\n",
       "      <td>97009</td>\n",
       "      <td>259480</td>\n",
       "    </tr>\n",
       "    <tr>\n",
       "      <th>1</th>\n",
       "      <td>70132</td>\n",
       "      <td>52030</td>\n",
       "      <td>63587</td>\n",
       "      <td>137019</td>\n",
       "    </tr>\n",
       "    <tr>\n",
       "      <th>2</th>\n",
       "      <td>149539</td>\n",
       "      <td>98535</td>\n",
       "      <td>199994</td>\n",
       "      <td>495552</td>\n",
       "    </tr>\n",
       "    <tr>\n",
       "      <th>3</th>\n",
       "      <td>75821</td>\n",
       "      <td>53649</td>\n",
       "      <td>66500</td>\n",
       "      <td>165057</td>\n",
       "    </tr>\n",
       "    <tr>\n",
       "      <th>4</th>\n",
       "      <td>97730</td>\n",
       "      <td>68667</td>\n",
       "      <td>91754</td>\n",
       "      <td>247841</td>\n",
       "    </tr>\n",
       "  </tbody>\n",
       "</table>\n",
       "</div>"
      ],
      "text/plain": [
       "   S&P department (spend)  Admin department(spend)  \\\n",
       "0                  101184                    70674   \n",
       "1                   70132                    52030   \n",
       "2                  149539                    98535   \n",
       "3                   75821                    53649   \n",
       "4                   97730                    68667   \n",
       "\n",
       "   Operation department(spend)  Profit  \n",
       "0                        97009  259480  \n",
       "1                        63587  137019  \n",
       "2                       199994  495552  \n",
       "3                        66500  165057  \n",
       "4                        91754  247841  "
      ]
     },
     "execution_count": 2,
     "metadata": {},
     "output_type": "execute_result"
    }
   ],
   "source": [
    "ds=pd.read_csv('MLR_numeric.csv')\n",
    "ds.head()"
   ]
  },
  {
   "cell_type": "code",
   "execution_count": 3,
   "id": "987b7ffb",
   "metadata": {},
   "outputs": [
    {
     "name": "stdout",
     "output_type": "stream",
     "text": [
      "<class 'pandas.core.frame.DataFrame'>\n",
      "RangeIndex: 50 entries, 0 to 49\n",
      "Data columns (total 4 columns):\n",
      " #   Column                       Non-Null Count  Dtype\n",
      "---  ------                       --------------  -----\n",
      " 0   S&P department (spend)       50 non-null     int64\n",
      " 1   Admin department(spend)      50 non-null     int64\n",
      " 2   Operation department(spend)  50 non-null     int64\n",
      " 3   Profit                       50 non-null     int64\n",
      "dtypes: int64(4)\n",
      "memory usage: 1.7 KB\n"
     ]
    }
   ],
   "source": [
    "ds.info()"
   ]
  },
  {
   "cell_type": "code",
   "execution_count": 4,
   "id": "ad94bee0",
   "metadata": {},
   "outputs": [],
   "source": [
    "#x=ds.iloc[:,:-1].values #Volume\n",
    "x=ds.iloc[:,0:3].values #Volume\n",
    "#x=ds.iloc[:,[0,1,2]].values \n",
    "#y=ds.iloc[:,3].values #Price\n",
    "y=ds.iloc[:,-1].values #Volume\n",
    "#print(x)\n",
    "#print(y)"
   ]
  },
  {
   "cell_type": "code",
   "execution_count": 5,
   "id": "8791bf73",
   "metadata": {},
   "outputs": [
    {
     "name": "stdout",
     "output_type": "stream",
     "text": [
      "                             S&P department (spend)  Admin department(spend)  \\\n",
      "S&P department (spend)                     1.000000                 0.984560   \n",
      "Admin department(spend)                    0.984560                 1.000000   \n",
      "Operation department(spend)                0.976437                 0.980723   \n",
      "Profit                                     0.982576                 0.993823   \n",
      "\n",
      "                             Operation department(spend)    Profit  \n",
      "S&P department (spend)                          0.976437  0.982576  \n",
      "Admin department(spend)                         0.980723  0.993823  \n",
      "Operation department(spend)                     1.000000  0.975566  \n",
      "Profit                                          0.975566  1.000000  \n"
     ]
    }
   ],
   "source": [
    "#calculate the correlation coefficient for the dataset\n",
    "corr = ds.corr()\n",
    "print(corr)"
   ]
  },
  {
   "cell_type": "code",
   "execution_count": 6,
   "id": "8a5ae1d6",
   "metadata": {},
   "outputs": [],
   "source": [
    "#splitting the dataset into training and test sets\n",
    "from sklearn.model_selection import train_test_split\n",
    "x_train, x_test, y_train, y_test = train_test_split(x, y, test_size = 0.2, random_state = 0)"
   ]
  },
  {
   "cell_type": "code",
   "execution_count": 7,
   "id": "e8fb2a43",
   "metadata": {},
   "outputs": [
    {
     "name": "stdout",
     "output_type": "stream",
     "text": [
      "Coefficients,beta: [ 0.74568222  6.6837466  -0.17261534]\n",
      "Constant,alpha: [-245992.40257836]\n"
     ]
    }
   ],
   "source": [
    "# multiple linear regression - step 2 \n",
    "#Fitting simple linear regression to training set\n",
    "from sklearn.linear_model import LinearRegression\n",
    "regressor=LinearRegression()\n",
    "regressor.fit(x_train,y_train)\n",
    "print('Coefficients,beta:', regressor.coef_)\n",
    "print('Constant,alpha:', regressor.predict([[0,0,0]])) # y= mx1 + mx2 + mx3 + c"
   ]
  },
  {
   "cell_type": "code",
   "execution_count": 8,
   "id": "c67eeb1d",
   "metadata": {},
   "outputs": [
    {
     "name": "stdout",
     "output_type": "stream",
     "text": [
      "[474262.32345618 311167.2377158  182212.30728899 254661.21837792\n",
      " 489577.11092428 388254.76244367 216897.80322374 227697.88060702\n",
      " 456234.34442673 269997.80127102]\n",
      "[466013 305250 188824 241206 495552 397289 222793 229567 438294 247841]\n"
     ]
    }
   ],
   "source": [
    "#Predicting the results for test set\n",
    "y_pred=regressor.predict(x_test)\n",
    "print(y_pred) # predicted\n",
    "print(y_test) # actual"
   ]
  },
  {
   "cell_type": "code",
   "execution_count": 9,
   "id": "e1c57961",
   "metadata": {},
   "outputs": [
    {
     "name": "stdout",
     "output_type": "stream",
     "text": [
      "[[1.         0.99521366]\n",
      " [0.99521366 1.        ]]\n"
     ]
    }
   ],
   "source": [
    "#calculate the correlation coefficient\n",
    "corr=np.corrcoef(y_pred, y_test)\n",
    "print(corr)"
   ]
  },
  {
   "cell_type": "code",
   "execution_count": 10,
   "id": "d7c0ed03",
   "metadata": {},
   "outputs": [
    {
     "name": "stdout",
     "output_type": "stream",
     "text": [
      "129616592.25129478\n"
     ]
    }
   ],
   "source": [
    "from sklearn.metrics import mean_squared_error\n",
    "MSE = mean_squared_error(y_test, y_pred)\n",
    "print(MSE) # MSE to compare 2 model"
   ]
  },
  {
   "cell_type": "code",
   "execution_count": 11,
   "id": "5197aaeb",
   "metadata": {},
   "outputs": [
    {
     "name": "stdout",
     "output_type": "stream",
     "text": [
      "             Actual  Predicted\n",
      "Actual     1.000000   0.995214\n",
      "Predicted  0.995214   1.000000\n"
     ]
    }
   ],
   "source": [
    "df = pd.DataFrame({'Actual':y_test, 'Predicted':y_pred})\n",
    "corr = df.corr()\n",
    "print(corr)"
   ]
  },
  {
   "cell_type": "code",
   "execution_count": 12,
   "id": "31d3496f",
   "metadata": {},
   "outputs": [
    {
     "name": "stdout",
     "output_type": "stream",
     "text": [
      "[173811.18025181]\n"
     ]
    }
   ],
   "source": [
    "y_pred=regressor.predict([[90020,55200,94230]])\n",
    "print(y_pred)"
   ]
  },
  {
   "cell_type": "code",
   "execution_count": null,
   "id": "45c1cbaa",
   "metadata": {},
   "outputs": [],
   "source": []
  },
  {
   "cell_type": "code",
   "execution_count": null,
   "id": "cf475655",
   "metadata": {},
   "outputs": [],
   "source": []
  },
  {
   "cell_type": "code",
   "execution_count": null,
   "id": "a6ebc199",
   "metadata": {},
   "outputs": [],
   "source": []
  },
  {
   "cell_type": "code",
   "execution_count": null,
   "id": "06f5be46",
   "metadata": {},
   "outputs": [],
   "source": []
  }
 ],
 "metadata": {
  "kernelspec": {
   "display_name": "Python 3 (ipykernel)",
   "language": "python",
   "name": "python3"
  },
  "language_info": {
   "codemirror_mode": {
    "name": "ipython",
    "version": 3
   },
   "file_extension": ".py",
   "mimetype": "text/x-python",
   "name": "python",
   "nbconvert_exporter": "python",
   "pygments_lexer": "ipython3",
   "version": "3.9.12"
  }
 },
 "nbformat": 4,
 "nbformat_minor": 5
}
